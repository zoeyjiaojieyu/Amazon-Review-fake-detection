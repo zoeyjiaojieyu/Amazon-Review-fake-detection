{
 "cells": [
  {
   "cell_type": "code",
   "execution_count": 1,
   "metadata": {},
   "outputs": [
    {
     "data": {
      "text/html": [
       "Current session configs: <tt>{'conf': {'spark.pyspark.python': 'python3', 'spark.pyspark.virtualenv.enabled': 'true', 'spark.pyspark.virtualenv.type': 'native', 'spark.pyspark.virtualenv.bin.path': '/usr/bin/virtualenv'}, 'proxyUser': 'jovyan', 'kind': 'pyspark'}</tt><br>"
      ],
      "text/plain": [
       "<IPython.core.display.HTML object>"
      ]
     },
     "metadata": {},
     "output_type": "display_data"
    },
    {
     "data": {
      "text/html": [
       "No active sessions."
      ],
      "text/plain": [
       "<IPython.core.display.HTML object>"
      ]
     },
     "metadata": {},
     "output_type": "display_data"
    }
   ],
   "source": [
    "%%configure -f\n",
    "{\n",
    "    \"conf\": {\n",
    "        \"spark.pyspark.python\": \"python3\",\n",
    "        \"spark.pyspark.virtualenv.enabled\": \"true\",\n",
    "        \"spark.pyspark.virtualenv.type\":\"native\",\n",
    "        \"spark.pyspark.virtualenv.bin.path\":\"/usr/bin/virtualenv\"\n",
    "    }\n",
    "}"
   ]
  },
  {
   "cell_type": "code",
   "execution_count": 2,
   "metadata": {},
   "outputs": [
    {
     "name": "stdout",
     "output_type": "stream",
     "text": [
      "Starting Spark application\n"
     ]
    },
    {
     "data": {
      "text/html": [
       "<table>\n",
       "<tr><th>ID</th><th>YARN Application ID</th><th>Kind</th><th>State</th><th>Spark UI</th><th>Driver log</th><th>Current session?</th></tr><tr><td>0</td><td>application_1685072407215_0002</td><td>pyspark</td><td>idle</td><td><a target=\"_blank\" href=\"http://ip-172-31-26-235.ec2.internal:20888/proxy/application_1685072407215_0002/\">Link</a></td><td><a target=\"_blank\" href=\"http://ip-172-31-25-135.ec2.internal:8042/node/containerlogs/container_1685072407215_0002_01_000001/livy\">Link</a></td><td>✔</td></tr></table>"
      ],
      "text/plain": [
       "<IPython.core.display.HTML object>"
      ]
     },
     "metadata": {},
     "output_type": "display_data"
    },
    {
     "data": {
      "application/vnd.jupyter.widget-view+json": {
       "model_id": "",
       "version_major": 2,
       "version_minor": 0
      },
      "text/plain": [
       "FloatProgress(value=0.0, bar_style='info', description='Progress:', layout=Layout(height='25px', width='50%'),…"
      ]
     },
     "metadata": {},
     "output_type": "display_data"
    },
    {
     "name": "stdout",
     "output_type": "stream",
     "text": [
      "SparkSession available as 'spark'.\n"
     ]
    },
    {
     "data": {
      "application/vnd.jupyter.widget-view+json": {
       "model_id": "",
       "version_major": 2,
       "version_minor": 0
      },
      "text/plain": [
       "FloatProgress(value=0.0, bar_style='info', description='Progress:', layout=Layout(height='25px', width='50%'),…"
      ]
     },
     "metadata": {},
     "output_type": "display_data"
    },
    {
     "name": "stdout",
     "output_type": "stream",
     "text": [
      "Collecting boto3==1.19.2\n",
      "  Downloading https://files.pythonhosted.org/packages/59/60/163503f24cf09553d0bb6c37db9ff3254f6cda812cab00430602867d03f5/boto3-1.19.2-py3-none-any.whl (131kB)\n",
      "Collecting botocore<1.23.0,>=1.22.2 (from boto3==1.19.2)\n",
      "  Downloading https://files.pythonhosted.org/packages/6a/73/552b27e3a1b4f83630907c4958be78e9d4c906e73efd554ebd5e21cb1692/botocore-1.22.12-py3-none-any.whl (8.1MB)\n",
      "Collecting s3transfer<0.6.0,>=0.5.0 (from boto3==1.19.2)\n",
      "  Downloading https://files.pythonhosted.org/packages/7b/9c/f51775ebe7df5a7aa4e7c79ed671bde94e154bd968aca8d65bb24aba0c8c/s3transfer-0.5.2-py3-none-any.whl (79kB)\n",
      "Requirement already satisfied: jmespath<1.0.0,>=0.7.1 in /usr/local/lib/python3.7/site-packages (from boto3==1.19.2)\n",
      "Collecting urllib3<1.27,>=1.25.4 (from botocore<1.23.0,>=1.22.2->boto3==1.19.2)\n",
      "  Downloading https://files.pythonhosted.org/packages/c5/05/c214b32d21c0b465506f95c4f28ccbcba15022e000b043b72b3df7728471/urllib3-1.26.16-py2.py3-none-any.whl (143kB)\n",
      "Collecting python-dateutil<3.0.0,>=2.1 (from botocore<1.23.0,>=1.22.2->boto3==1.19.2)\n",
      "  Downloading https://files.pythonhosted.org/packages/36/7a/87837f39d0296e723bb9b62bbb257d0355c7f6128853c78955f57342a56d/python_dateutil-2.8.2-py2.py3-none-any.whl (247kB)\n",
      "Requirement already satisfied: six>=1.5 in /usr/local/lib/python3.7/site-packages (from python-dateutil<3.0.0,>=2.1->botocore<1.23.0,>=1.22.2->boto3==1.19.2)\n",
      "Installing collected packages: urllib3, python-dateutil, botocore, s3transfer, boto3\n",
      "Successfully installed boto3-1.19.2 botocore-1.22.12 python-dateutil-2.8.2 s3transfer-0.5.2 urllib3-1.26.16\n",
      "\n",
      "Collecting pandas==1.0.5\n",
      "  Downloading https://files.pythonhosted.org/packages/af/f3/683bf2547a3eaeec15b39cef86f61e921b3b187f250fcd2b5c5fb4386369/pandas-1.0.5-cp37-cp37m-manylinux1_x86_64.whl (10.1MB)\n",
      "Requirement already satisfied: numpy>=1.13.3 in /usr/local/lib64/python3.7/site-packages (from pandas==1.0.5)\n",
      "Requirement already satisfied: python-dateutil>=2.6.1 in /mnt/tmp/1685072855599-0/lib/python3.7/site-packages (from pandas==1.0.5)\n",
      "Requirement already satisfied: pytz>=2017.2 in /usr/local/lib/python3.7/site-packages (from pandas==1.0.5)\n",
      "Requirement already satisfied: six>=1.5 in /usr/local/lib/python3.7/site-packages (from python-dateutil>=2.6.1->pandas==1.0.5)\n",
      "Installing collected packages: pandas\n",
      "Successfully installed pandas-1.0.5\n",
      "\n",
      "Collecting scipy==1.4.1\n",
      "  Downloading https://files.pythonhosted.org/packages/dd/82/c1fe128f3526b128cfd185580ba40d01371c5d299fcf7f77968e22dfcc2e/scipy-1.4.1-cp37-cp37m-manylinux1_x86_64.whl (26.1MB)\n",
      "Requirement already satisfied: numpy>=1.13.3 in /usr/local/lib64/python3.7/site-packages (from scipy==1.4.1)\n",
      "Installing collected packages: scipy\n",
      "Successfully installed scipy-1.4.1\n",
      "\n",
      "Collecting matplotlib==3.2.1\n",
      "  Downloading https://files.pythonhosted.org/packages/b2/c2/71fcf957710f3ba1f09088b35776a799ba7dd95f7c2b195ec800933b276b/matplotlib-3.2.1-cp37-cp37m-manylinux1_x86_64.whl (12.4MB)\n",
      "Collecting pyparsing!=2.0.4,!=2.1.2,!=2.1.6,>=2.0.1 (from matplotlib==3.2.1)\n",
      "  Downloading https://files.pythonhosted.org/packages/6c/10/a7d0fa5baea8fe7b50f448ab742f26f52b80bfca85ac2be9d35cdd9a3246/pyparsing-3.0.9-py3-none-any.whl (98kB)\n",
      "Requirement already satisfied: python-dateutil>=2.1 in /mnt/tmp/1685072855599-0/lib/python3.7/site-packages (from matplotlib==3.2.1)\n",
      "Requirement already satisfied: numpy>=1.11 in /usr/local/lib64/python3.7/site-packages (from matplotlib==3.2.1)\n",
      "Collecting cycler>=0.10 (from matplotlib==3.2.1)\n",
      "  Downloading https://files.pythonhosted.org/packages/5c/f9/695d6bedebd747e5eb0fe8fad57b72fdf25411273a39791cde838d5a8f51/cycler-0.11.0-py3-none-any.whl\n",
      "Collecting kiwisolver>=1.0.1 (from matplotlib==3.2.1)\n",
      "  Downloading https://files.pythonhosted.org/packages/ab/8f/8dbe2d4efc4c0b08ec67d6efb7cc31fbfd688c80afad85f65980633b0d37/kiwisolver-1.4.4-cp37-cp37m-manylinux_2_5_x86_64.manylinux1_x86_64.whl (1.1MB)\n",
      "Requirement already satisfied: six>=1.5 in /usr/local/lib/python3.7/site-packages (from python-dateutil>=2.1->matplotlib==3.2.1)\n",
      "Collecting typing-extensions; python_version < \"3.8\" (from kiwisolver>=1.0.1->matplotlib==3.2.1)\n",
      "  Downloading https://files.pythonhosted.org/packages/38/60/300ad6f93adca578bf05d5f6cd1d854b7d140bebe2f9829561aa9977d9f3/typing_extensions-4.6.2-py3-none-any.whl\n",
      "Installing collected packages: pyparsing, cycler, typing-extensions, kiwisolver, matplotlib\n",
      "Successfully installed cycler-0.11.0 kiwisolver-1.4.4 matplotlib-3.2.1 pyparsing-3.0.9 typing-extensions-4.6.2\n",
      "\n",
      "Collecting seaborn==0.10.1\n",
      "  Downloading https://files.pythonhosted.org/packages/c7/e6/54aaaafd0b87f51dfba92ba73da94151aa3bc179e5fe88fc5dfb3038e860/seaborn-0.10.1-py3-none-any.whl (215kB)\n",
      "Requirement already satisfied: numpy>=1.13.3 in /usr/local/lib64/python3.7/site-packages (from seaborn==0.10.1)\n",
      "Requirement already satisfied: scipy>=1.0.1 in /mnt/tmp/1685072855599-0/lib/python3.7/site-packages (from seaborn==0.10.1)\n",
      "Requirement already satisfied: matplotlib>=2.1.2 in /mnt/tmp/1685072855599-0/lib/python3.7/site-packages (from seaborn==0.10.1)\n",
      "Requirement already satisfied: pandas>=0.22.0 in /mnt/tmp/1685072855599-0/lib/python3.7/site-packages (from seaborn==0.10.1)\n",
      "Requirement already satisfied: pyparsing!=2.0.4,!=2.1.2,!=2.1.6,>=2.0.1 in /mnt/tmp/1685072855599-0/lib/python3.7/site-packages (from matplotlib>=2.1.2->seaborn==0.10.1)\n",
      "Requirement already satisfied: python-dateutil>=2.1 in /mnt/tmp/1685072855599-0/lib/python3.7/site-packages (from matplotlib>=2.1.2->seaborn==0.10.1)\n",
      "Requirement already satisfied: cycler>=0.10 in /mnt/tmp/1685072855599-0/lib/python3.7/site-packages (from matplotlib>=2.1.2->seaborn==0.10.1)\n",
      "Requirement already satisfied: kiwisolver>=1.0.1 in /mnt/tmp/1685072855599-0/lib/python3.7/site-packages (from matplotlib>=2.1.2->seaborn==0.10.1)\n",
      "Requirement already satisfied: pytz>=2017.2 in /usr/local/lib/python3.7/site-packages (from pandas>=0.22.0->seaborn==0.10.1)\n",
      "Requirement already satisfied: six>=1.5 in /usr/local/lib/python3.7/site-packages (from python-dateutil>=2.1->matplotlib>=2.1.2->seaborn==0.10.1)\n",
      "Requirement already satisfied: typing-extensions; python_version < \"3.8\" in /mnt/tmp/1685072855599-0/lib/python3.7/site-packages (from kiwisolver>=1.0.1->matplotlib>=2.1.2->seaborn==0.10.1)\n",
      "Installing collected packages: seaborn\n",
      "Successfully installed seaborn-0.10.1\n",
      "\n",
      "Collecting textblob\n",
      "  Downloading https://files.pythonhosted.org/packages/44/a4/595b66c1342a830f4ff476307c4367541cce3e361b9ee96d22a5eeeddd1d/textblob-0.17.1-py2.py3-none-any.whl (636kB)\n",
      "Requirement already satisfied: nltk>=3.1; python_version >= \"3\" in /usr/local/lib/python3.7/site-packages (from textblob)\n",
      "Requirement already satisfied: click in /usr/local/lib64/python3.7/site-packages (from nltk>=3.1; python_version >= \"3\"->textblob)\n",
      "Requirement already satisfied: joblib in /usr/local/lib64/python3.7/site-packages (from nltk>=3.1; python_version >= \"3\"->textblob)\n",
      "Requirement already satisfied: regex in /usr/local/lib64/python3.7/site-packages (from nltk>=3.1; python_version >= \"3\"->textblob)\n",
      "Requirement already satisfied: tqdm in /usr/local/lib64/python3.7/site-packages (from nltk>=3.1; python_version >= \"3\"->textblob)\n",
      "Installing collected packages: textblob\n",
      "Successfully installed textblob-0.17.1\n",
      "\n",
      "Collecting pyspellchecker\n",
      "  Downloading https://files.pythonhosted.org/packages/74/2e/dd08caa20287695631e7267aa6ad0dbd1990cae32323db1620cc5cb549b0/pyspellchecker-0.7.2-py3-none-any.whl (3.4MB)\n",
      "Installing collected packages: pyspellchecker\n",
      "Successfully installed pyspellchecker-0.7.2"
     ]
    }
   ],
   "source": [
    "sc.install_pypi_package(\"boto3==1.19.2\")\n",
    "sc.install_pypi_package(\"pandas==1.0.5\")\n",
    "sc.install_pypi_package(\"scipy==1.4.1\")\n",
    "sc.install_pypi_package(\"matplotlib==3.2.1\")\n",
    "sc.install_pypi_package(\"seaborn==0.10.1\")\n",
    "sc.install_pypi_package(\"textblob\")\n",
    "sc.install_pypi_package(\"pyspellchecker\")"
   ]
  },
  {
   "cell_type": "code",
   "execution_count": 3,
   "metadata": {},
   "outputs": [
    {
     "data": {
      "application/vnd.jupyter.widget-view+json": {
       "model_id": "",
       "version_major": 2,
       "version_minor": 0
      },
      "text/plain": [
       "FloatProgress(value=0.0, bar_style='info', description='Progress:', layout=Layout(height='25px', width='50%'),…"
      ]
     },
     "metadata": {},
     "output_type": "display_data"
    }
   ],
   "source": [
    "df = spark.read.parquet('s3://amazon-reviews-pds/parquet/product_category=Electronics/*.parquet')"
   ]
  },
  {
   "cell_type": "code",
   "execution_count": 4,
   "metadata": {},
   "outputs": [
    {
     "data": {
      "application/vnd.jupyter.widget-view+json": {
       "model_id": "",
       "version_major": 2,
       "version_minor": 0
      },
      "text/plain": [
       "FloatProgress(value=0.0, bar_style='info', description='Progress:', layout=Layout(height='25px', width='50%'),…"
      ]
     },
     "metadata": {},
     "output_type": "display_data"
    },
    {
     "name": "stdout",
     "output_type": "stream",
     "text": [
      "3120938"
     ]
    }
   ],
   "source": [
    "print(df.count())"
   ]
  },
  {
   "cell_type": "code",
   "execution_count": 5,
   "metadata": {},
   "outputs": [
    {
     "data": {
      "application/vnd.jupyter.widget-view+json": {
       "model_id": "",
       "version_major": 2,
       "version_minor": 0
      },
      "text/plain": [
       "FloatProgress(value=0.0, bar_style='info', description='Progress:', layout=Layout(height='25px', width='50%'),…"
      ]
     },
     "metadata": {},
     "output_type": "display_data"
    }
   ],
   "source": [
    "# from pyspark.sql.functions import col, isnan, when, count\n",
    "\n",
    "# null_count = df.select(count(when(col('review_body').isNull(), 1))).collect()[0][0]\n",
    "\n",
    "# if null_count > 0:\n",
    "#     print(f\"The 'review_body' column contains {null_count} NoneType/null values.\")\n",
    "# else:\n",
    "#     print(\"The 'review_body' column does not contain any NoneType/null values.\")\n"
   ]
  },
  {
   "cell_type": "code",
   "execution_count": 5,
   "metadata": {},
   "outputs": [
    {
     "data": {
      "application/vnd.jupyter.widget-view+json": {
       "model_id": "",
       "version_major": 2,
       "version_minor": 0
      },
      "text/plain": [
       "FloatProgress(value=0.0, bar_style='info', description='Progress:', layout=Layout(height='25px', width='50%'),…"
      ]
     },
     "metadata": {},
     "output_type": "display_data"
    },
    {
     "name": "stdout",
     "output_type": "stream",
     "text": [
      "3120848"
     ]
    }
   ],
   "source": [
    "df = df.na.drop()\n",
    "print(df.count())"
   ]
  },
  {
   "cell_type": "markdown",
   "metadata": {},
   "source": [
    "#### Response variable (Y) "
   ]
  },
  {
   "cell_type": "code",
   "execution_count": 6,
   "metadata": {},
   "outputs": [
    {
     "data": {
      "application/vnd.jupyter.widget-view+json": {
       "model_id": "",
       "version_major": 2,
       "version_minor": 0
      },
      "text/plain": [
       "FloatProgress(value=0.0, bar_style='info', description='Progress:', layout=Layout(height='25px', width='50%'),…"
      ]
     },
     "metadata": {},
     "output_type": "display_data"
    }
   ],
   "source": [
    "df = df.withColumn('vp_dummy', \n",
    "                             (df.verified_purchase == 'Y').cast(\"integer\"))"
   ]
  },
  {
   "cell_type": "code",
   "execution_count": 7,
   "metadata": {},
   "outputs": [
    {
     "data": {
      "application/vnd.jupyter.widget-view+json": {
       "model_id": "",
       "version_major": 2,
       "version_minor": 0
      },
      "text/plain": [
       "FloatProgress(value=0.0, bar_style='info', description='Progress:', layout=Layout(height='25px', width='50%'),…"
      ]
     },
     "metadata": {},
     "output_type": "display_data"
    },
    {
     "name": "stdout",
     "output_type": "stream",
     "text": [
      "+--------+-------+\n",
      "|vp_dummy|  count|\n",
      "+--------+-------+\n",
      "|       1|2622841|\n",
      "|       0| 498007|\n",
      "+--------+-------+"
     ]
    }
   ],
   "source": [
    "df.groupBy('vp_dummy').count().show()"
   ]
  },
  {
   "cell_type": "code",
   "execution_count": 8,
   "metadata": {},
   "outputs": [
    {
     "data": {
      "application/vnd.jupyter.widget-view+json": {
       "model_id": "",
       "version_major": 2,
       "version_minor": 0
      },
      "text/plain": [
       "FloatProgress(value=0.0, bar_style='info', description='Progress:', layout=Layout(height='25px', width='50%'),…"
      ]
     },
     "metadata": {},
     "output_type": "display_data"
    }
   ],
   "source": [
    "vp = df[df.vp_dummy == 1].count()\n",
    "nvp = df[df.vp_dummy == 0].count()"
   ]
  },
  {
   "cell_type": "markdown",
   "metadata": {},
   "source": [
    "### balance dataset because two claases are not balanced"
   ]
  },
  {
   "cell_type": "code",
   "execution_count": 9,
   "metadata": {},
   "outputs": [
    {
     "data": {
      "application/vnd.jupyter.widget-view+json": {
       "model_id": "",
       "version_major": 2,
       "version_minor": 0
      },
      "text/plain": [
       "FloatProgress(value=0.0, bar_style='info', description='Progress:', layout=Layout(height='25px', width='50%'),…"
      ]
     },
     "metadata": {},
     "output_type": "display_data"
    },
    {
     "name": "stdout",
     "output_type": "stream",
     "text": [
      "+--------+------+\n",
      "|vp_dummy| count|\n",
      "+--------+------+\n",
      "|       0|498007|\n",
      "|       1|497877|\n",
      "+--------+------+"
     ]
    }
   ],
   "source": [
    "from pyspark.sql.functions import col\n",
    "df = df.sampleBy(\"vp_dummy\", fractions={0:1,1:nvp/vp}, seed=0)\n",
    "df.groupBy(\"vp_dummy\").count().orderBy(\"vp_dummy\").show()"
   ]
  },
  {
   "cell_type": "code",
   "execution_count": 11,
   "metadata": {},
   "outputs": [
    {
     "data": {
      "application/vnd.jupyter.widget-view+json": {
       "model_id": "",
       "version_major": 2,
       "version_minor": 0
      },
      "text/plain": [
       "FloatProgress(value=0.0, bar_style='info', description='Progress:', layout=Layout(height='25px', width='50%'),…"
      ]
     },
     "metadata": {},
     "output_type": "display_data"
    },
    {
     "name": "stdout",
     "output_type": "stream",
     "text": [
      "['marketplace', 'customer_id', 'review_id', 'product_id', 'product_parent', 'product_title', 'star_rating', 'helpful_votes', 'total_votes', 'vine', 'verified_purchase', 'review_headline', 'review_body', 'review_date', 'year', 'vp_dummy']"
     ]
    }
   ],
   "source": [
    "df.columns"
   ]
  },
  {
   "cell_type": "markdown",
   "metadata": {},
   "source": [
    "### feature engineering"
   ]
  },
  {
   "cell_type": "code",
   "execution_count": 10,
   "metadata": {},
   "outputs": [
    {
     "data": {
      "application/vnd.jupyter.widget-view+json": {
       "model_id": "",
       "version_major": 2,
       "version_minor": 0
      },
      "text/plain": [
       "FloatProgress(value=0.0, bar_style='info', description='Progress:', layout=Layout(height='25px', width='50%'),…"
      ]
     },
     "metadata": {},
     "output_type": "display_data"
    }
   ],
   "source": [
    "from pyspark.sql.functions import udf\n",
    "from pyspark.sql.types import IntegerType\n",
    "from spellchecker import SpellChecker\n",
    "import string\n",
    "\n",
    "# Assuming you have a DataFrame 'df' with a 'review' column\n",
    "\n",
    "spell = SpellChecker()\n",
    "\n",
    "def spelling_errors(text):\n",
    "    if text is None:\n",
    "        return None\n",
    "    text = text.lower()\n",
    "    text = text.translate(str.maketrans('', '', string.punctuation))\n",
    "    misspelled = spell.unknown(text.split())\n",
    "    return len(misspelled)\n",
    "\n",
    "count_errors_udf = udf(spelling_errors, IntegerType())\n",
    "\n",
    "# Apply the UDF to the 'review' column\n",
    "df = df.withColumn(\"spelling_errors\", count_errors_udf(df['review_body']))\n"
   ]
  },
  {
   "cell_type": "code",
   "execution_count": 11,
   "metadata": {},
   "outputs": [
    {
     "data": {
      "application/vnd.jupyter.widget-view+json": {
       "model_id": "",
       "version_major": 2,
       "version_minor": 0
      },
      "text/plain": [
       "FloatProgress(value=0.0, bar_style='info', description='Progress:', layout=Layout(height='25px', width='50%'),…"
      ]
     },
     "metadata": {},
     "output_type": "display_data"
    }
   ],
   "source": [
    "from textblob import TextBlob\n",
    "from pyspark.sql.types import FloatType\n",
    "from pyspark.sql.functions import udf\n",
    "\n",
    "# Assuming you have a DataFrame 'df' with a 'review' column\n",
    "\n",
    "\n",
    "# Define a UDF to calculate sentiment polarity\n",
    "def sentiment_analysis(text):\n",
    "    return TextBlob(text).sentiment.polarity\n",
    "\n",
    "sentiment_analysis_udf = udf(sentiment_analysis, FloatType())\n",
    "\n",
    "# Apply the UDF to the 'review' column\n",
    "df = df.withColumn(\"sentiment_score\", sentiment_analysis_udf(df['review_body']))\n"
   ]
  },
  {
   "cell_type": "code",
   "execution_count": 14,
   "metadata": {},
   "outputs": [
    {
     "data": {
      "application/vnd.jupyter.widget-view+json": {
       "model_id": "",
       "version_major": 2,
       "version_minor": 0
      },
      "text/plain": [
       "FloatProgress(value=0.0, bar_style='info', description='Progress:', layout=Layout(height='25px', width='50%'),…"
      ]
     },
     "metadata": {},
     "output_type": "display_data"
    }
   ],
   "source": [
    "# from pyspark.sql.functions import regexp_replace\n",
    "# from pyspark.ml.feature import Tokenizer, StopWordsRemover, HashingTF, IDF\n",
    "\n",
    "# # 4. conduct tf-idf on text data\n",
    "# df = df.withColumn('review_body',regexp_replace(df.review_body,'[_():;,./!?\\\\-]', ' '))\n",
    "# df = df.withColumn('review_body',regexp_replace(df.review_body,'[0-9]', ' '))\n",
    "# df = df.withColumn('review_body',regexp_replace(df.review_body,' +', ' '))\n",
    "\n",
    "\n",
    "# tokenizer = Tokenizer(inputCol='review_body',outputCol='review_words')\n",
    "# stopwords_remover = StopWordsRemover(inputCol='review_words',outputCol='review_terms')\n",
    "# hashing = HashingTF(inputCol='review_terms', outputCol='hash', numFeatures=100)\n",
    "# tf_idf = IDF(inputCol='hash',outputCol='tf_idf')\n"
   ]
  },
  {
   "cell_type": "code",
   "execution_count": 12,
   "metadata": {},
   "outputs": [
    {
     "data": {
      "application/vnd.jupyter.widget-view+json": {
       "model_id": "",
       "version_major": 2,
       "version_minor": 0
      },
      "text/plain": [
       "FloatProgress(value=0.0, bar_style='info', description='Progress:', layout=Layout(height='25px', width='50%'),…"
      ]
     },
     "metadata": {},
     "output_type": "display_data"
    }
   ],
   "source": [
    "df = df.withColumn('helpful_pct', \n",
    "                             (df.helpful_votes / df.total_votes)).fillna(0)\n",
    "\n"
   ]
  },
  {
   "cell_type": "code",
   "execution_count": 13,
   "metadata": {},
   "outputs": [
    {
     "data": {
      "application/vnd.jupyter.widget-view+json": {
       "model_id": "",
       "version_major": 2,
       "version_minor": 0
      },
      "text/plain": [
       "FloatProgress(value=0.0, bar_style='info', description='Progress:', layout=Layout(height='25px', width='50%'),…"
      ]
     },
     "metadata": {},
     "output_type": "display_data"
    }
   ],
   "source": [
    "import pyspark.sql.functions as F\n",
    "from pyspark.ml.feature import VectorAssembler\n",
    "from pyspark.sql.window import Window\n",
    "\n",
    "#Length of Review\n",
    "df = df.withColumn('review_length', F.length(\"review_body\"))\n",
    "# 1. categorical vine and verified_purchase\n",
    "df = df.withColumn('v_dummy', \n",
    "                             (df.vine == 'Y').cast(\"integer\"))\n"
   ]
  },
  {
   "cell_type": "code",
   "execution_count": 14,
   "metadata": {},
   "outputs": [
    {
     "data": {
      "application/vnd.jupyter.widget-view+json": {
       "model_id": "",
       "version_major": 2,
       "version_minor": 0
      },
      "text/plain": [
       "FloatProgress(value=0.0, bar_style='info', description='Progress:', layout=Layout(height='25px', width='50%'),…"
      ]
     },
     "metadata": {},
     "output_type": "display_data"
    },
    {
     "name": "stdout",
     "output_type": "stream",
     "text": [
      "+-----------+-----------+--------------+----------+--------------+--------------------+-----------+-------------+-----------+----+-----------------+--------------------+--------------------+-----------+----+--------+---------------+---------------+------------------+-------------+-------+----------------+--------------+\n",
      "|marketplace|customer_id|     review_id|product_id|product_parent|       product_title|star_rating|helpful_votes|total_votes|vine|verified_purchase|     review_headline|         review_body|review_date|year|vp_dummy|spelling_errors|sentiment_score|       helpful_pct|review_length|v_dummy|marketplaceIndex|marketplaceVec|\n",
      "+-----------+-----------+--------------+----------+--------------+--------------------+-----------+-------------+-----------+----+-----------------+--------------------+--------------------+-----------+----+--------+---------------+---------------+------------------+-------------+-------+----------------+--------------+\n",
      "|         US|   51163966|R2RX7KLOQQ5VBG|B00000JBAT|     738692522|Diamond Rio Digit...|          3|            0|          0|   N|                N|Why just 30 minutes?|RIO is really gre...| 1999-06-22|1999|       0|              0|           0.55|               0.0|           92|      0|             0.0| (4,[0],[1.0])|\n",
      "|         US|   52246039|R3PD79H9CTER8U|B00000JBAT|     738692522|Diamond Rio Digit...|          5|            1|          2|   N|                N|The digital audio...|One of several fi...| 1999-06-30|1999|       0|             14|    0.094623186|               0.5|         1057|      0|             0.0| (4,[0],[1.0])|\n",
      "|         US|   53068431|R3SP31LN235GV3|B00000JBSN|     670078724|JVC FS-7000 Execu...|          3|            5|          5|   N|                N|Design flaws ruin...|I returned mine f...| 1999-07-13|1999|       0|              1|      0.2030303|               1.0|          482|      0|             0.0| (4,[0],[1.0])|\n",
      "|         US|   52036200| RDYOBX7A6YZ2X|B00000JHYS|     738692522|Rio PMP 300 Speci...|          4|            0|          0|   N|                N| Might want to wait.|I really like the...| 1999-07-16|1999|       0|              3|    0.093560606|               0.0|          313|      0|             0.0| (4,[0],[1.0])|\n",
      "|         US|   51618361|R31I45LN3W8UUM|B00000J1SI|     505031276|GPX C3860 Portabl...|          5|            8|          9|   N|                N|LOW PRICE GOOD VALUE|Very Good Product...| 1999-07-17|1999|       0|              1|     0.35785714|0.8888888888888888|           54|      0|             0.0| (4,[0],[1.0])|\n",
      "|         US|   12246316|R2RVEE19EN94YK|B00JAYS824|     995064901|ABLEGRID Trademar...|          5|            0|          0|   N|                Y|          Five Stars|thanks to this i ...| 2014-11-17|2014|       1|              0|     0.26666668|               0.0|           65|      0|             0.0| (4,[0],[1.0])|\n",
      "|         US|   52541942|R1FCT9FU5SNC10|B00000JDKE|     126726341|Sony STR-DE525 Su...|          4|           20|         21|   N|                N|STR-DE525 an over...|I've had this rec...| 1999-07-19|1999|       0|              5|     0.20959596|0.9523809523809523|          380|      0|             0.0| (4,[0],[1.0])|\n",
      "|         US|   52793236|R3EOIZ0USWYGGJ|B00000JBSN|     670078724|JVC FS-7000 Execu...|          5|            5|          5|   N|                N|Incredible Sound ...|This is a absolut...| 1999-08-06|1999|       0|              2|     0.44700855|               1.0|          522|      0|             0.0| (4,[0],[1.0])|\n",
      "|         US|   52958139|R3HM8AQLMWU2XZ|B00000JBAT|     738692522|Diamond Rio Digit...|          5|            0|          0|   N|                N|The wave of the f...|Someday everythin...| 1999-08-09|1999|       0|              5|     0.36666667|               0.0|          368|      0|             0.0| (4,[0],[1.0])|\n",
      "|         US|   51155632|R11NUPY1HK6EB5|B00000J4BL|       9075030|Recoton TV3000 Lo...|          1|           13|         14|   N|                N|         Poor choice|This is the sixth...| 1999-08-14|1999|       0|              1|           -0.4|0.9285714285714286|          149|      0|             0.0| (4,[0],[1.0])|\n",
      "|         US|   51367834|R12ASZFB1WDEZP|B00000JBPB|     919073845|GPX C3948BI Ultra...|          5|            4|          6|   N|                N|     BUY THIS!!!!!!!|I just got this n...| 1999-08-16|1999|       0|              2|    0.116098486|0.6666666666666666|          365|      0|             0.0| (4,[0],[1.0])|\n",
      "|         US|   51080041|R3H3O0Y8CQLPQW|B00000JFMU|     760095051|JVC XL-MC222BK 20...|          5|           41|         55|   N|                N|Well built, relia...|The JVC 200 cd ch...| 1999-08-24|1999|       0|              3|     0.20751701|0.7454545454545455|          344|      0|             0.0| (4,[0],[1.0])|\n",
      "|         US|   52911597|R27KD9ANTM57FE|B00000JGLT|     328391966|CD-ROM Storage Sl...|          5|           23|         24|   N|                N|Save 66% of your ...|Prosleeves are a ...| 1999-09-04|1999|       0|              4|     0.15705128|0.9583333333333334|          717|      0|             0.0| (4,[0],[1.0])|\n",
      "|         US|   51198197|R2VNXLHVBE42P3|B00000J3Q0|     895437351|Sharp CMS-1640 Bo...|          5|            0|          7|   N|                N|            speakers|   They are the best| 1999-09-06|1999|       0|              0|            1.0|               0.0|           17|      0|             0.0| (4,[0],[1.0])|\n",
      "|         US|   52248267|R25VFNS8MX7YUN|B00000J1QV|     786266251|Advent AW870 Wire...|          5|            9|         35|   N|                N|The fastest way t...|Whether it's list...| 1999-09-08|1999|       0|              1|           0.25|0.2571428571428571|          146|      0|             0.0| (4,[0],[1.0])|\n",
      "|         US|   52535420|R14KFW1IMJJS4B|B00000K3SI|     943317374|Amazon.com Messen...|          5|            4|          6|   N|                N|Great Bag! Attent...|All my friends co...| 1999-09-18|1999|       0|              3|            0.4|0.6666666666666666|          172|      0|             0.0| (4,[0],[1.0])|\n",
      "|         US|   51000043| R8BTCDXSGQKA6|B00000K3SI|     943317374|Amazon.com Messen...|          5|            1|          1|   N|                N|          Good Value|Just got my messe...| 1999-09-27|1999|       0|              1|     0.25833333|               1.0|          376|      0|             0.0| (4,[0],[1.0])|\n",
      "|         US|   52364459|R2IZC3WH4SXC3J|B00000JBAT|     738692522|Diamond Rio Digit...|          1|            0|          0|   N|                N| Hold off on Rio 500|If you're thinkin...| 1999-09-30|1999|       0|              1|    0.012121212|               0.0|          266|      0|             0.0| (4,[0],[1.0])|\n",
      "|         US|   51866334| RV0KCRMQ423DF|B00000JBPB|     919073845|GPX C3948BI Ultra...|          5|            6|          7|   N|                N|BLUE ICE IS HOTTT!!!|I received my CD ...| 1999-10-07|1999|       0|              3|     0.55142856|0.8571428571428571|          221|      0|             0.0| (4,[0],[1.0])|\n",
      "|         US|   22242733| REA9VOHZ2TYKF|B000W8JFPG|     872872431|Sony RM-EZ4 2-Dev...|          2|            0|          0|   N|                N|Wouldn't work wit...|Buttons are a nic...| 2014-11-17|2014|       0|              1|         0.1375|               0.0|          269|      0|             0.0| (4,[0],[1.0])|\n",
      "+-----------+-----------+--------------+----------+--------------+--------------------+-----------+-------------+-----------+----+-----------------+--------------------+--------------------+-----------+----+--------+---------------+---------------+------------------+-------------+-------+----------------+--------------+\n",
      "only showing top 20 rows"
     ]
    }
   ],
   "source": [
    "### one-hot encoding \"marketplace\" variable\n",
    "\n",
    "from pyspark.ml.feature import StringIndexer, OneHotEncoder\n",
    "from pyspark.ml import Pipeline\n",
    "\n",
    "# First index the string column\n",
    "indexer = StringIndexer(inputCol=\"marketplace\", outputCol=\"marketplaceIndex\")\n",
    "\n",
    "# Then encode the indexed values to dummy variables\n",
    "encoder = OneHotEncoder(inputCol=\"marketplaceIndex\", outputCol=\"marketplaceVec\")\n",
    "\n",
    "# Create a pipeline to apply the transformations\n",
    "pipeline = Pipeline(stages=[indexer, encoder])\n",
    "\n",
    "# Fit and transform the data\n",
    "df= pipeline.fit(df).transform(df)\n",
    "\n",
    "df.show()\n"
   ]
  },
  {
   "cell_type": "code",
   "execution_count": 18,
   "metadata": {},
   "outputs": [
    {
     "data": {
      "application/vnd.jupyter.widget-view+json": {
       "model_id": "",
       "version_major": 2,
       "version_minor": 0
      },
      "text/plain": [
       "FloatProgress(value=0.0, bar_style='info', description='Progress:', layout=Layout(height='25px', width='50%'),…"
      ]
     },
     "metadata": {},
     "output_type": "display_data"
    },
    {
     "name": "stdout",
     "output_type": "stream",
     "text": [
      "['marketplace', 'customer_id', 'review_id', 'product_id', 'product_parent', 'product_title', 'star_rating', 'helpful_votes', 'total_votes', 'vine', 'verified_purchase', 'review_headline', 'review_body', 'review_date', 'year', 'vp_dummy', 'spelling_errors', 'sentiment_score', 'helpful_pct', 'review_length', 'v_dummy', 'marketplaceIndex', 'marketplaceVec']"
     ]
    }
   ],
   "source": [
    "df.columns"
   ]
  },
  {
   "cell_type": "code",
   "execution_count": 15,
   "metadata": {},
   "outputs": [
    {
     "data": {
      "application/vnd.jupyter.widget-view+json": {
       "model_id": "",
       "version_major": 2,
       "version_minor": 0
      },
      "text/plain": [
       "FloatProgress(value=0.0, bar_style='info', description='Progress:', layout=Layout(height='25px', width='50%'),…"
      ]
     },
     "metadata": {},
     "output_type": "display_data"
    }
   ],
   "source": [
    "from pyspark.ml.feature import VectorAssembler\n",
    "from pyspark.ml import Pipeline\n",
    "from pyspark.ml.classification import LogisticRegression\n",
    "from pyspark.sql.functions import regexp_replace\n",
    "\n",
    "#selected features \n",
    "vector_assembler = VectorAssembler(inputCols=['marketplaceVec',\n",
    "                                              'review_length',\n",
    "                                              'v_dummy',\n",
    "                                              'star_rating',\n",
    "                                            'sentiment_score',\n",
    "                                              'spelling_errors',\n",
    "                                            'helpful_pct'],\n",
    "                                   outputCol='features')\n"
   ]
  },
  {
   "cell_type": "code",
   "execution_count": null,
   "metadata": {},
   "outputs": [],
   "source": []
  },
  {
   "cell_type": "markdown",
   "metadata": {},
   "source": [
    "# Random Forest\n",
    "training auc + test auc + training accuracy + test accuracy"
   ]
  },
  {
   "cell_type": "code",
   "execution_count": 16,
   "metadata": {},
   "outputs": [
    {
     "data": {
      "application/vnd.jupyter.widget-view+json": {
       "model_id": "",
       "version_major": 2,
       "version_minor": 0
      },
      "text/plain": [
       "FloatProgress(value=0.0, bar_style='info', description='Progress:', layout=Layout(height='25px', width='50%'),…"
      ]
     },
     "metadata": {},
     "output_type": "display_data"
    }
   ],
   "source": [
    "from pyspark.ml.classification import RandomForestClassifier\n",
    "from pyspark.ml.evaluation import MulticlassClassificationEvaluator\n",
    "\n"
   ]
  },
  {
   "cell_type": "code",
   "execution_count": 17,
   "metadata": {},
   "outputs": [
    {
     "data": {
      "application/vnd.jupyter.widget-view+json": {
       "model_id": "",
       "version_major": 2,
       "version_minor": 0
      },
      "text/plain": [
       "FloatProgress(value=0.0, bar_style='info', description='Progress:', layout=Layout(height='25px', width='50%'),…"
      ]
     },
     "metadata": {},
     "output_type": "display_data"
    }
   ],
   "source": [
    "random_forest = RandomForestClassifier(featuresCol='features', labelCol='vp_dummy')\n",
    "\n",
    "# Initialize Pipeline\n",
    "pipeline = Pipeline(stages=[vector_assembler, random_forest])\n",
    "\n",
    "# Assuming your data is stored in the 'df' DataFrame\n",
    "sampled_data = df.sample(fraction = 0.001)\n",
    "train, test = sampled_data.randomSplit([0.7, 0.3])\n",
    "# train_data, test_data = df.randomSplit([0.7, 0.3])\n",
    "\n",
    "# # Fit the model\n",
    "# model = pipeline.fit(train)\n",
    "\n",
    "# # Make predictions on the training data\n",
    "# train_predictions = model.transform(train)\n",
    "\n",
    "# # Make predictions\n",
    "# test_predictions = model.transform(test)"
   ]
  },
  {
   "cell_type": "code",
   "execution_count": 18,
   "metadata": {},
   "outputs": [
    {
     "data": {
      "application/vnd.jupyter.widget-view+json": {
       "model_id": "",
       "version_major": 2,
       "version_minor": 0
      },
      "text/plain": [
       "FloatProgress(value=0.0, bar_style='info', description='Progress:', layout=Layout(height='25px', width='50%'),…"
      ]
     },
     "metadata": {},
     "output_type": "display_data"
    }
   ],
   "source": [
    "from pyspark.ml.evaluation import BinaryClassificationEvaluator\n",
    "\n",
    "# Initialize evaluator\n",
    "evaluator = BinaryClassificationEvaluator(labelCol='vp_dummy', metricName='areaUnderROC')\n"
   ]
  },
  {
   "cell_type": "code",
   "execution_count": 19,
   "metadata": {},
   "outputs": [
    {
     "data": {
      "application/vnd.jupyter.widget-view+json": {
       "model_id": "",
       "version_major": 2,
       "version_minor": 0
      },
      "text/plain": [
       "FloatProgress(value=0.0, bar_style='info', description='Progress:', layout=Layout(height='25px', width='50%'),…"
      ]
     },
     "metadata": {},
     "output_type": "display_data"
    }
   ],
   "source": [
    "from pyspark.ml.tuning import CrossValidator, ParamGridBuilder\n",
    "import numpy as np \n",
    "\n",
    "# Create ParamGrid for Cross Validation\n",
    "paramGrid = (ParamGridBuilder()\n",
    "             .addGrid(random_forest.numTrees, [10, 30, 50]) # number of trees\n",
    "             .addGrid(random_forest.maxDepth, [5, 10, 20]) # maximum depth\n",
    "             .addGrid(random_forest.maxBins, [20, 60]) # Number of bins\n",
    "             .addGrid(random_forest.impurity, [\"entropy\", \"gini\"]) # Criterion\n",
    "             .build())"
   ]
  },
  {
   "cell_type": "code",
   "execution_count": 20,
   "metadata": {},
   "outputs": [
    {
     "data": {
      "application/vnd.jupyter.widget-view+json": {
       "model_id": "",
       "version_major": 2,
       "version_minor": 0
      },
      "text/plain": [
       "FloatProgress(value=0.0, bar_style='info', description='Progress:', layout=Layout(height='25px', width='50%'),…"
      ]
     },
     "metadata": {},
     "output_type": "display_data"
    }
   ],
   "source": [
    "# Declare the CrossValidator, which runs model tuning for us.\n",
    "cv = CrossValidator(estimator=pipeline,\n",
    "                    estimatorParamMaps=paramGrid,\n",
    "                    evaluator=evaluator,\n",
    "                    numFolds=5)\n",
    "\n",
    "cv_model = cv.fit(train)"
   ]
  },
  {
   "cell_type": "code",
   "execution_count": 21,
   "metadata": {},
   "outputs": [
    {
     "data": {
      "application/vnd.jupyter.widget-view+json": {
       "model_id": "",
       "version_major": 2,
       "version_minor": 0
      },
      "text/plain": [
       "FloatProgress(value=0.0, bar_style='info', description='Progress:', layout=Layout(height='25px', width='50%'),…"
      ]
     },
     "metadata": {},
     "output_type": "display_data"
    }
   ],
   "source": [
    "# Get the best model from cross-validation\n",
    "bestModel = cv_model.bestModel"
   ]
  },
  {
   "cell_type": "code",
   "execution_count": 22,
   "metadata": {},
   "outputs": [
    {
     "data": {
      "application/vnd.jupyter.widget-view+json": {
       "model_id": "",
       "version_major": 2,
       "version_minor": 0
      },
      "text/plain": [
       "FloatProgress(value=0.0, bar_style='info', description='Progress:', layout=Layout(height='25px', width='50%'),…"
      ]
     },
     "metadata": {},
     "output_type": "display_data"
    },
    {
     "name": "stdout",
     "output_type": "stream",
     "text": [
      "Best Parameters:\n",
      "bootstrap: True\n",
      "cacheNodeIds: False\n",
      "checkpointInterval: 10\n",
      "featureSubsetStrategy: auto\n",
      "featuresCol: features\n",
      "impurity: entropy\n",
      "labelCol: vp_dummy\n",
      "leafCol: \n",
      "maxBins: 20\n",
      "maxDepth: 5\n",
      "maxMemoryInMB: 256\n",
      "minInfoGain: 0.0\n",
      "minInstancesPerNode: 1\n",
      "minWeightFractionPerNode: 0.0\n",
      "numTrees: 50\n",
      "predictionCol: prediction\n",
      "probabilityCol: probability\n",
      "rawPredictionCol: rawPrediction\n",
      "seed: -5387697053847413545\n",
      "subsamplingRate: 1.0"
     ]
    }
   ],
   "source": [
    "# Print the best parameters\n",
    "bestParams = bestModel.stages[-1].extractParamMap()\n",
    "print(\"Best Parameters:\")\n",
    "for param, value in bestParams.items():\n",
    "    print(f\"{param.name}: {value}\")"
   ]
  },
  {
   "cell_type": "code",
   "execution_count": 28,
   "metadata": {},
   "outputs": [
    {
     "data": {
      "application/vnd.jupyter.widget-view+json": {
       "model_id": "",
       "version_major": 2,
       "version_minor": 0
      },
      "text/plain": [
       "FloatProgress(value=0.0, bar_style='info', description='Progress:', layout=Layout(height='25px', width='50%'),…"
      ]
     },
     "metadata": {},
     "output_type": "display_data"
    }
   ],
   "source": [
    "# Make predictions on the training data\n",
    "train_predictions = bestModel.transform(train)\n",
    "\n",
    "# Make predictions\n",
    "test_predictions = bestModel.transform(test)"
   ]
  },
  {
   "cell_type": "markdown",
   "metadata": {},
   "source": [
    "### Accuracy score"
   ]
  },
  {
   "cell_type": "code",
   "execution_count": 29,
   "metadata": {},
   "outputs": [
    {
     "data": {
      "application/vnd.jupyter.widget-view+json": {
       "model_id": "",
       "version_major": 2,
       "version_minor": 0
      },
      "text/plain": [
       "FloatProgress(value=0.0, bar_style='info', description='Progress:', layout=Layout(height='25px', width='50%'),…"
      ]
     },
     "metadata": {},
     "output_type": "display_data"
    },
    {
     "name": "stdout",
     "output_type": "stream",
     "text": [
      "Training Accuracy = 0.64464\n",
      "Training Error = 0.35536\n",
      "Testing Accuracy = 0.665541\n",
      "Testing Error = 0.334459"
     ]
    }
   ],
   "source": [
    "# Initialize evaluator\n",
    "evaluator = MulticlassClassificationEvaluator(labelCol=\"vp_dummy\", predictionCol=\"prediction\", metricName=\"accuracy\")\n",
    "\n",
    "# Compute accuracy on the training data\n",
    "train_accuracy = evaluator.evaluate(train_predictions)\n",
    "\n",
    "print(\"Training Accuracy = %g\" % (train_accuracy))\n",
    "print(\"Training Error = %g\" % (1.0 - train_accuracy))\n",
    "\n",
    "# Compute accuracy on the testing data\n",
    "test_accuracy = evaluator.evaluate(test_predictions)\n",
    "\n",
    "print(\"Testing Accuracy = %g\" % (test_accuracy))\n",
    "print(\"Testing Error = %g\" % (1.0 - test_accuracy))\n"
   ]
  },
  {
   "cell_type": "markdown",
   "metadata": {},
   "source": [
    "### AUC score"
   ]
  },
  {
   "cell_type": "code",
   "execution_count": 30,
   "metadata": {},
   "outputs": [
    {
     "data": {
      "application/vnd.jupyter.widget-view+json": {
       "model_id": "",
       "version_major": 2,
       "version_minor": 0
      },
      "text/plain": [
       "FloatProgress(value=0.0, bar_style='info', description='Progress:', layout=Layout(height='25px', width='50%'),…"
      ]
     },
     "metadata": {},
     "output_type": "display_data"
    },
    {
     "name": "stdout",
     "output_type": "stream",
     "text": [
      "Test AUC: 0.6419"
     ]
    }
   ],
   "source": [
    "# Test AUC\n",
    "binaryAUC = evaluator.evaluate(test_predictions)\n",
    "print(\"Test AUC: {:.4f}\".format(binaryAUC))"
   ]
  },
  {
   "cell_type": "code",
   "execution_count": 31,
   "metadata": {},
   "outputs": [
    {
     "data": {
      "application/vnd.jupyter.widget-view+json": {
       "model_id": "",
       "version_major": 2,
       "version_minor": 0
      },
      "text/plain": [
       "FloatProgress(value=0.0, bar_style='info', description='Progress:', layout=Layout(height='25px', width='50%'),…"
      ]
     },
     "metadata": {},
     "output_type": "display_data"
    },
    {
     "name": "stdout",
     "output_type": "stream",
     "text": [
      "Train AUC: 0.7214"
     ]
    }
   ],
   "source": [
    "# Train AUC\n",
    "train_binaryAUC = evaluator.evaluate(train_predictions)\n",
    "print(\"Train AUC: {:.4f}\".format(train_binaryAUC))"
   ]
  },
  {
   "cell_type": "markdown",
   "metadata": {},
   "source": [
    "### Plot ROC curve"
   ]
  },
  {
   "cell_type": "code",
   "execution_count": 33,
   "metadata": {},
   "outputs": [
    {
     "data": {
      "application/vnd.jupyter.widget-view+json": {
       "model_id": "",
       "version_major": 2,
       "version_minor": 0
      },
      "text/plain": [
       "FloatProgress(value=0.0, bar_style='info', description='Progress:', layout=Layout(height='25px', width='50%'),…"
      ]
     },
     "metadata": {},
     "output_type": "display_data"
    }
   ],
   "source": [
    "raw_predictions = test_predictions.select('vp_dummy', 'rawPrediction')\n",
    "\n",
    "# Convert the raw prediction values to (probability, label) tuples:\n",
    "convert_predictions = raw_predictions.rdd.map(lambda row: (float(row['rawPrediction'][1]), float(row['vp_dummy'])))\n",
    "\n",
    "# Sort the predictions by probability in descending order\n",
    "sorted_predictions = convert_predictions.sortBy(lambda x: x[0], ascending=False)\n",
    "\n",
    "# Count the positive and negative instances in the test data\n",
    "total_positive = sorted_predictions.filter(lambda x: x[1] == 1.0).count()\n",
    "total_negative = sorted_predictions.filter(lambda x: x[1] == 0.0).count()\n",
    "\n",
    "\n",
    "# Initialize variables to store the true positive rate (TPR) and false positive rate (FPR)\n",
    "tpr_values = []\n",
    "fpr_values = []\n",
    "tp = 0\n",
    "fp = 0\n",
    "\n",
    "# Compute TPR and FPR at different probability thresholds\n",
    "for prob, label in sorted_predictions.collect():\n",
    "    if label == 1.0:\n",
    "        tp += 1\n",
    "    else:\n",
    "        fp += 1\n",
    "    tpr = tp / total_positive\n",
    "    fpr = fp / total_negative\n",
    "    tpr_values.append(tpr)\n",
    "    fpr_values.append(fpr)"
   ]
  },
  {
   "cell_type": "code",
   "execution_count": 34,
   "metadata": {},
   "outputs": [
    {
     "data": {
      "application/vnd.jupyter.widget-view+json": {
       "model_id": "",
       "version_major": 2,
       "version_minor": 0
      },
      "text/plain": [
       "FloatProgress(value=0.0, bar_style='info', description='Progress:', layout=Layout(height='25px', width='50%'),…"
      ]
     },
     "metadata": {},
     "output_type": "display_data"
    },
    {
     "data": {
      "image/png": "[encoded data removed]",
      "text/plain": [
       "<IPython.core.display.Image object>"
      ]
     },
     "metadata": {},
     "output_type": "display_data"
    }
   ],
   "source": [
    "import matplotlib.pyplot as plt\n",
    "\n",
    "# Plot the ROC curve\n",
    "plt.plot(fpr_values, tpr_values, 'b', label = 'AUC = 0.6419')\n",
    "plt.plot([0, 1], [0, 1],'r--')\n",
    "plt.xlim([0, 1])\n",
    "plt.ylim([0, 1])\n",
    "plt.legend(loc = 'lower right')\n",
    "plt.xlabel('False Positive Rate')\n",
    "plt.ylabel('True Positive Rate')\n",
    "plt.title('ROC Curve')\n",
    "plt.show()\n",
    "\n",
    "%matplot plt"
   ]
  },
  {
   "cell_type": "code",
   "execution_count": null,
   "metadata": {},
   "outputs": [],
   "source": []
  },
  {
   "cell_type": "code",
   "execution_count": null,
   "metadata": {},
   "outputs": [],
   "source": []
  },
  {
   "cell_type": "markdown",
   "metadata": {},
   "source": [
    "## draft"
   ]
  },
  {
   "cell_type": "code",
   "execution_count": null,
   "metadata": {},
   "outputs": [],
   "source": [
    "import pyspark.ml.evaluation as evals\n",
    "import pyspark.ml.tuning as tune\n",
    "import numpy as np\n",
    "\n",
    "rf = RandomForest()\n",
    "evaluator = evals.BinaryClassificationEvaluator(metricName=\"areaUnderROC\")\n",
    "\n",
    "grid = tune.ParamGridBuilder() \\\n",
    "    .addGrid(lr.regParam, np.arange(0, .1, .01)) \\\n",
    "    .addGrid(lr.elasticNetParam, [0, 1]) \\\n",
    "    .build()\n",
    "\n",
    "# Create the CrossValidator\n",
    "cv = tune.CrossValidator(estimator=lr,\n",
    "                         estimatorParamMaps=grid,\n",
    "                         evaluator=evaluator,\n",
    "                         numFolds=5,\n",
    "                         )"
   ]
  },
  {
   "cell_type": "code",
   "execution_count": null,
   "metadata": {},
   "outputs": [],
   "source": [
    "from pyspark.ml.tuning import CrossValidator, ParamGridBuilder\n",
    "from pyspark.ml.evaluation import BinaryClassificationEvaluator\n",
    "\n",
    "# Initialize the RandomForest\n",
    "random_forest = RandomForestClassifier(featuresCol='features', labelCol='vp_dummy')\n",
    "\n",
    "# Initialize the Pipeline\n",
    "pipeline = Pipeline(stages=[vector_assembler, random_forest])\n",
    "\n",
    "# Create ParamGrid for Cross Validation\n",
    "paramGrid = (ParamGridBuilder()\n",
    "             .addGrid(random_forest.numTrees, [10, 30, 50]) # number of trees\n",
    "             .addGrid(random_forest.maxDepth, [5, 10, 20]) # maximum depth\n",
    "             .addGrid(random_forest.maxBins, [20, 60]) # Number of bins\n",
    "             .addGrid(random_forest.impurity, [\"entropy\", \"gini\"]) # Criterion\n",
    "             .build())\n",
    "\n",
    "# Define an evaluator\n",
    "evaluator = BinaryClassificationEvaluator(labelCol='vp_dummy')\n",
    "\n",
    "# Declare the CrossValidator, which runs model tuning for us.\n",
    "cv = CrossValidator(estimator=pipeline,\n",
    "                    estimatorParamMaps=paramGrid,\n",
    "                    evaluator=evaluator,\n",
    "                    numFolds=5)\n",
    "\n",
    "# Assuming your data is stored in the 'df' DataFrame\n",
    "df = df.sample(fraction = 0.001)\n",
    "train, test = df.randomSplit([0.7, 0.3])\n",
    "\n",
    "# Run cross-validation, and choose the best parameters\n",
    "cvModel = cv.fit(train)\n",
    "\n",
    "# Use test set here so we can measure the accuracy on the test data\n",
    "cv_predictions = cvModel.transform(test)\n",
    "\n",
    "# cvModel uses the best model found from the Cross Validation\n",
    "# Evaluate best model\n",
    "print('Test Area Under ROC', evaluator.evaluate(cv_predictions))\n"
   ]
  },
  {
   "cell_type": "code",
   "execution_count": null,
   "metadata": {},
   "outputs": [],
   "source": [
    "best_rf = cvModel.bestModel\n",
    "print(best_rf)"
   ]
  },
  {
   "cell_type": "code",
   "execution_count": null,
   "metadata": {},
   "outputs": [],
   "source": [
    "test_results = best_rf.transform(test)\n",
    "print(evaluator.evaluate(test_results))"
   ]
  },
  {
   "cell_type": "code",
   "execution_count": null,
   "metadata": {},
   "outputs": [],
   "source": [
    "trainingSummary = best_rf.summary\n",
    "evaluationSummary = best_rf.evaluate(test)"
   ]
  },
  {
   "cell_type": "code",
   "execution_count": null,
   "metadata": {},
   "outputs": [],
   "source": [
    "print(\"Training AUC: \" + str(trainingSummary.areaUnderROC))\n",
    "print(\"Test AUC: \", str(evaluationSummary.areaUnderROC))\n",
    "\n",
    "print(\"\\nFalse positive rate by label (Training):\")\n",
    "for i, rate in enumerate(trainingSummary.falsePositiveRateByLabel):\n",
    "    print(\"label %d: %s\" % (i, rate))\n",
    "\n",
    "print(\"\\nTrue positive rate by label (Training):\")\n",
    "for i, rate in enumerate(trainingSummary.truePositiveRateByLabel):\n",
    "    print(\"label %d: %s\" % (i, rate))\n",
    "    \n",
    "print(\"\\nTraining Accuracy: \" + str(trainingSummary.accuracy))\n",
    "print(\"Test Accuracy: \", str(evaluationSummary.accuracy))"
   ]
  }
 ],
 "metadata": {
  "kernelspec": {
   "display_name": "PySpark",
   "language": "",
   "name": "pysparkkernel"
  },
  "language_info": {
   "codemirror_mode": {
    "name": "python",
    "version": 3
   },
   "mimetype": "text/x-python",
   "name": "pyspark",
   "pygments_lexer": "python3"
  }
 },
 "nbformat": 4,
 "nbformat_minor": 4
}
