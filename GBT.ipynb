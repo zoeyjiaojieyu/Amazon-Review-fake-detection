{
 "cells": [
  {
   "cell_type": "code",
   "execution_count": 1,
   "metadata": {},
   "outputs": [
    {
     "data": {
      "text/html": [
       "Current session configs: <tt>{'conf': {'spark.pyspark.python': 'python3', 'spark.pyspark.virtualenv.enabled': 'true', 'spark.pyspark.virtualenv.type': 'native', 'spark.pyspark.virtualenv.bin.path': '/usr/bin/virtualenv'}, 'proxyUser': 'jovyan', 'kind': 'pyspark'}</tt><br>"
      ],
      "text/plain": [
       "<IPython.core.display.HTML object>"
      ]
     },
     "metadata": {},
     "output_type": "display_data"
    },
    {
     "data": {
      "text/html": [
       "No active sessions."
      ],
      "text/plain": [
       "<IPython.core.display.HTML object>"
      ]
     },
     "metadata": {},
     "output_type": "display_data"
    }
   ],
   "source": [
    "%%configure -f\n",
    "{\n",
    "    \"conf\": {\n",
    "        \"spark.pyspark.python\": \"python3\",\n",
    "        \"spark.pyspark.virtualenv.enabled\": \"true\",\n",
    "        \"spark.pyspark.virtualenv.type\":\"native\",\n",
    "        \"spark.pyspark.virtualenv.bin.path\":\"/usr/bin/virtualenv\"\n",
    "    }\n",
    "}"
   ]
  },
  {
   "cell_type": "code",
   "execution_count": 2,
   "metadata": {},
   "outputs": [
    {
     "name": "stdout",
     "output_type": "stream",
     "text": [
      "Starting Spark application\n"
     ]
    },
    {
     "data": {
      "text/html": [
       "<table>\n",
       "<tr><th>ID</th><th>YARN Application ID</th><th>Kind</th><th>State</th><th>Spark UI</th><th>Driver log</th><th>Current session?</th></tr><tr><td>0</td><td>application_1685119686861_0002</td><td>pyspark</td><td>idle</td><td><a target=\"_blank\" href=\"http://ip-172-31-19-155.ec2.internal:20888/proxy/application_1685119686861_0002/\">Link</a></td><td><a target=\"_blank\" href=\"http://ip-172-31-25-124.ec2.internal:8042/node/containerlogs/container_1685119686861_0002_01_000001/livy\">Link</a></td><td>✔</td></tr></table>"
      ],
      "text/plain": [
       "<IPython.core.display.HTML object>"
      ]
     },
     "metadata": {},
     "output_type": "display_data"
    },
    {
     "data": {
      "application/vnd.jupyter.widget-view+json": {
       "model_id": "",
       "version_major": 2,
       "version_minor": 0
      },
      "text/plain": [
       "FloatProgress(value=0.0, bar_style='info', description='Progress:', layout=Layout(height='25px', width='50%'),…"
      ]
     },
     "metadata": {},
     "output_type": "display_data"
    },
    {
     "name": "stdout",
     "output_type": "stream",
     "text": [
      "SparkSession available as 'spark'.\n"
     ]
    },
    {
     "data": {
      "application/vnd.jupyter.widget-view+json": {
       "model_id": "",
       "version_major": 2,
       "version_minor": 0
      },
      "text/plain": [
       "FloatProgress(value=0.0, bar_style='info', description='Progress:', layout=Layout(height='25px', width='50%'),…"
      ]
     },
     "metadata": {},
     "output_type": "display_data"
    },
    {
     "name": "stdout",
     "output_type": "stream",
     "text": [
      "Collecting boto3==1.19.2\n",
      "  Downloading https://files.pythonhosted.org/packages/59/60/163503f24cf09553d0bb6c37db9ff3254f6cda812cab00430602867d03f5/boto3-1.19.2-py3-none-any.whl (131kB)\n",
      "Collecting botocore<1.23.0,>=1.22.2 (from boto3==1.19.2)\n",
      "  Downloading https://files.pythonhosted.org/packages/6a/73/552b27e3a1b4f83630907c4958be78e9d4c906e73efd554ebd5e21cb1692/botocore-1.22.12-py3-none-any.whl (8.1MB)\n",
      "Collecting s3transfer<0.6.0,>=0.5.0 (from boto3==1.19.2)\n",
      "  Downloading https://files.pythonhosted.org/packages/7b/9c/f51775ebe7df5a7aa4e7c79ed671bde94e154bd968aca8d65bb24aba0c8c/s3transfer-0.5.2-py3-none-any.whl (79kB)\n",
      "Requirement already satisfied: jmespath<1.0.0,>=0.7.1 in /usr/local/lib/python3.7/site-packages (from boto3==1.19.2)\n",
      "Collecting python-dateutil<3.0.0,>=2.1 (from botocore<1.23.0,>=1.22.2->boto3==1.19.2)\n",
      "  Downloading https://files.pythonhosted.org/packages/36/7a/87837f39d0296e723bb9b62bbb257d0355c7f6128853c78955f57342a56d/python_dateutil-2.8.2-py2.py3-none-any.whl (247kB)\n",
      "Collecting urllib3<1.27,>=1.25.4 (from botocore<1.23.0,>=1.22.2->boto3==1.19.2)\n",
      "  Downloading https://files.pythonhosted.org/packages/c5/05/c214b32d21c0b465506f95c4f28ccbcba15022e000b043b72b3df7728471/urllib3-1.26.16-py2.py3-none-any.whl (143kB)\n",
      "Requirement already satisfied: six>=1.5 in /usr/local/lib/python3.7/site-packages (from python-dateutil<3.0.0,>=2.1->botocore<1.23.0,>=1.22.2->boto3==1.19.2)\n",
      "Installing collected packages: python-dateutil, urllib3, botocore, s3transfer, boto3\n",
      "Successfully installed boto3-1.19.2 botocore-1.22.12 python-dateutil-2.8.2 s3transfer-0.5.2 urllib3-1.26.16\n",
      "\n",
      "Collecting pandas==1.0.5\n",
      "  Downloading https://files.pythonhosted.org/packages/af/f3/683bf2547a3eaeec15b39cef86f61e921b3b187f250fcd2b5c5fb4386369/pandas-1.0.5-cp37-cp37m-manylinux1_x86_64.whl (10.1MB)\n",
      "Requirement already satisfied: numpy>=1.13.3 in /usr/local/lib64/python3.7/site-packages (from pandas==1.0.5)\n",
      "Requirement already satisfied: python-dateutil>=2.6.1 in /mnt/tmp/1685120383354-0/lib/python3.7/site-packages (from pandas==1.0.5)\n",
      "Requirement already satisfied: pytz>=2017.2 in /usr/local/lib/python3.7/site-packages (from pandas==1.0.5)\n",
      "Requirement already satisfied: six>=1.5 in /usr/local/lib/python3.7/site-packages (from python-dateutil>=2.6.1->pandas==1.0.5)\n",
      "Installing collected packages: pandas\n",
      "Successfully installed pandas-1.0.5\n",
      "\n",
      "Collecting scipy==1.4.1\n",
      "  Downloading https://files.pythonhosted.org/packages/dd/82/c1fe128f3526b128cfd185580ba40d01371c5d299fcf7f77968e22dfcc2e/scipy-1.4.1-cp37-cp37m-manylinux1_x86_64.whl (26.1MB)\n",
      "Requirement already satisfied: numpy>=1.13.3 in /usr/local/lib64/python3.7/site-packages (from scipy==1.4.1)\n",
      "Installing collected packages: scipy\n",
      "Successfully installed scipy-1.4.1\n",
      "\n",
      "Collecting matplotlib==3.2.1\n",
      "  Downloading https://files.pythonhosted.org/packages/b2/c2/71fcf957710f3ba1f09088b35776a799ba7dd95f7c2b195ec800933b276b/matplotlib-3.2.1-cp37-cp37m-manylinux1_x86_64.whl (12.4MB)\n",
      "Collecting pyparsing!=2.0.4,!=2.1.2,!=2.1.6,>=2.0.1 (from matplotlib==3.2.1)\n",
      "  Downloading https://files.pythonhosted.org/packages/6c/10/a7d0fa5baea8fe7b50f448ab742f26f52b80bfca85ac2be9d35cdd9a3246/pyparsing-3.0.9-py3-none-any.whl (98kB)\n",
      "Requirement already satisfied: python-dateutil>=2.1 in /mnt/tmp/1685120383354-0/lib/python3.7/site-packages (from matplotlib==3.2.1)\n",
      "Requirement already satisfied: numpy>=1.11 in /usr/local/lib64/python3.7/site-packages (from matplotlib==3.2.1)\n",
      "Collecting cycler>=0.10 (from matplotlib==3.2.1)\n",
      "  Downloading https://files.pythonhosted.org/packages/5c/f9/695d6bedebd747e5eb0fe8fad57b72fdf25411273a39791cde838d5a8f51/cycler-0.11.0-py3-none-any.whl\n",
      "Collecting kiwisolver>=1.0.1 (from matplotlib==3.2.1)\n",
      "  Downloading https://files.pythonhosted.org/packages/ab/8f/8dbe2d4efc4c0b08ec67d6efb7cc31fbfd688c80afad85f65980633b0d37/kiwisolver-1.4.4-cp37-cp37m-manylinux_2_5_x86_64.manylinux1_x86_64.whl (1.1MB)\n",
      "Requirement already satisfied: six>=1.5 in /usr/local/lib/python3.7/site-packages (from python-dateutil>=2.1->matplotlib==3.2.1)\n",
      "Collecting typing-extensions; python_version < \"3.8\" (from kiwisolver>=1.0.1->matplotlib==3.2.1)\n",
      "  Downloading https://files.pythonhosted.org/packages/38/60/300ad6f93adca578bf05d5f6cd1d854b7d140bebe2f9829561aa9977d9f3/typing_extensions-4.6.2-py3-none-any.whl\n",
      "Installing collected packages: pyparsing, cycler, typing-extensions, kiwisolver, matplotlib\n",
      "Successfully installed cycler-0.11.0 kiwisolver-1.4.4 matplotlib-3.2.1 pyparsing-3.0.9 typing-extensions-4.6.2\n",
      "\n",
      "Collecting seaborn==0.10.1\n",
      "  Downloading https://files.pythonhosted.org/packages/c7/e6/54aaaafd0b87f51dfba92ba73da94151aa3bc179e5fe88fc5dfb3038e860/seaborn-0.10.1-py3-none-any.whl (215kB)\n",
      "Requirement already satisfied: numpy>=1.13.3 in /usr/local/lib64/python3.7/site-packages (from seaborn==0.10.1)\n",
      "Requirement already satisfied: scipy>=1.0.1 in /mnt/tmp/1685120383354-0/lib/python3.7/site-packages (from seaborn==0.10.1)\n",
      "Requirement already satisfied: matplotlib>=2.1.2 in /mnt/tmp/1685120383354-0/lib/python3.7/site-packages (from seaborn==0.10.1)\n",
      "Requirement already satisfied: pandas>=0.22.0 in /mnt/tmp/1685120383354-0/lib/python3.7/site-packages (from seaborn==0.10.1)\n",
      "Requirement already satisfied: pyparsing!=2.0.4,!=2.1.2,!=2.1.6,>=2.0.1 in /mnt/tmp/1685120383354-0/lib/python3.7/site-packages (from matplotlib>=2.1.2->seaborn==0.10.1)\n",
      "Requirement already satisfied: python-dateutil>=2.1 in /mnt/tmp/1685120383354-0/lib/python3.7/site-packages (from matplotlib>=2.1.2->seaborn==0.10.1)\n",
      "Requirement already satisfied: cycler>=0.10 in /mnt/tmp/1685120383354-0/lib/python3.7/site-packages (from matplotlib>=2.1.2->seaborn==0.10.1)\n",
      "Requirement already satisfied: kiwisolver>=1.0.1 in /mnt/tmp/1685120383354-0/lib/python3.7/site-packages (from matplotlib>=2.1.2->seaborn==0.10.1)\n",
      "Requirement already satisfied: pytz>=2017.2 in /usr/local/lib/python3.7/site-packages (from pandas>=0.22.0->seaborn==0.10.1)\n",
      "Requirement already satisfied: six>=1.5 in /usr/local/lib/python3.7/site-packages (from python-dateutil>=2.1->matplotlib>=2.1.2->seaborn==0.10.1)\n",
      "Requirement already satisfied: typing-extensions; python_version < \"3.8\" in /mnt/tmp/1685120383354-0/lib/python3.7/site-packages (from kiwisolver>=1.0.1->matplotlib>=2.1.2->seaborn==0.10.1)\n",
      "Installing collected packages: seaborn\n",
      "Successfully installed seaborn-0.10.1\n",
      "\n",
      "Collecting textblob\n",
      "  Downloading https://files.pythonhosted.org/packages/44/a4/595b66c1342a830f4ff476307c4367541cce3e361b9ee96d22a5eeeddd1d/textblob-0.17.1-py2.py3-none-any.whl (636kB)\n",
      "Requirement already satisfied: nltk>=3.1; python_version >= \"3\" in /usr/local/lib/python3.7/site-packages (from textblob)\n",
      "Requirement already satisfied: click in /usr/local/lib64/python3.7/site-packages (from nltk>=3.1; python_version >= \"3\"->textblob)\n",
      "Requirement already satisfied: joblib in /usr/local/lib64/python3.7/site-packages (from nltk>=3.1; python_version >= \"3\"->textblob)\n",
      "Requirement already satisfied: regex in /usr/local/lib64/python3.7/site-packages (from nltk>=3.1; python_version >= \"3\"->textblob)\n",
      "Requirement already satisfied: tqdm in /usr/local/lib64/python3.7/site-packages (from nltk>=3.1; python_version >= \"3\"->textblob)\n",
      "Installing collected packages: textblob\n",
      "Successfully installed textblob-0.17.1\n",
      "\n",
      "Collecting pyspellchecker\n",
      "  Downloading https://files.pythonhosted.org/packages/74/2e/dd08caa20287695631e7267aa6ad0dbd1990cae32323db1620cc5cb549b0/pyspellchecker-0.7.2-py3-none-any.whl (3.4MB)\n",
      "Installing collected packages: pyspellchecker\n",
      "Successfully installed pyspellchecker-0.7.2"
     ]
    }
   ],
   "source": [
    "sc.install_pypi_package(\"boto3==1.19.2\")\n",
    "sc.install_pypi_package(\"pandas==1.0.5\")\n",
    "sc.install_pypi_package(\"scipy==1.4.1\")\n",
    "sc.install_pypi_package(\"matplotlib==3.2.1\")\n",
    "sc.install_pypi_package(\"seaborn==0.10.1\")\n",
    "sc.install_pypi_package(\"textblob\")\n",
    "sc.install_pypi_package(\"pyspellchecker\")"
   ]
  },
  {
   "cell_type": "code",
   "execution_count": 3,
   "metadata": {},
   "outputs": [
    {
     "data": {
      "application/vnd.jupyter.widget-view+json": {
       "model_id": "",
       "version_major": 2,
       "version_minor": 0
      },
      "text/plain": [
       "FloatProgress(value=0.0, bar_style='info', description='Progress:', layout=Layout(height='25px', width='50%'),…"
      ]
     },
     "metadata": {},
     "output_type": "display_data"
    }
   ],
   "source": [
    "df = spark.read.parquet('s3://amazon-reviews-pds/parquet/product_category=Electronics/*.parquet')"
   ]
  },
  {
   "cell_type": "code",
   "execution_count": 4,
   "metadata": {},
   "outputs": [
    {
     "data": {
      "application/vnd.jupyter.widget-view+json": {
       "model_id": "",
       "version_major": 2,
       "version_minor": 0
      },
      "text/plain": [
       "FloatProgress(value=0.0, bar_style='info', description='Progress:', layout=Layout(height='25px', width='50%'),…"
      ]
     },
     "metadata": {},
     "output_type": "display_data"
    },
    {
     "name": "stdout",
     "output_type": "stream",
     "text": [
      "3120938"
     ]
    }
   ],
   "source": [
    "print(df.count())"
   ]
  },
  {
   "cell_type": "code",
   "execution_count": 4,
   "metadata": {},
   "outputs": [
    {
     "data": {
      "application/vnd.jupyter.widget-view+json": {
       "model_id": "",
       "version_major": 2,
       "version_minor": 0
      },
      "text/plain": [
       "FloatProgress(value=0.0, bar_style='info', description='Progress:', layout=Layout(height='25px', width='50%'),…"
      ]
     },
     "metadata": {},
     "output_type": "display_data"
    },
    {
     "name": "stdout",
     "output_type": "stream",
     "text": [
      "3120848"
     ]
    }
   ],
   "source": [
    "df = df.na.drop()\n",
    "print(df.count())"
   ]
  },
  {
   "cell_type": "markdown",
   "metadata": {},
   "source": [
    "#### Response variable (Y) "
   ]
  },
  {
   "cell_type": "code",
   "execution_count": 5,
   "metadata": {},
   "outputs": [
    {
     "data": {
      "application/vnd.jupyter.widget-view+json": {
       "model_id": "",
       "version_major": 2,
       "version_minor": 0
      },
      "text/plain": [
       "FloatProgress(value=0.0, bar_style='info', description='Progress:', layout=Layout(height='25px', width='50%'),…"
      ]
     },
     "metadata": {},
     "output_type": "display_data"
    }
   ],
   "source": [
    "df = df.withColumn('vp_dummy', \n",
    "                             (df.verified_purchase == 'Y').cast(\"integer\"))"
   ]
  },
  {
   "cell_type": "code",
   "execution_count": 7,
   "metadata": {},
   "outputs": [
    {
     "data": {
      "application/vnd.jupyter.widget-view+json": {
       "model_id": "",
       "version_major": 2,
       "version_minor": 0
      },
      "text/plain": [
       "FloatProgress(value=0.0, bar_style='info', description='Progress:', layout=Layout(height='25px', width='50%'),…"
      ]
     },
     "metadata": {},
     "output_type": "display_data"
    },
    {
     "name": "stdout",
     "output_type": "stream",
     "text": [
      "+--------+-------+\n",
      "|vp_dummy|  count|\n",
      "+--------+-------+\n",
      "|       1|2622841|\n",
      "|       0| 498007|\n",
      "+--------+-------+"
     ]
    }
   ],
   "source": [
    "df.groupBy('vp_dummy').count().show()"
   ]
  },
  {
   "cell_type": "code",
   "execution_count": 6,
   "metadata": {},
   "outputs": [
    {
     "data": {
      "application/vnd.jupyter.widget-view+json": {
       "model_id": "",
       "version_major": 2,
       "version_minor": 0
      },
      "text/plain": [
       "FloatProgress(value=0.0, bar_style='info', description='Progress:', layout=Layout(height='25px', width='50%'),…"
      ]
     },
     "metadata": {},
     "output_type": "display_data"
    }
   ],
   "source": [
    "vp = df[df.vp_dummy == 1].count()\n",
    "nvp = df[df.vp_dummy == 0].count()"
   ]
  },
  {
   "cell_type": "markdown",
   "metadata": {},
   "source": [
    "### balance dataset because two claases are not balanced"
   ]
  },
  {
   "cell_type": "code",
   "execution_count": 7,
   "metadata": {},
   "outputs": [
    {
     "data": {
      "application/vnd.jupyter.widget-view+json": {
       "model_id": "",
       "version_major": 2,
       "version_minor": 0
      },
      "text/plain": [
       "FloatProgress(value=0.0, bar_style='info', description='Progress:', layout=Layout(height='25px', width='50%'),…"
      ]
     },
     "metadata": {},
     "output_type": "display_data"
    },
    {
     "name": "stdout",
     "output_type": "stream",
     "text": [
      "+--------+------+\n",
      "|vp_dummy| count|\n",
      "+--------+------+\n",
      "|       0|498007|\n",
      "|       1|497877|\n",
      "+--------+------+"
     ]
    }
   ],
   "source": [
    "from pyspark.sql.functions import col\n",
    "df = df.sampleBy(\"vp_dummy\", fractions={0:1,1:nvp/vp}, seed=0)\n",
    "df.groupBy(\"vp_dummy\").count().orderBy(\"vp_dummy\").show()"
   ]
  },
  {
   "cell_type": "code",
   "execution_count": 10,
   "metadata": {},
   "outputs": [
    {
     "data": {
      "application/vnd.jupyter.widget-view+json": {
       "model_id": "",
       "version_major": 2,
       "version_minor": 0
      },
      "text/plain": [
       "FloatProgress(value=0.0, bar_style='info', description='Progress:', layout=Layout(height='25px', width='50%'),…"
      ]
     },
     "metadata": {},
     "output_type": "display_data"
    },
    {
     "name": "stdout",
     "output_type": "stream",
     "text": [
      "['marketplace', 'customer_id', 'review_id', 'product_id', 'product_parent', 'product_title', 'star_rating', 'helpful_votes', 'total_votes', 'vine', 'verified_purchase', 'review_headline', 'review_body', 'review_date', 'year', 'vp_dummy']"
     ]
    }
   ],
   "source": [
    "df.columns"
   ]
  },
  {
   "cell_type": "markdown",
   "metadata": {},
   "source": [
    "### feature engineering"
   ]
  },
  {
   "cell_type": "code",
   "execution_count": 8,
   "metadata": {},
   "outputs": [
    {
     "data": {
      "application/vnd.jupyter.widget-view+json": {
       "model_id": "",
       "version_major": 2,
       "version_minor": 0
      },
      "text/plain": [
       "FloatProgress(value=0.0, bar_style='info', description='Progress:', layout=Layout(height='25px', width='50%'),…"
      ]
     },
     "metadata": {},
     "output_type": "display_data"
    }
   ],
   "source": [
    "from pyspark.sql.functions import udf\n",
    "from pyspark.sql.types import IntegerType\n",
    "from spellchecker import SpellChecker\n",
    "import string\n",
    "\n",
    "# Assuming you have a DataFrame 'df' with a 'review' column\n",
    "\n",
    "spell = SpellChecker()\n",
    "\n",
    "def spelling_errors(text):\n",
    "    if text is None:\n",
    "        return None\n",
    "    text = text.lower()\n",
    "    text = text.translate(str.maketrans('', '', string.punctuation))\n",
    "    misspelled = spell.unknown(text.split())\n",
    "    return len(misspelled)\n",
    "\n",
    "count_errors_udf = udf(spelling_errors, IntegerType())\n",
    "\n",
    "# Apply the UDF to the 'review' column\n",
    "df = df.withColumn(\"spelling_errors\", count_errors_udf(df['review_body']))\n"
   ]
  },
  {
   "cell_type": "code",
   "execution_count": 9,
   "metadata": {},
   "outputs": [
    {
     "data": {
      "application/vnd.jupyter.widget-view+json": {
       "model_id": "",
       "version_major": 2,
       "version_minor": 0
      },
      "text/plain": [
       "FloatProgress(value=0.0, bar_style='info', description='Progress:', layout=Layout(height='25px', width='50%'),…"
      ]
     },
     "metadata": {},
     "output_type": "display_data"
    }
   ],
   "source": [
    "from textblob import TextBlob\n",
    "from pyspark.sql.types import FloatType\n",
    "from pyspark.sql.functions import udf\n",
    "\n",
    "# Assuming you have a DataFrame 'df' with a 'review' column\n",
    "\n",
    "\n",
    "# Define a UDF to calculate sentiment polarity\n",
    "def sentiment_analysis(text):\n",
    "    return TextBlob(text).sentiment.polarity\n",
    "\n",
    "sentiment_analysis_udf = udf(sentiment_analysis, FloatType())\n",
    "\n",
    "# Apply the UDF to the 'review' column\n",
    "df = df.withColumn(\"sentiment_score\", sentiment_analysis_udf(df['review_body']))\n"
   ]
  },
  {
   "cell_type": "code",
   "execution_count": 10,
   "metadata": {},
   "outputs": [
    {
     "data": {
      "application/vnd.jupyter.widget-view+json": {
       "model_id": "",
       "version_major": 2,
       "version_minor": 0
      },
      "text/plain": [
       "FloatProgress(value=0.0, bar_style='info', description='Progress:', layout=Layout(height='25px', width='50%'),…"
      ]
     },
     "metadata": {},
     "output_type": "display_data"
    }
   ],
   "source": [
    "df = df.withColumn('helpful_pct', \n",
    "                             (df.helpful_votes / df.total_votes)).fillna(0)\n",
    "\n"
   ]
  },
  {
   "cell_type": "code",
   "execution_count": 11,
   "metadata": {},
   "outputs": [
    {
     "data": {
      "application/vnd.jupyter.widget-view+json": {
       "model_id": "",
       "version_major": 2,
       "version_minor": 0
      },
      "text/plain": [
       "FloatProgress(value=0.0, bar_style='info', description='Progress:', layout=Layout(height='25px', width='50%'),…"
      ]
     },
     "metadata": {},
     "output_type": "display_data"
    }
   ],
   "source": [
    "import pyspark.sql.functions as F\n",
    "from pyspark.ml.feature import VectorAssembler\n",
    "from pyspark.sql.window import Window\n",
    "\n",
    "#Length of Review\n",
    "df = df.withColumn('review_length', F.length(\"review_body\"))\n",
    "# 1. categorical vine and verified_purchase\n",
    "df = df.withColumn('v_dummy', \n",
    "                             (df.vine == 'Y').cast(\"integer\"))\n"
   ]
  },
  {
   "cell_type": "code",
   "execution_count": 12,
   "metadata": {
    "scrolled": true
   },
   "outputs": [
    {
     "data": {
      "application/vnd.jupyter.widget-view+json": {
       "model_id": "",
       "version_major": 2,
       "version_minor": 0
      },
      "text/plain": [
       "FloatProgress(value=0.0, bar_style='info', description='Progress:', layout=Layout(height='25px', width='50%'),…"
      ]
     },
     "metadata": {},
     "output_type": "display_data"
    },
    {
     "name": "stdout",
     "output_type": "stream",
     "text": [
      "+-----------+-----------+--------------+----------+--------------+--------------------+-----------+-------------+-----------+----+-----------------+--------------------+--------------------+-----------+----+--------+---------------+---------------+------------------+-------------+-------+----------------+--------------+\n",
      "|marketplace|customer_id|     review_id|product_id|product_parent|       product_title|star_rating|helpful_votes|total_votes|vine|verified_purchase|     review_headline|         review_body|review_date|year|vp_dummy|spelling_errors|sentiment_score|       helpful_pct|review_length|v_dummy|marketplaceIndex|marketplaceVec|\n",
      "+-----------+-----------+--------------+----------+--------------+--------------------+-----------+-------------+-----------+----+-----------------+--------------------+--------------------+-----------+----+--------+---------------+---------------+------------------+-------------+-------+----------------+--------------+\n",
      "|         US|   52826068|R3SC2T77Y0PSN8|B00FIYDC1W|     822091995|Monster DNA Over-...|          4|            0|          0|   Y|                N|Very nice sound, ...|These headphones ...| 2014-04-09|2014|       0|              0|      0.5011111|               0.0|          340|      1|             0.0| (4,[0],[1.0])|\n",
      "|         US|    9133162|R3RN22LN1VUJR6|B00ELCP55I|     576075415|Mpow&reg; FreeGo ...|          4|            3|          4|   N|                Y|really enjoyed th...|the reason I chos...| 2014-04-09|2014|       1|              1|            0.0|              0.75|          169|      0|             0.0| (4,[0],[1.0])|\n",
      "|         US|   15154971|R36LBJWIVBO9M8|B00A6Q596I|     533568175|1080P 30 Pin Dock...|          4|            0|          0|   N|                N|    Works on Ipad 2?|   Works  on Ipad 2?| 2014-11-17|2014|       0|              0|            0.0|               0.0|           17|      0|             0.0| (4,[0],[1.0])|\n",
      "|         US|    5919231|R1DMCVLRKV2TZ8|B00HMU2EOQ|      76340396|KHOI1971 9-Feet E...|          5|            0|          0|   N|                Y|          Five Stars|       Worked great!| 2014-11-17|2014|       1|              0|            1.0|               0.0|           13|      0|             0.0| (4,[0],[1.0])|\n",
      "|         US|   10511973|R20YJ2MU5I9HAV|B004MF7A02|     166066834|Sony HTCT550W 3D ...|          2|            0|          0|   N|                Y|          Do Not Buy|The Subwoofer is ...| 2014-04-09|2014|       1|              2|     0.44333333|               0.0|          215|      0|             0.0| (4,[0],[1.0])|\n",
      "|         US|   34408569|R2IZGC0366O3IC|B0001F22R8|     336834906|SanDisk Cruzer Mi...|          1|            0|          0|   N|                N|        Never again!|I bought three Sa...| 2014-04-09|2014|       0|              2|            0.0|               0.0|          127|      0|             0.0| (4,[0],[1.0])|\n",
      "|         US|   17503660|R3S34URYUQM3X8|B0016CFZQ0|     935315253|Monoprice 107116 ...|          5|            0|          0|   N|                Y|I used the in my car|My car has only o...| 2014-04-09|2014|       1|              0|            0.0|               0.0|          102|      0|             0.0| (4,[0],[1.0])|\n",
      "|         US|   36150203|R399EV4XP8L7J5|B00D950J4A|     535615189|  Beats Pill Speaker|          2|            0|          0|   N|                N|    Static cling....|Not happy at all....| 2014-04-09|2014|       0|              6|     0.30208334|               0.0|          435|      0|             0.0| (4,[0],[1.0])|\n",
      "|         US|   17159456|R2TJKL4ETIADAT|B00HCEFXG8|      56091863|Smays Genuine Lea...|          5|            0|          0|   N|                Y|           GOOD CASE|EXCELLENT CASE, F...| 2014-04-09|2014|       1|              0|     0.63666666|               0.0|          201|      0|             0.0| (4,[0],[1.0])|\n",
      "|         US|   28256230| RL0I2N7MHWB5X|B009RPDP2Y|     231709966|Mohu Leaf Paper T...|          5|            0|          0|   N|                Y| Works great so far!|Refurb? Who cares...| 2014-04-09|2014|       1|              1|           -0.1|               0.0|          160|      0|             0.0| (4,[0],[1.0])|\n",
      "|         US|   22765168| RH4JSJDQ26OMC|B00DTP2FUG|     550717833|Panlong PLS-451 5...|          4|            0|          0|   N|                N|It works...but it...|I bought one of t...| 2014-04-09|2014|       0|             25|     0.10842014|               0.0|         2412|      0|             0.0| (4,[0],[1.0])|\n",
      "|         US|   31153594|R2DXAVB0YZ9ZN2|B004V8KWQO|     425335991|Onkyo TX-NR709 7....|          1|            0|          1|   N|                N|I upgraded the re...|After warranty ex...| 2014-11-17|2014|       0|              1|           -0.2|               0.0|          152|      0|             0.0| (4,[0],[1.0])|\n",
      "|         US|    1793643| RCMC0E1MC3XF6|B00NSUQ9B8|     529374619|Pyle Wave Base Bl...|          5|           26|         29|   N|                N|     deep rich sound|This thing sounds...| 2014-11-17|2014|       0|              1|     0.36238095| 0.896551724137931|          491|      0|             0.0| (4,[0],[1.0])|\n",
      "|         US|   44911706|R2GRFMNUBD7SM0|B00E38BP40|     415350197|MEElectronics Bal...|          5|            2|          2|   N|                Y|Super Value!  Exc...|Bright, punchy......| 2014-04-09|2014|       1|             13|     0.15416834|               1.0|         1787|      0|             0.0| (4,[0],[1.0])|\n",
      "|         US|   51559052|R23BEOEQ6E05H1|B000067S60|      39157659|Verbatim Slim CD ...|          5|            0|          0|   N|                N|               cases|Happy, none broke...| 2014-04-09|2014|       0|              0|            0.9|               0.0|          118|      0|             0.0| (4,[0],[1.0])|\n",
      "|         US|   34408569| R7226JJ1WBP9C|B00HWIS3O8|     412108699|Sandisk SDMX24-00...|          1|            1|          3|   N|                N|        Never again!|I bought three ne...| 2014-04-09|2014|       0|              2|     0.06818182|0.3333333333333333|          131|      0|             0.0| (4,[0],[1.0])|\n",
      "|         US|   34408569|R1X083HN7PMQBU|B000IM5GBS|     885984619|SanDisk Sansa c24...|          1|            0|          0|   N|                N|        Never again!|I bought three ne...| 2014-04-09|2014|       0|              2|     0.06818182|               0.0|          131|      0|             0.0| (4,[0],[1.0])|\n",
      "|         US|   18691953|R2WS2YXDVPYTUC|B00FT3OMC0|     652528328|Soul by Ludacris ...|          3|            2|          4|   N|                N|The bass is super...|With all of the p...| 2014-11-17|2014|       0|              3|    0.091178454|               0.5|          377|      0|             0.0| (4,[0],[1.0])|\n",
      "|         US|   48937256|R1DHQFC659TKF4|B001078FV8|     771803878|niceEshop(TM) 2.5...|          5|            0|          0|   N|                Y|                good|         works great| 2014-11-17|2014|       1|              0|            0.8|               0.0|           11|      0|             0.0| (4,[0],[1.0])|\n",
      "|         US|    2733500| RNIYH9WFKJFAO|B00GO8NOU0|     543050943|JBL J46 BT Blueto...|          1|            0|          3|   N|                N|       piece of junk|I wanted to rate ...| 2014-11-17|2014|       0|             10|         -0.175|               0.0|          562|      0|             0.0| (4,[0],[1.0])|\n",
      "+-----------+-----------+--------------+----------+--------------+--------------------+-----------+-------------+-----------+----+-----------------+--------------------+--------------------+-----------+----+--------+---------------+---------------+------------------+-------------+-------+----------------+--------------+\n",
      "only showing top 20 rows"
     ]
    }
   ],
   "source": [
    "### one-hot encoding \"marketplace\" variable\n",
    "\n",
    "from pyspark.ml.feature import StringIndexer, OneHotEncoder\n",
    "from pyspark.ml import Pipeline\n",
    "\n",
    "# First index the string column\n",
    "indexer = StringIndexer(inputCol=\"marketplace\", outputCol=\"marketplaceIndex\")\n",
    "\n",
    "# Then encode the indexed values to dummy variables\n",
    "encoder = OneHotEncoder(inputCol=\"marketplaceIndex\", outputCol=\"marketplaceVec\")\n",
    "\n",
    "# Create a pipeline to apply the transformations\n",
    "pipeline = Pipeline(stages=[indexer, encoder])\n",
    "\n",
    "# Fit and transform the data\n",
    "df= pipeline.fit(df).transform(df)\n",
    "\n",
    "df.show()\n"
   ]
  },
  {
   "cell_type": "code",
   "execution_count": 16,
   "metadata": {},
   "outputs": [
    {
     "data": {
      "application/vnd.jupyter.widget-view+json": {
       "model_id": "",
       "version_major": 2,
       "version_minor": 0
      },
      "text/plain": [
       "FloatProgress(value=0.0, bar_style='info', description='Progress:', layout=Layout(height='25px', width='50%'),…"
      ]
     },
     "metadata": {},
     "output_type": "display_data"
    },
    {
     "name": "stdout",
     "output_type": "stream",
     "text": [
      "['marketplace', 'customer_id', 'review_id', 'product_id', 'product_parent', 'product_title', 'star_rating', 'helpful_votes', 'total_votes', 'vine', 'verified_purchase', 'review_headline', 'review_body', 'review_date', 'year', 'vp_dummy', 'spelling_errors', 'sentiment_score', 'helpful_pct', 'review_length', 'v_dummy', 'marketplaceIndex', 'marketplaceVec']"
     ]
    }
   ],
   "source": [
    "df.columns"
   ]
  },
  {
   "cell_type": "code",
   "execution_count": 13,
   "metadata": {},
   "outputs": [
    {
     "data": {
      "application/vnd.jupyter.widget-view+json": {
       "model_id": "",
       "version_major": 2,
       "version_minor": 0
      },
      "text/plain": [
       "FloatProgress(value=0.0, bar_style='info', description='Progress:', layout=Layout(height='25px', width='50%'),…"
      ]
     },
     "metadata": {},
     "output_type": "display_data"
    }
   ],
   "source": [
    "from pyspark.ml.feature import VectorAssembler\n",
    "from pyspark.ml import Pipeline\n",
    "from pyspark.ml.classification import LogisticRegression\n",
    "from pyspark.sql.functions import regexp_replace\n",
    "\n",
    "#selected features \n",
    "vector_assembler = VectorAssembler(inputCols=['marketplaceVec',\n",
    "                                              'review_length',\n",
    "                                              'v_dummy',\n",
    "                                              'star_rating',\n",
    "                                            'sentiment_score',\n",
    "                                              'spelling_errors',\n",
    "                                            'helpful_pct'],\n",
    "                                   outputCol='features')\n"
   ]
  },
  {
   "cell_type": "code",
   "execution_count": 14,
   "metadata": {},
   "outputs": [
    {
     "data": {
      "application/vnd.jupyter.widget-view+json": {
       "model_id": "",
       "version_major": 2,
       "version_minor": 0
      },
      "text/plain": [
       "FloatProgress(value=0.0, bar_style='info', description='Progress:', layout=Layout(height='25px', width='50%'),…"
      ]
     },
     "metadata": {},
     "output_type": "display_data"
    }
   ],
   "source": [
    "\n",
    "from pyspark.ml.classification import GBTClassifier\n"
   ]
  },
  {
   "cell_type": "code",
   "execution_count": 15,
   "metadata": {},
   "outputs": [
    {
     "data": {
      "application/vnd.jupyter.widget-view+json": {
       "model_id": "",
       "version_major": 2,
       "version_minor": 0
      },
      "text/plain": [
       "FloatProgress(value=0.0, bar_style='info', description='Progress:', layout=Layout(height='25px', width='50%'),…"
      ]
     },
     "metadata": {},
     "output_type": "display_data"
    }
   ],
   "source": [
    "\n",
    "gbt_classifier = GBTClassifier(labelCol='vp_dummy',\n",
    "                               featuresCol='features')\n",
    "\n"
   ]
  },
  {
   "cell_type": "code",
   "execution_count": 16,
   "metadata": {},
   "outputs": [
    {
     "data": {
      "application/vnd.jupyter.widget-view+json": {
       "model_id": "",
       "version_major": 2,
       "version_minor": 0
      },
      "text/plain": [
       "FloatProgress(value=0.0, bar_style='info', description='Progress:', layout=Layout(height='25px', width='50%'),…"
      ]
     },
     "metadata": {},
     "output_type": "display_data"
    }
   ],
   "source": [
    "\n",
    "pipeline2 = Pipeline(stages=[vector_assembler, gbt_classifier])\n"
   ]
  },
  {
   "cell_type": "code",
   "execution_count": 17,
   "metadata": {},
   "outputs": [
    {
     "data": {
      "application/vnd.jupyter.widget-view+json": {
       "model_id": "",
       "version_major": 2,
       "version_minor": 0
      },
      "text/plain": [
       "FloatProgress(value=0.0, bar_style='info', description='Progress:', layout=Layout(height='25px', width='50%'),…"
      ]
     },
     "metadata": {},
     "output_type": "display_data"
    }
   ],
   "source": [
    "df = df.sample(fraction = 0.001)\n",
    "train, test = df.randomSplit([0.7, 0.3])"
   ]
  },
  {
   "cell_type": "code",
   "execution_count": 18,
   "metadata": {},
   "outputs": [
    {
     "data": {
      "application/vnd.jupyter.widget-view+json": {
       "model_id": "",
       "version_major": 2,
       "version_minor": 0
      },
      "text/plain": [
       "FloatProgress(value=0.0, bar_style='info', description='Progress:', layout=Layout(height='25px', width='50%'),…"
      ]
     },
     "metadata": {},
     "output_type": "display_data"
    }
   ],
   "source": [
    "from pyspark.ml.evaluation import BinaryClassificationEvaluator\n",
    "# evaluator \n",
    "evaluator = BinaryClassificationEvaluator(labelCol='vp_dummy', metricName='areaUnderROC')"
   ]
  },
  {
   "cell_type": "code",
   "execution_count": 19,
   "metadata": {},
   "outputs": [
    {
     "data": {
      "application/vnd.jupyter.widget-view+json": {
       "model_id": "",
       "version_major": 2,
       "version_minor": 0
      },
      "text/plain": [
       "FloatProgress(value=0.0, bar_style='info', description='Progress:', layout=Layout(height='25px', width='50%'),…"
      ]
     },
     "metadata": {},
     "output_type": "display_data"
    }
   ],
   "source": [
    "from pyspark.ml.tuning import CrossValidator, ParamGridBuilder\n",
    "import numpy as np \n",
    "\n",
    "\n",
    "gbt_param_grid = ParamGridBuilder() \\\n",
    "    .addGrid(gbt_classifier.maxDepth, [5, 10]) \\\n",
    "    .addGrid(gbt_classifier.maxBins, [32, 64]) \\\n",
    "    .build()\n"
   ]
  },
  {
   "cell_type": "code",
   "execution_count": 20,
   "metadata": {},
   "outputs": [
    {
     "data": {
      "application/vnd.jupyter.widget-view+json": {
       "model_id": "",
       "version_major": 2,
       "version_minor": 0
      },
      "text/plain": [
       "FloatProgress(value=0.0, bar_style='info', description='Progress:', layout=Layout(height='25px', width='50%'),…"
      ]
     },
     "metadata": {},
     "output_type": "display_data"
    }
   ],
   "source": [
    "cv2 = CrossValidator(estimator = pipeline2,\n",
    "                    estimatorParamMaps = gbt_param_grid,\n",
    "                    evaluator = evaluator)\n",
    "\n",
    "# fit the cross validator\n",
    "model2 = cv2.setNumFolds(5).fit(train)"
   ]
  },
  {
   "cell_type": "code",
   "execution_count": 21,
   "metadata": {},
   "outputs": [
    {
     "data": {
      "application/vnd.jupyter.widget-view+json": {
       "model_id": "",
       "version_major": 2,
       "version_minor": 0
      },
      "text/plain": [
       "FloatProgress(value=0.0, bar_style='info', description='Progress:', layout=Layout(height='25px', width='50%'),…"
      ]
     },
     "metadata": {},
     "output_type": "display_data"
    }
   ],
   "source": [
    "# Get the best model from cross-validation\n",
    "bestModel = model2.bestModel"
   ]
  },
  {
   "cell_type": "code",
   "execution_count": 22,
   "metadata": {},
   "outputs": [
    {
     "data": {
      "application/vnd.jupyter.widget-view+json": {
       "model_id": "",
       "version_major": 2,
       "version_minor": 0
      },
      "text/plain": [
       "FloatProgress(value=0.0, bar_style='info', description='Progress:', layout=Layout(height='25px', width='50%'),…"
      ]
     },
     "metadata": {},
     "output_type": "display_data"
    },
    {
     "name": "stdout",
     "output_type": "stream",
     "text": [
      "Best Parameters:\n",
      "cacheNodeIds: False\n",
      "checkpointInterval: 10\n",
      "featureSubsetStrategy: all\n",
      "featuresCol: features\n",
      "impurity: variance\n",
      "labelCol: vp_dummy\n",
      "leafCol: \n",
      "lossType: logistic\n",
      "maxBins: 32\n",
      "maxDepth: 5\n",
      "maxIter: 20\n",
      "maxMemoryInMB: 256\n",
      "minInfoGain: 0.0\n",
      "minInstancesPerNode: 1\n",
      "minWeightFractionPerNode: 0.0\n",
      "predictionCol: prediction\n",
      "probabilityCol: probability\n",
      "rawPredictionCol: rawPrediction\n",
      "seed: 3504127614838123891\n",
      "stepSize: 0.1\n",
      "subsamplingRate: 1.0\n",
      "validationTol: 0.01"
     ]
    }
   ],
   "source": [
    "# Print the best parameters\n",
    "bestParams = bestModel.stages[-1].extractParamMap()\n",
    "print(\"Best Parameters:\")\n",
    "for param, value in bestParams.items():\n",
    "    print(f\"{param.name}: {value}\")"
   ]
  },
  {
   "cell_type": "code",
   "execution_count": 23,
   "metadata": {},
   "outputs": [
    {
     "data": {
      "application/vnd.jupyter.widget-view+json": {
       "model_id": "",
       "version_major": 2,
       "version_minor": 0
      },
      "text/plain": [
       "FloatProgress(value=0.0, bar_style='info', description='Progress:', layout=Layout(height='25px', width='50%'),…"
      ]
     },
     "metadata": {},
     "output_type": "display_data"
    }
   ],
   "source": [
    "# Make predictions on the training data\n",
    "train_predictions = bestModel.transform(train)\n",
    "\n",
    "# Make predictions\n",
    "test_predictions = bestModel.transform(test)"
   ]
  },
  {
   "cell_type": "markdown",
   "metadata": {},
   "source": [
    "### Accuracy score\n"
   ]
  },
  {
   "cell_type": "code",
   "execution_count": 25,
   "metadata": {},
   "outputs": [
    {
     "data": {
      "application/vnd.jupyter.widget-view+json": {
       "model_id": "",
       "version_major": 2,
       "version_minor": 0
      },
      "text/plain": [
       "FloatProgress(value=0.0, bar_style='info', description='Progress:', layout=Layout(height='25px', width='50%'),…"
      ]
     },
     "metadata": {},
     "output_type": "display_data"
    },
    {
     "name": "stdout",
     "output_type": "stream",
     "text": [
      "Training Accuracy = 0.625181\n",
      "Training Error = 0.374819\n",
      "Testing Accuracy = 0.607973\n",
      "Testing Error = 0.392027"
     ]
    }
   ],
   "source": [
    "from pyspark.ml.evaluation import MulticlassClassificationEvaluator\n",
    "\n",
    "# Initialize evaluator\n",
    "evaluator = MulticlassClassificationEvaluator(labelCol=\"vp_dummy\", predictionCol=\"prediction\", metricName=\"accuracy\")\n",
    "\n",
    "# Compute accuracy on the training data\n",
    "train_accuracy = evaluator.evaluate(train_predictions)\n",
    "\n",
    "print(\"Training Accuracy = %g\" % (train_accuracy))\n",
    "print(\"Training Error = %g\" % (1.0 - train_accuracy))\n",
    "\n",
    "# Compute accuracy on the testing data\n",
    "test_accuracy = evaluator.evaluate(test_predictions)\n",
    "\n",
    "print(\"Testing Accuracy = %g\" % (test_accuracy))\n",
    "print(\"Testing Error = %g\" % (1.0 - test_accuracy))"
   ]
  },
  {
   "cell_type": "markdown",
   "metadata": {},
   "source": [
    "### AUC Score"
   ]
  },
  {
   "cell_type": "code",
   "execution_count": 26,
   "metadata": {},
   "outputs": [
    {
     "data": {
      "application/vnd.jupyter.widget-view+json": {
       "model_id": "",
       "version_major": 2,
       "version_minor": 0
      },
      "text/plain": [
       "FloatProgress(value=0.0, bar_style='info', description='Progress:', layout=Layout(height='25px', width='50%'),…"
      ]
     },
     "metadata": {},
     "output_type": "display_data"
    },
    {
     "name": "stdout",
     "output_type": "stream",
     "text": [
      "Test AUC: 0.6379"
     ]
    }
   ],
   "source": [
    "# Test AUC\n",
    "binaryAUC = evaluator.evaluate(test_predictions)\n",
    "print(\"Test AUC: {:.4f}\".format(binaryAUC))"
   ]
  },
  {
   "cell_type": "code",
   "execution_count": 27,
   "metadata": {},
   "outputs": [
    {
     "data": {
      "application/vnd.jupyter.widget-view+json": {
       "model_id": "",
       "version_major": 2,
       "version_minor": 0
      },
      "text/plain": [
       "FloatProgress(value=0.0, bar_style='info', description='Progress:', layout=Layout(height='25px', width='50%'),…"
      ]
     },
     "metadata": {},
     "output_type": "display_data"
    },
    {
     "name": "stdout",
     "output_type": "stream",
     "text": [
      "Train AUC: 0.8396"
     ]
    }
   ],
   "source": [
    "# Train AUC\n",
    "train_binaryAUC = evaluator.evaluate(train_predictions)\n",
    "print(\"Train AUC: {:.4f}\".format(train_binaryAUC))"
   ]
  },
  {
   "cell_type": "markdown",
   "metadata": {},
   "source": [
    "### Plot ROC curve"
   ]
  },
  {
   "cell_type": "code",
   "execution_count": 28,
   "metadata": {},
   "outputs": [
    {
     "data": {
      "application/vnd.jupyter.widget-view+json": {
       "model_id": "",
       "version_major": 2,
       "version_minor": 0
      },
      "text/plain": [
       "FloatProgress(value=0.0, bar_style='info', description='Progress:', layout=Layout(height='25px', width='50%'),…"
      ]
     },
     "metadata": {},
     "output_type": "display_data"
    }
   ],
   "source": [
    "raw_predictions = test_predictions.select('vp_dummy', 'rawPrediction')\n",
    "\n",
    "# Convert the raw prediction values to (probability, label) tuples:\n",
    "convert_predictions = raw_predictions.rdd.map(lambda row: (float(row['rawPrediction'][1]), float(row['vp_dummy'])))\n",
    "\n",
    "# Sort the predictions by probability in descending order\n",
    "sorted_predictions = convert_predictions.sortBy(lambda x: x[0], ascending=False)\n",
    "\n",
    "# Count the positive and negative instances in the test data\n",
    "total_positive = sorted_predictions.filter(lambda x: x[1] == 1.0).count()\n",
    "total_negative = sorted_predictions.filter(lambda x: x[1] == 0.0).count()\n",
    "\n",
    "\n",
    "# Initialize variables to store the true positive rate (TPR) and false positive rate (FPR)\n",
    "tpr_values = []\n",
    "fpr_values = []\n",
    "tp = 0\n",
    "fp = 0\n",
    "\n",
    "# Compute TPR and FPR at different probability thresholds\n",
    "for prob, label in sorted_predictions.collect():\n",
    "    if label == 1.0:\n",
    "        tp += 1\n",
    "    else:\n",
    "        fp += 1\n",
    "    tpr = tp / total_positive\n",
    "    fpr = fp / total_negative\n",
    "    tpr_values.append(tpr)\n",
    "    fpr_values.append(fpr)"
   ]
  },
  {
   "cell_type": "code",
   "execution_count": 31,
   "metadata": {},
   "outputs": [
    {
     "data": {
      "application/vnd.jupyter.widget-view+json": {
       "model_id": "",
       "version_major": 2,
       "version_minor": 0
      },
      "text/plain": [
       "FloatProgress(value=0.0, bar_style='info', description='Progress:', layout=Layout(height='25px', width='50%'),…"
      ]
     },
     "metadata": {},
     "output_type": "display_data"
    },
    {
     "data": {
      "image/png": "[encoded data removed]",
      "text/plain": [
       "<IPython.core.display.Image object>"
      ]
     },
     "metadata": {},
     "output_type": "display_data"
    }
   ],
   "source": [
    "import matplotlib.pyplot as plt\n",
    "\n",
    "# Plot the ROC curve\n",
    "plt.plot(fpr_values, tpr_values, 'b', label = 'AUC = 0.6379')\n",
    "plt.plot([0, 1], [0, 1],'r--')\n",
    "plt.xlim([0, 1])\n",
    "plt.ylim([0, 1])\n",
    "plt.legend(loc = 'lower right')\n",
    "plt.xlabel('False Positive Rate')\n",
    "plt.ylabel('True Positive Rate')\n",
    "plt.title('ROC Curve')\n",
    "plt.show()\n",
    "\n",
    "%matplot plt"
   ]
  },
  {
   "cell_type": "code",
   "execution_count": null,
   "metadata": {},
   "outputs": [],
   "source": []
  }
 ],
 "metadata": {
  "kernelspec": {
   "display_name": "PySpark",
   "language": "",
   "name": "pysparkkernel"
  },
  "language_info": {
   "codemirror_mode": {
    "name": "python",
    "version": 3
   },
   "mimetype": "text/x-python",
   "name": "pyspark",
   "pygments_lexer": "python3"
  }
 },
 "nbformat": 4,
 "nbformat_minor": 4
}
