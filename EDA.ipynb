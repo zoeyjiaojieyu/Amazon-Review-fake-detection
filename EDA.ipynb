{
 "cells": [
  {
   "cell_type": "code",
   "execution_count": 1,
   "id": "ff655719",
   "metadata": {},
   "outputs": [
    {
     "name": "stderr",
     "output_type": "stream",
     "text": [
      "/home/hadoop/miniconda/lib/python3.8/site-packages/dask_yarn/core.py:16: FutureWarning: format_bytes is deprecated and will be removed in a future release. Please use dask.utils.format_bytes instead.\n",
      "  from distributed.utils import (\n",
      "/home/hadoop/miniconda/lib/python3.8/site-packages/dask_yarn/core.py:16: FutureWarning: parse_timedelta is deprecated and will be removed in a future release. Please use dask.utils.parse_timedelta instead.\n",
      "  from distributed.utils import (\n"
     ]
    }
   ],
   "source": [
    "from dask_yarn import YarnCluster\n",
    "from dask.distributed import Client\n",
    "import matplotlib.pyplot as plt\n",
    "%matplotlib inline\n"
   ]
  },
  {
   "cell_type": "code",
   "execution_count": 2,
   "id": "bef3b52f",
   "metadata": {},
   "outputs": [
    {
     "name": "stderr",
     "output_type": "stream",
     "text": [
      "distributed.scheduler - INFO - Clear task state\n",
      "distributed.scheduler - INFO -   Scheduler at:  tcp://172.31.27.255:8786\n",
      "distributed.scheduler - INFO -   dashboard at:                    :34745\n",
      "distributed.scheduler - INFO - Receive client connection: Client-d4948bec-f98d-11ed-9367-0a06fa8a329b\n",
      "distributed.core - INFO - Starting established connection\n",
      "distributed.scheduler - INFO - Register worker <WorkerState 'tcp://172.31.30.131:35849', name: dask.worker_1, memory: 0, processing: 0>\n",
      "distributed.scheduler - INFO - Starting worker compute stream, tcp://172.31.30.131:35849\n",
      "distributed.core - INFO - Starting established connection\n",
      "distributed.scheduler - INFO - Register worker <WorkerState 'tcp://172.31.22.22:36425', name: dask.worker_0, memory: 0, processing: 0>\n",
      "distributed.scheduler - INFO - Starting worker compute stream, tcp://172.31.22.22:36425\n",
      "distributed.core - INFO - Starting established connection\n"
     ]
    }
   ],
   "source": [
    "# Create a cluster where each worker has 4 vCPU core and 8 GiB of memory:\n",
    "cluster = YarnCluster(environment=\"/home/hadoop/environment.tar.gz\",\n",
    "                      worker_vcores = 4,\n",
    "                      worker_memory = \"8GiB\"\n",
    "                      )\n",
    "\n",
    "# Scale cluster out to 2 such workers:\n",
    "cluster.scale(2)\n",
    "\n",
    "# Connect to the cluster (before proceeding, you should wait for workers to be registered by the dask scheduler, as below):\n",
    "client = Client(cluster)"
   ]
  },
  {
   "cell_type": "code",
   "execution_count": 3,
   "id": "855e7083",
   "metadata": {},
   "outputs": [
    {
     "data": {
      "text/html": [
       "<div>\n",
       "    <div style=\"width: 24px; height: 24px; background-color: #e1e1e1; border: 3px solid #9D9D9D; border-radius: 5px; position: absolute;\"> </div>\n",
       "    <div style=\"margin-left: 48px;\">\n",
       "        <h3 style=\"margin-bottom: 0px;\">Client</h3>\n",
       "        <p style=\"color: #9D9D9D; margin-bottom: 0px;\">Client-d4948bec-f98d-11ed-9367-0a06fa8a329b</p>\n",
       "        <table style=\"width: 100%; text-align: left;\">\n",
       "\n",
       "        <tr>\n",
       "        \n",
       "            <td style=\"text-align: left;\"><strong>Connection method:</strong> Cluster object</td>\n",
       "            <td style=\"text-align: left;\"><strong>Cluster type:</strong> YarnCluster</td>\n",
       "        \n",
       "        </tr>\n",
       "\n",
       "        \n",
       "            <tr>\n",
       "                <td style=\"text-align: left;\">\n",
       "                    <strong>Dashboard: </strong> <a href=\"/proxy/34745/status\">/proxy/34745/status</a>\n",
       "                </td>\n",
       "                <td style=\"text-align: left;\"></td>\n",
       "            </tr>\n",
       "        \n",
       "\n",
       "        </table>\n",
       "\n",
       "        \n",
       "            <details>\n",
       "            <summary style=\"margin-bottom: 20px;\"><h3 style=\"display: inline;\">Cluster Info</h3></summary>\n",
       "            <div style='background-color: #f2f2f2; display: inline-block; padding: 10px; border: 1px solid #999999;'>\n",
       "  <h3>YarnCluster</h3>\n",
       "  <ul>\n",
       "    <li><b>Application ID: </b>application_1684860983760_0001\n",
       "    <li><b>Dashboard: </b><a href='/proxy/34745/status' target='_blank'>/proxy/34745/status</a>\n",
       "  </ul>\n",
       "</div>\n",
       "\n",
       "            </details>\n",
       "        \n",
       "\n",
       "    </div>\n",
       "</div>"
      ],
      "text/plain": [
       "<Client: 'tcp://172.31.27.255:8786' processes=2 threads=8, memory=16.00 GiB>"
      ]
     },
     "execution_count": 3,
     "metadata": {},
     "output_type": "execute_result"
    }
   ],
   "source": [
    "client\n"
   ]
  },
  {
   "cell_type": "code",
   "execution_count": 4,
   "id": "b6ed24f6",
   "metadata": {},
   "outputs": [
    {
     "name": "stderr",
     "output_type": "stream",
     "text": [
      "/home/hadoop/miniconda/lib/python3.8/site-packages/dask/dataframe/backends.py:187: FutureWarning: pandas.Int64Index is deprecated and will be removed from pandas in a future version. Use pandas.Index with the appropriate dtype instead.\n",
      "  _numeric_index_types = (pd.Int64Index, pd.Float64Index, pd.UInt64Index)\n",
      "/home/hadoop/miniconda/lib/python3.8/site-packages/dask/dataframe/backends.py:187: FutureWarning: pandas.Float64Index is deprecated and will be removed from pandas in a future version. Use pandas.Index with the appropriate dtype instead.\n",
      "  _numeric_index_types = (pd.Int64Index, pd.Float64Index, pd.UInt64Index)\n",
      "/home/hadoop/miniconda/lib/python3.8/site-packages/dask/dataframe/backends.py:187: FutureWarning: pandas.UInt64Index is deprecated and will be removed from pandas in a future version. Use pandas.Index with the appropriate dtype instead.\n",
      "  _numeric_index_types = (pd.Int64Index, pd.Float64Index, pd.UInt64Index)\n"
     ]
    }
   ],
   "source": [
    "import dask.dataframe as dd\n",
    "\n",
    "df = dd.read_parquet(\"s3://amazon-reviews-pds/parquet/product_category=Electronics/*.parquet\",\n",
    "                     storage_options={'anon': True, 'use_ssl': False},\n",
    "                     engine='fastparquet')"
   ]
  },
  {
   "cell_type": "code",
   "execution_count": 5,
   "id": "b40c4154",
   "metadata": {},
   "outputs": [
    {
     "data": {
      "text/html": [
       "<div>\n",
       "<style scoped>\n",
       "    .dataframe tbody tr th:only-of-type {\n",
       "        vertical-align: middle;\n",
       "    }\n",
       "\n",
       "    .dataframe tbody tr th {\n",
       "        vertical-align: top;\n",
       "    }\n",
       "\n",
       "    .dataframe thead th {\n",
       "        text-align: right;\n",
       "    }\n",
       "</style>\n",
       "<table border=\"1\" class=\"dataframe\">\n",
       "  <thead>\n",
       "    <tr style=\"text-align: right;\">\n",
       "      <th></th>\n",
       "      <th>marketplace</th>\n",
       "      <th>customer_id</th>\n",
       "      <th>review_id</th>\n",
       "      <th>product_id</th>\n",
       "      <th>product_parent</th>\n",
       "      <th>product_title</th>\n",
       "      <th>star_rating</th>\n",
       "      <th>helpful_votes</th>\n",
       "      <th>total_votes</th>\n",
       "      <th>vine</th>\n",
       "      <th>verified_purchase</th>\n",
       "      <th>review_headline</th>\n",
       "      <th>review_body</th>\n",
       "      <th>review_date</th>\n",
       "      <th>year</th>\n",
       "    </tr>\n",
       "  </thead>\n",
       "  <tbody>\n",
       "    <tr>\n",
       "      <th>0</th>\n",
       "      <td>US</td>\n",
       "      <td>52826068</td>\n",
       "      <td>R3SC2T77Y0PSN8</td>\n",
       "      <td>B00FIYDC1W</td>\n",
       "      <td>822091995</td>\n",
       "      <td>Monster DNA Over-Ear Headphones</td>\n",
       "      <td>4</td>\n",
       "      <td>0</td>\n",
       "      <td>0</td>\n",
       "      <td>Y</td>\n",
       "      <td>N</td>\n",
       "      <td>Very nice sound, comfortable</td>\n",
       "      <td>These headphones are very nice.  Sound is quit...</td>\n",
       "      <td>2014-04-09</td>\n",
       "      <td>2014</td>\n",
       "    </tr>\n",
       "    <tr>\n",
       "      <th>1</th>\n",
       "      <td>US</td>\n",
       "      <td>13676500</td>\n",
       "      <td>R2ONIZ7ICKORQV</td>\n",
       "      <td>B00E19H9U0</td>\n",
       "      <td>662432872</td>\n",
       "      <td>Tech Armor 30ML Go Cleaning Kit with ExtraMove...</td>\n",
       "      <td>5</td>\n",
       "      <td>0</td>\n",
       "      <td>0</td>\n",
       "      <td>N</td>\n",
       "      <td>Y</td>\n",
       "      <td>Five Stars</td>\n",
       "      <td>Arrived as expected great product</td>\n",
       "      <td>2014-11-17</td>\n",
       "      <td>2014</td>\n",
       "    </tr>\n",
       "    <tr>\n",
       "      <th>2</th>\n",
       "      <td>US</td>\n",
       "      <td>9133162</td>\n",
       "      <td>R3RN22LN1VUJR6</td>\n",
       "      <td>B00ELCP55I</td>\n",
       "      <td>576075415</td>\n",
       "      <td>Mpow&amp;reg; FreeGo Wireless Bluetooth 4.0 Headse...</td>\n",
       "      <td>4</td>\n",
       "      <td>3</td>\n",
       "      <td>4</td>\n",
       "      <td>N</td>\n",
       "      <td>Y</td>\n",
       "      <td>really enjoyed this product</td>\n",
       "      <td>the reason I chose this product because of  de...</td>\n",
       "      <td>2014-04-09</td>\n",
       "      <td>2014</td>\n",
       "    </tr>\n",
       "    <tr>\n",
       "      <th>3</th>\n",
       "      <td>US</td>\n",
       "      <td>15154971</td>\n",
       "      <td>R36LBJWIVBO9M8</td>\n",
       "      <td>B00A6Q596I</td>\n",
       "      <td>533568175</td>\n",
       "      <td>1080P 30 Pin Dock Male to HDMI Male Adapter Ca...</td>\n",
       "      <td>4</td>\n",
       "      <td>0</td>\n",
       "      <td>0</td>\n",
       "      <td>N</td>\n",
       "      <td>N</td>\n",
       "      <td>Works on Ipad 2?</td>\n",
       "      <td>Works  on Ipad 2?</td>\n",
       "      <td>2014-11-17</td>\n",
       "      <td>2014</td>\n",
       "    </tr>\n",
       "    <tr>\n",
       "      <th>4</th>\n",
       "      <td>US</td>\n",
       "      <td>12151874</td>\n",
       "      <td>RW983892SG9VP</td>\n",
       "      <td>B000HKGK8Y</td>\n",
       "      <td>544321119</td>\n",
       "      <td>RCA ANT111Z Durable FM Antenna, Rabbit Ears</td>\n",
       "      <td>5</td>\n",
       "      <td>0</td>\n",
       "      <td>0</td>\n",
       "      <td>N</td>\n",
       "      <td>Y</td>\n",
       "      <td>Works great!</td>\n",
       "      <td>I am very happy with this antenna. Works like ...</td>\n",
       "      <td>2014-04-09</td>\n",
       "      <td>2014</td>\n",
       "    </tr>\n",
       "  </tbody>\n",
       "</table>\n",
       "</div>"
      ],
      "text/plain": [
       "  marketplace customer_id       review_id  product_id product_parent  \\\n",
       "0          US    52826068  R3SC2T77Y0PSN8  B00FIYDC1W      822091995   \n",
       "1          US    13676500  R2ONIZ7ICKORQV  B00E19H9U0      662432872   \n",
       "2          US     9133162  R3RN22LN1VUJR6  B00ELCP55I      576075415   \n",
       "3          US    15154971  R36LBJWIVBO9M8  B00A6Q596I      533568175   \n",
       "4          US    12151874   RW983892SG9VP  B000HKGK8Y      544321119   \n",
       "\n",
       "                                       product_title  star_rating  \\\n",
       "0                    Monster DNA Over-Ear Headphones            4   \n",
       "1  Tech Armor 30ML Go Cleaning Kit with ExtraMove...            5   \n",
       "2  Mpow&reg; FreeGo Wireless Bluetooth 4.0 Headse...            4   \n",
       "3  1080P 30 Pin Dock Male to HDMI Male Adapter Ca...            4   \n",
       "4        RCA ANT111Z Durable FM Antenna, Rabbit Ears            5   \n",
       "\n",
       "   helpful_votes  total_votes vine verified_purchase  \\\n",
       "0              0            0    Y                 N   \n",
       "1              0            0    N                 Y   \n",
       "2              3            4    N                 Y   \n",
       "3              0            0    N                 N   \n",
       "4              0            0    N                 Y   \n",
       "\n",
       "                review_headline  \\\n",
       "0  Very nice sound, comfortable   \n",
       "1                    Five Stars   \n",
       "2   really enjoyed this product   \n",
       "3              Works on Ipad 2?   \n",
       "4                  Works great!   \n",
       "\n",
       "                                         review_body review_date  year  \n",
       "0  These headphones are very nice.  Sound is quit...  2014-04-09  2014  \n",
       "1                  Arrived as expected great product  2014-11-17  2014  \n",
       "2  the reason I chose this product because of  de...  2014-04-09  2014  \n",
       "3                                  Works  on Ipad 2?  2014-11-17  2014  \n",
       "4  I am very happy with this antenna. Works like ...  2014-04-09  2014  "
      ]
     },
     "execution_count": 5,
     "metadata": {},
     "output_type": "execute_result"
    }
   ],
   "source": [
    "df.head()"
   ]
  },
  {
   "cell_type": "markdown",
   "id": "fe813138",
   "metadata": {},
   "source": [
    "## Plot 1: What is the distribution of the no. of reviews across time?"
   ]
  },
  {
   "cell_type": "code",
   "execution_count": 7,
   "id": "f4d63628",
   "metadata": {},
   "outputs": [
    {
     "data": {
      "text/plain": [
       "<Axes: title={'center': 'Number of reviews across years'}, xlabel='year', ylabel='No. of reviews'>"
      ]
     },
     "execution_count": 7,
     "metadata": {},
     "output_type": "execute_result"
    },
    {
     "data": {
      "image/png": "[encoded data removed]",
      "text/plain": [
       "<Figure size 640x480 with 1 Axes>"
      ]
     },
     "metadata": {},
     "output_type": "display_data"
    }
   ],
   "source": [
    "reviews_by_year = (df[['year','vine']].groupby('year').count())\n",
    "reviews_df = reviews_by_year.compute()\n",
    "# x = [2000, 2005, 2010, 2015]\n",
    "reviews_df.plot(kind=\"line\", title= \"Number of reviews across years\",\n",
    "           ylabel = \"No. of reviews\",legend=None)"
   ]
  },
  {
   "cell_type": "markdown",
   "id": "9a1316c5",
   "metadata": {},
   "source": [
    "### Description 1:"
   ]
  },
  {
   "cell_type": "markdown",
   "id": "f4858d57",
   "metadata": {},
   "source": [
    "Plot 1 clearly depicts a notable surge in the number of reviews from 1998 to 2015. This could be attributed to the growing population of Internet users and the widespread popularity of electronics. Consequently, the plot prompts the question of whether there exists a correlation between the number of reviews and the star rating. "
   ]
  },
  {
   "cell_type": "markdown",
   "id": "50f614d3",
   "metadata": {},
   "source": [
    "## Plot 2: What is the average star rating across time?"
   ]
  },
  {
   "cell_type": "code",
   "execution_count": 8,
   "id": "c8cb9f56",
   "metadata": {},
   "outputs": [],
   "source": [
    "# Average star rating across years \n",
    "score_year = (df[['year', 'star_rating']].groupby('year').mean())\n",
    "scores = score_year.compute()\n"
   ]
  },
  {
   "cell_type": "code",
   "execution_count": 9,
   "id": "17df3c3b",
   "metadata": {},
   "outputs": [
    {
     "data": {
      "text/plain": [
       "<Axes: title={'center': 'Average star rating across years'}, xlabel='year', ylabel='Average rating'>"
      ]
     },
     "execution_count": 9,
     "metadata": {},
     "output_type": "execute_result"
    },
    {
     "data": {
      "image/png": "[encoded data removed]",
      "text/plain": [
       "<Figure size 640x480 with 1 Axes>"
      ]
     },
     "metadata": {},
     "output_type": "display_data"
    }
   ],
   "source": [
    "scores.plot(kind=\"line\", title= \"Average star rating across years\",\n",
    "           ylabel = \"Average rating\")\n"
   ]
  },
  {
   "cell_type": "markdown",
   "id": "ab0d49a8",
   "metadata": {},
   "source": [
    "### Description 2:"
   ]
  },
  {
   "cell_type": "markdown",
   "id": "08404310",
   "metadata": {},
   "source": [
    "By examining plot 2, we can discern a U-shaped pattern in the relationship between the average star rating and the year. Notably, the lowest average star rating occurs in 2004. There was a slight decrease between 2007 and 2011, but the rating kept increasing after 2011. This observation holds significance as it suggests the possibility of a change or disruption that subsequently led to a rebound in the average rating starting from 2004. Additionally, there is a possibility that the number of inauthentic reviewers has experienced an increase since that period. "
   ]
  },
  {
   "cell_type": "markdown",
   "id": "6daecfa6",
   "metadata": {},
   "source": [
    "## Plot 3: What is the distribution of reviews by marketplace?"
   ]
  },
  {
   "cell_type": "code",
   "execution_count": 21,
   "id": "b66f5510",
   "metadata": {},
   "outputs": [
    {
     "data": {
      "text/plain": [
       "<Axes: title={'center': 'Number of reviews by marketplace'}, xlabel='marketplace', ylabel='No. of reviews'>"
      ]
     },
     "execution_count": 21,
     "metadata": {},
     "output_type": "execute_result"
    },
    {
     "data": {
      "image/png": "[encoded data removed]",
      "text/plain": [
       "<Figure size 640x480 with 1 Axes>"
      ]
     },
     "metadata": {},
     "output_type": "display_data"
    }
   ],
   "source": [
    "reviews_by_mp = (df[['marketplace','year']].groupby('marketplace').count())\n",
    "reviews_df = reviews_by_mp.compute()\n",
    "reviews_df.plot(kind=\"bar\", title= \"Number of reviews by marketplace\",\n",
    "           ylabel = \"No. of reviews\",legend=None)"
   ]
  },
  {
   "cell_type": "code",
   "execution_count": 23,
   "id": "1643475e",
   "metadata": {},
   "outputs": [
    {
     "data": {
      "text/html": [
       "<div>\n",
       "<style scoped>\n",
       "    .dataframe tbody tr th:only-of-type {\n",
       "        vertical-align: middle;\n",
       "    }\n",
       "\n",
       "    .dataframe tbody tr th {\n",
       "        vertical-align: top;\n",
       "    }\n",
       "\n",
       "    .dataframe thead th {\n",
       "        text-align: right;\n",
       "    }\n",
       "</style>\n",
       "<table border=\"1\" class=\"dataframe\">\n",
       "  <thead>\n",
       "    <tr style=\"text-align: right;\">\n",
       "      <th></th>\n",
       "      <th>year</th>\n",
       "    </tr>\n",
       "    <tr>\n",
       "      <th>marketplace</th>\n",
       "      <th></th>\n",
       "    </tr>\n",
       "  </thead>\n",
       "  <tbody>\n",
       "    <tr>\n",
       "      <th>DE</th>\n",
       "      <td>4035</td>\n",
       "    </tr>\n",
       "    <tr>\n",
       "      <th>FR</th>\n",
       "      <td>2363</td>\n",
       "    </tr>\n",
       "    <tr>\n",
       "      <th>JP</th>\n",
       "      <td>3361</td>\n",
       "    </tr>\n",
       "    <tr>\n",
       "      <th>UK</th>\n",
       "      <td>5851</td>\n",
       "    </tr>\n",
       "    <tr>\n",
       "      <th>US</th>\n",
       "      <td>3105328</td>\n",
       "    </tr>\n",
       "  </tbody>\n",
       "</table>\n",
       "</div>"
      ],
      "text/plain": [
       "                year\n",
       "marketplace         \n",
       "DE              4035\n",
       "FR              2363\n",
       "JP              3361\n",
       "UK              5851\n",
       "US           3105328"
      ]
     },
     "execution_count": 23,
     "metadata": {},
     "output_type": "execute_result"
    }
   ],
   "source": [
    "reviews_df.head()"
   ]
  },
  {
   "cell_type": "markdown",
   "id": "43349871",
   "metadata": {},
   "source": [
    "### Description 3:"
   ]
  },
  {
   "cell_type": "markdown",
   "id": "a051d2f6",
   "metadata": {},
   "source": [
    "Upon analyzing plot 3, it becomes evident that the overwhelming majority of reviews were contributed by customers from the United States. Consequently, focusing solely on English reviews would suffice for scrutinizing the genuineness of the reviews."
   ]
  },
  {
   "cell_type": "markdown",
   "id": "5a578b6c",
   "metadata": {},
   "source": [
    "## Plot 4: What is the distribution of reviews by verified purchase?"
   ]
  },
  {
   "cell_type": "code",
   "execution_count": 25,
   "id": "c11b84c8",
   "metadata": {},
   "outputs": [
    {
     "data": {
      "text/plain": [
       "<Axes: title={'center': 'Number of reviews by verified purchase'}, xlabel='verified_purchase', ylabel='No. of reviews'>"
      ]
     },
     "execution_count": 25,
     "metadata": {},
     "output_type": "execute_result"
    },
    {
     "data": {
      "image/png": "[encoded data removed]",
      "text/plain": [
       "<Figure size 640x480 with 1 Axes>"
      ]
     },
     "metadata": {},
     "output_type": "display_data"
    }
   ],
   "source": [
    "reviews_by_vp = (df[['verified_purchase','year']].groupby('verified_purchase').count())\n",
    "reviews_df = reviews_by_vp.compute()\n",
    "reviews_df.plot(kind=\"bar\", title= \"Number of reviews by verified purchase\",\n",
    "           ylabel = \"No. of reviews\",legend=None)"
   ]
  },
  {
   "cell_type": "code",
   "execution_count": 26,
   "id": "0a3d2ab7",
   "metadata": {},
   "outputs": [
    {
     "data": {
      "text/html": [
       "<div>\n",
       "<style scoped>\n",
       "    .dataframe tbody tr th:only-of-type {\n",
       "        vertical-align: middle;\n",
       "    }\n",
       "\n",
       "    .dataframe tbody tr th {\n",
       "        vertical-align: top;\n",
       "    }\n",
       "\n",
       "    .dataframe thead th {\n",
       "        text-align: right;\n",
       "    }\n",
       "</style>\n",
       "<table border=\"1\" class=\"dataframe\">\n",
       "  <thead>\n",
       "    <tr style=\"text-align: right;\">\n",
       "      <th></th>\n",
       "      <th>year</th>\n",
       "    </tr>\n",
       "    <tr>\n",
       "      <th>verified_purchase</th>\n",
       "      <th></th>\n",
       "    </tr>\n",
       "  </thead>\n",
       "  <tbody>\n",
       "    <tr>\n",
       "      <th>N</th>\n",
       "      <td>498022</td>\n",
       "    </tr>\n",
       "    <tr>\n",
       "      <th>Y</th>\n",
       "      <td>2622916</td>\n",
       "    </tr>\n",
       "  </tbody>\n",
       "</table>\n",
       "</div>"
      ],
      "text/plain": [
       "                      year\n",
       "verified_purchase         \n",
       "N                   498022\n",
       "Y                  2622916"
      ]
     },
     "execution_count": 26,
     "metadata": {},
     "output_type": "execute_result"
    }
   ],
   "source": [
    "reviews_df.head()"
   ]
  },
  {
   "cell_type": "markdown",
   "id": "d66f8133",
   "metadata": {},
   "source": [
    "### Description 4:"
   ]
  },
  {
   "cell_type": "markdown",
   "id": "16e32a9a",
   "metadata": {},
   "source": [
    "The presence of a verified purchase can serve as a robust indicator of review authenticity, as it helps identify instances where bots or insincere reviewers express biased or malicious opinions without actually purchasing or using the products. As depicted in plot 4, a considerable portion of the reviews consisted of verified purchases.\n"
   ]
  },
  {
   "cell_type": "markdown",
   "id": "0d0ea288",
   "metadata": {},
   "source": [
    "## Plot 5: What is the distribution of reviews by vine?"
   ]
  },
  {
   "cell_type": "code",
   "execution_count": 27,
   "id": "d403fa14",
   "metadata": {},
   "outputs": [
    {
     "data": {
      "text/plain": [
       "<Axes: title={'center': 'Number of reviews by vine program'}, xlabel='vine', ylabel='No. of reviews'>"
      ]
     },
     "execution_count": 27,
     "metadata": {},
     "output_type": "execute_result"
    },
    {
     "data": {
      "image/png": "[encoded data removed]",
      "text/plain": [
       "<Figure size 640x480 with 1 Axes>"
      ]
     },
     "metadata": {},
     "output_type": "display_data"
    }
   ],
   "source": [
    "reviews_by_vine = (df[['vine','year']].groupby('vine').count())\n",
    "reviews_df = reviews_by_vine.compute()\n",
    "reviews_df.plot(kind=\"bar\", title= \"Number of reviews by vine program\",\n",
    "           ylabel = \"No. of reviews\",legend=None)"
   ]
  },
  {
   "cell_type": "code",
   "execution_count": 28,
   "id": "b20a0bd3",
   "metadata": {},
   "outputs": [
    {
     "data": {
      "text/html": [
       "<div>\n",
       "<style scoped>\n",
       "    .dataframe tbody tr th:only-of-type {\n",
       "        vertical-align: middle;\n",
       "    }\n",
       "\n",
       "    .dataframe tbody tr th {\n",
       "        vertical-align: top;\n",
       "    }\n",
       "\n",
       "    .dataframe thead th {\n",
       "        text-align: right;\n",
       "    }\n",
       "</style>\n",
       "<table border=\"1\" class=\"dataframe\">\n",
       "  <thead>\n",
       "    <tr style=\"text-align: right;\">\n",
       "      <th></th>\n",
       "      <th>year</th>\n",
       "    </tr>\n",
       "    <tr>\n",
       "      <th>vine</th>\n",
       "      <th></th>\n",
       "    </tr>\n",
       "  </thead>\n",
       "  <tbody>\n",
       "    <tr>\n",
       "      <th>N</th>\n",
       "      <td>3101985</td>\n",
       "    </tr>\n",
       "    <tr>\n",
       "      <th>Y</th>\n",
       "      <td>18953</td>\n",
       "    </tr>\n",
       "  </tbody>\n",
       "</table>\n",
       "</div>"
      ],
      "text/plain": [
       "         year\n",
       "vine         \n",
       "N     3101985\n",
       "Y       18953"
      ]
     },
     "execution_count": 28,
     "metadata": {},
     "output_type": "execute_result"
    }
   ],
   "source": [
    "reviews_df.head()"
   ]
  },
  {
   "cell_type": "markdown",
   "id": "97d7fd00",
   "metadata": {},
   "source": [
    "### Description 5:"
   ]
  },
  {
   "cell_type": "markdown",
   "id": "d1ef6bd7",
   "metadata": {},
   "source": [
    "The exclusive membership in the vine program is granted solely to customers who consistently deliver valuable and perceptive reviews. However, as depicted in plot 5, the majority of reviewers did not possess vine program membership.\n"
   ]
  },
  {
   "cell_type": "code",
   "execution_count": null,
   "id": "9c713a0b",
   "metadata": {},
   "outputs": [],
   "source": []
  },
  {
   "cell_type": "code",
   "execution_count": null,
   "id": "bd50ebae",
   "metadata": {},
   "outputs": [],
   "source": []
  },
  {
   "cell_type": "code",
   "execution_count": null,
   "id": "4fba7978",
   "metadata": {},
   "outputs": [],
   "source": []
  },
  {
   "cell_type": "code",
   "execution_count": null,
   "id": "17a56d72",
   "metadata": {},
   "outputs": [],
   "source": []
  },
  {
   "cell_type": "code",
   "execution_count": null,
   "id": "9bf4a62f",
   "metadata": {},
   "outputs": [],
   "source": []
  }
 ],
 "metadata": {
  "kernelspec": {
   "display_name": "Python 3",
   "language": "python",
   "name": "python3"
  },
  "language_info": {
   "codemirror_mode": {
    "name": "ipython",
    "version": 3
   },
   "file_extension": ".py",
   "mimetype": "text/x-python",
   "name": "python",
   "nbconvert_exporter": "python",
   "pygments_lexer": "ipython3",
   "version": "3.8.10"
  }
 },
 "nbformat": 4,
 "nbformat_minor": 5
}
