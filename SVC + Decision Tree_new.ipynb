{
 "cells": [
  {
   "cell_type": "code",
   "execution_count": 1,
   "metadata": {},
   "outputs": [
    {
     "data": {
      "text/html": [
       "Current session configs: <tt>{'conf': {'spark.pyspark.python': 'python3', 'spark.pyspark.virtualenv.enabled': 'true', 'spark.pyspark.virtualenv.type': 'native', 'spark.pyspark.virtualenv.bin.path': '/usr/bin/virtualenv'}, 'proxyUser': 'jovyan', 'kind': 'pyspark'}</tt><br>"
      ],
      "text/plain": [
       "<IPython.core.display.HTML object>"
      ]
     },
     "metadata": {},
     "output_type": "display_data"
    },
    {
     "data": {
      "text/html": [
       "No active sessions."
      ],
      "text/plain": [
       "<IPython.core.display.HTML object>"
      ]
     },
     "metadata": {},
     "output_type": "display_data"
    }
   ],
   "source": [
    "%%configure -f\n",
    "{\n",
    "    \"conf\": {\n",
    "        \"spark.pyspark.python\": \"python3\",\n",
    "        \"spark.pyspark.virtualenv.enabled\": \"true\",\n",
    "        \"spark.pyspark.virtualenv.type\":\"native\",\n",
    "        \"spark.pyspark.virtualenv.bin.path\":\"/usr/bin/virtualenv\"\n",
    "    }\n",
    "}"
   ]
  },
  {
   "cell_type": "markdown",
   "metadata": {},
   "source": [
    "### Install packages"
   ]
  },
  {
   "cell_type": "code",
   "execution_count": 2,
   "metadata": {
    "scrolled": false
   },
   "outputs": [
    {
     "name": "stdout",
     "output_type": "stream",
     "text": [
      "Starting Spark application\n"
     ]
    },
    {
     "data": {
      "text/html": [
       "<table>\n",
       "<tr><th>ID</th><th>YARN Application ID</th><th>Kind</th><th>State</th><th>Spark UI</th><th>Driver log</th><th>Current session?</th></tr><tr><td>0</td><td>application_1685064596730_0002</td><td>pyspark</td><td>idle</td><td><a target=\"_blank\" href=\"http://ip-172-31-17-124.ec2.internal:20888/proxy/application_1685064596730_0002/\">Link</a></td><td><a target=\"_blank\" href=\"http://ip-172-31-27-27.ec2.internal:8042/node/containerlogs/container_1685064596730_0002_01_000001/livy\">Link</a></td><td>✔</td></tr></table>"
      ],
      "text/plain": [
       "<IPython.core.display.HTML object>"
      ]
     },
     "metadata": {},
     "output_type": "display_data"
    },
    {
     "data": {
      "application/vnd.jupyter.widget-view+json": {
       "model_id": "",
       "version_major": 2,
       "version_minor": 0
      },
      "text/plain": [
       "FloatProgress(value=0.0, bar_style='info', description='Progress:', layout=Layout(height='25px', width='50%'),…"
      ]
     },
     "metadata": {},
     "output_type": "display_data"
    },
    {
     "name": "stdout",
     "output_type": "stream",
     "text": [
      "SparkSession available as 'spark'.\n"
     ]
    },
    {
     "data": {
      "application/vnd.jupyter.widget-view+json": {
       "model_id": "",
       "version_major": 2,
       "version_minor": 0
      },
      "text/plain": [
       "FloatProgress(value=0.0, bar_style='info', description='Progress:', layout=Layout(height='25px', width='50%'),…"
      ]
     },
     "metadata": {},
     "output_type": "display_data"
    },
    {
     "name": "stdout",
     "output_type": "stream",
     "text": [
      "Collecting boto3==1.19.2\n",
      "  Downloading https://files.pythonhosted.org/packages/59/60/163503f24cf09553d0bb6c37db9ff3254f6cda812cab00430602867d03f5/boto3-1.19.2-py3-none-any.whl (131kB)\n",
      "Collecting botocore<1.23.0,>=1.22.2 (from boto3==1.19.2)\n",
      "  Downloading https://files.pythonhosted.org/packages/6a/73/552b27e3a1b4f83630907c4958be78e9d4c906e73efd554ebd5e21cb1692/botocore-1.22.12-py3-none-any.whl (8.1MB)\n",
      "Collecting s3transfer<0.6.0,>=0.5.0 (from boto3==1.19.2)\n",
      "  Downloading https://files.pythonhosted.org/packages/7b/9c/f51775ebe7df5a7aa4e7c79ed671bde94e154bd968aca8d65bb24aba0c8c/s3transfer-0.5.2-py3-none-any.whl (79kB)\n",
      "Requirement already satisfied: jmespath<1.0.0,>=0.7.1 in /usr/local/lib/python3.7/site-packages (from boto3==1.19.2)\n",
      "Collecting urllib3<1.27,>=1.25.4 (from botocore<1.23.0,>=1.22.2->boto3==1.19.2)\n",
      "  Downloading https://files.pythonhosted.org/packages/c5/05/c214b32d21c0b465506f95c4f28ccbcba15022e000b043b72b3df7728471/urllib3-1.26.16-py2.py3-none-any.whl (143kB)\n",
      "Collecting python-dateutil<3.0.0,>=2.1 (from botocore<1.23.0,>=1.22.2->boto3==1.19.2)\n",
      "  Downloading https://files.pythonhosted.org/packages/36/7a/87837f39d0296e723bb9b62bbb257d0355c7f6128853c78955f57342a56d/python_dateutil-2.8.2-py2.py3-none-any.whl (247kB)\n",
      "Requirement already satisfied: six>=1.5 in /usr/local/lib/python3.7/site-packages (from python-dateutil<3.0.0,>=2.1->botocore<1.23.0,>=1.22.2->boto3==1.19.2)\n",
      "Installing collected packages: urllib3, python-dateutil, botocore, s3transfer, boto3\n",
      "Successfully installed boto3-1.19.2 botocore-1.22.12 python-dateutil-2.8.2 s3transfer-0.5.2 urllib3-1.26.16\n",
      "\n",
      "Collecting pandas==1.0.5\n",
      "  Downloading https://files.pythonhosted.org/packages/af/f3/683bf2547a3eaeec15b39cef86f61e921b3b187f250fcd2b5c5fb4386369/pandas-1.0.5-cp37-cp37m-manylinux1_x86_64.whl (10.1MB)\n",
      "Requirement already satisfied: numpy>=1.13.3 in /usr/local/lib64/python3.7/site-packages (from pandas==1.0.5)\n",
      "Requirement already satisfied: python-dateutil>=2.6.1 in /mnt/tmp/1685065880319-0/lib/python3.7/site-packages (from pandas==1.0.5)\n",
      "Requirement already satisfied: pytz>=2017.2 in /usr/local/lib/python3.7/site-packages (from pandas==1.0.5)\n",
      "Requirement already satisfied: six>=1.5 in /usr/local/lib/python3.7/site-packages (from python-dateutil>=2.6.1->pandas==1.0.5)\n",
      "Installing collected packages: pandas\n",
      "Successfully installed pandas-1.0.5\n",
      "\n",
      "Collecting scipy==1.4.1\n",
      "  Downloading https://files.pythonhosted.org/packages/dd/82/c1fe128f3526b128cfd185580ba40d01371c5d299fcf7f77968e22dfcc2e/scipy-1.4.1-cp37-cp37m-manylinux1_x86_64.whl (26.1MB)\n",
      "Requirement already satisfied: numpy>=1.13.3 in /usr/local/lib64/python3.7/site-packages (from scipy==1.4.1)\n",
      "Installing collected packages: scipy\n",
      "Successfully installed scipy-1.4.1\n",
      "\n",
      "Collecting matplotlib==3.2.1\n",
      "  Downloading https://files.pythonhosted.org/packages/b2/c2/71fcf957710f3ba1f09088b35776a799ba7dd95f7c2b195ec800933b276b/matplotlib-3.2.1-cp37-cp37m-manylinux1_x86_64.whl (12.4MB)\n",
      "Collecting pyparsing!=2.0.4,!=2.1.2,!=2.1.6,>=2.0.1 (from matplotlib==3.2.1)\n",
      "  Downloading https://files.pythonhosted.org/packages/6c/10/a7d0fa5baea8fe7b50f448ab742f26f52b80bfca85ac2be9d35cdd9a3246/pyparsing-3.0.9-py3-none-any.whl (98kB)\n",
      "Requirement already satisfied: python-dateutil>=2.1 in /mnt/tmp/1685065880319-0/lib/python3.7/site-packages (from matplotlib==3.2.1)\n",
      "Requirement already satisfied: numpy>=1.11 in /usr/local/lib64/python3.7/site-packages (from matplotlib==3.2.1)\n",
      "Collecting cycler>=0.10 (from matplotlib==3.2.1)\n",
      "  Downloading https://files.pythonhosted.org/packages/5c/f9/695d6bedebd747e5eb0fe8fad57b72fdf25411273a39791cde838d5a8f51/cycler-0.11.0-py3-none-any.whl\n",
      "Collecting kiwisolver>=1.0.1 (from matplotlib==3.2.1)\n",
      "  Downloading https://files.pythonhosted.org/packages/ab/8f/8dbe2d4efc4c0b08ec67d6efb7cc31fbfd688c80afad85f65980633b0d37/kiwisolver-1.4.4-cp37-cp37m-manylinux_2_5_x86_64.manylinux1_x86_64.whl (1.1MB)\n",
      "Requirement already satisfied: six>=1.5 in /usr/local/lib/python3.7/site-packages (from python-dateutil>=2.1->matplotlib==3.2.1)\n",
      "Collecting typing-extensions; python_version < \"3.8\" (from kiwisolver>=1.0.1->matplotlib==3.2.1)\n",
      "  Downloading https://files.pythonhosted.org/packages/38/60/300ad6f93adca578bf05d5f6cd1d854b7d140bebe2f9829561aa9977d9f3/typing_extensions-4.6.2-py3-none-any.whl\n",
      "Installing collected packages: pyparsing, cycler, typing-extensions, kiwisolver, matplotlib\n",
      "Successfully installed cycler-0.11.0 kiwisolver-1.4.4 matplotlib-3.2.1 pyparsing-3.0.9 typing-extensions-4.6.2\n",
      "\n",
      "Collecting seaborn==0.10.1\n",
      "  Downloading https://files.pythonhosted.org/packages/c7/e6/54aaaafd0b87f51dfba92ba73da94151aa3bc179e5fe88fc5dfb3038e860/seaborn-0.10.1-py3-none-any.whl (215kB)\n",
      "Requirement already satisfied: numpy>=1.13.3 in /usr/local/lib64/python3.7/site-packages (from seaborn==0.10.1)\n",
      "Requirement already satisfied: scipy>=1.0.1 in /mnt/tmp/1685065880319-0/lib/python3.7/site-packages (from seaborn==0.10.1)\n",
      "Requirement already satisfied: matplotlib>=2.1.2 in /mnt/tmp/1685065880319-0/lib/python3.7/site-packages (from seaborn==0.10.1)\n",
      "Requirement already satisfied: pandas>=0.22.0 in /mnt/tmp/1685065880319-0/lib/python3.7/site-packages (from seaborn==0.10.1)\n",
      "Requirement already satisfied: pyparsing!=2.0.4,!=2.1.2,!=2.1.6,>=2.0.1 in /mnt/tmp/1685065880319-0/lib/python3.7/site-packages (from matplotlib>=2.1.2->seaborn==0.10.1)\n",
      "Requirement already satisfied: python-dateutil>=2.1 in /mnt/tmp/1685065880319-0/lib/python3.7/site-packages (from matplotlib>=2.1.2->seaborn==0.10.1)\n",
      "Requirement already satisfied: cycler>=0.10 in /mnt/tmp/1685065880319-0/lib/python3.7/site-packages (from matplotlib>=2.1.2->seaborn==0.10.1)\n",
      "Requirement already satisfied: kiwisolver>=1.0.1 in /mnt/tmp/1685065880319-0/lib/python3.7/site-packages (from matplotlib>=2.1.2->seaborn==0.10.1)\n",
      "Requirement already satisfied: pytz>=2017.2 in /usr/local/lib/python3.7/site-packages (from pandas>=0.22.0->seaborn==0.10.1)\n",
      "Requirement already satisfied: six>=1.5 in /usr/local/lib/python3.7/site-packages (from python-dateutil>=2.1->matplotlib>=2.1.2->seaborn==0.10.1)\n",
      "Requirement already satisfied: typing-extensions; python_version < \"3.8\" in /mnt/tmp/1685065880319-0/lib/python3.7/site-packages (from kiwisolver>=1.0.1->matplotlib>=2.1.2->seaborn==0.10.1)\n",
      "Installing collected packages: seaborn\n",
      "Successfully installed seaborn-0.10.1\n",
      "\n",
      "Collecting textblob\n",
      "  Downloading https://files.pythonhosted.org/packages/44/a4/595b66c1342a830f4ff476307c4367541cce3e361b9ee96d22a5eeeddd1d/textblob-0.17.1-py2.py3-none-any.whl (636kB)\n",
      "Requirement already satisfied: nltk>=3.1; python_version >= \"3\" in /usr/local/lib/python3.7/site-packages (from textblob)\n",
      "Requirement already satisfied: click in /usr/local/lib64/python3.7/site-packages (from nltk>=3.1; python_version >= \"3\"->textblob)\n",
      "Requirement already satisfied: joblib in /usr/local/lib64/python3.7/site-packages (from nltk>=3.1; python_version >= \"3\"->textblob)\n",
      "Requirement already satisfied: regex in /usr/local/lib64/python3.7/site-packages (from nltk>=3.1; python_version >= \"3\"->textblob)\n",
      "Requirement already satisfied: tqdm in /usr/local/lib64/python3.7/site-packages (from nltk>=3.1; python_version >= \"3\"->textblob)\n",
      "Installing collected packages: textblob\n",
      "Successfully installed textblob-0.17.1\n",
      "\n",
      "Collecting pyspellchecker\n",
      "  Downloading https://files.pythonhosted.org/packages/74/2e/dd08caa20287695631e7267aa6ad0dbd1990cae32323db1620cc5cb549b0/pyspellchecker-0.7.2-py3-none-any.whl (3.4MB)\n",
      "Installing collected packages: pyspellchecker\n",
      "Successfully installed pyspellchecker-0.7.2"
     ]
    }
   ],
   "source": [
    "sc.install_pypi_package(\"boto3==1.19.2\")\n",
    "sc.install_pypi_package(\"pandas==1.0.5\")\n",
    "sc.install_pypi_package(\"scipy==1.4.1\")\n",
    "sc.install_pypi_package(\"matplotlib==3.2.1\")\n",
    "sc.install_pypi_package(\"seaborn==0.10.1\")\n",
    "sc.install_pypi_package(\"textblob\")\n",
    "sc.install_pypi_package(\"pyspellchecker\")"
   ]
  },
  {
   "cell_type": "markdown",
   "metadata": {},
   "source": [
    "### Load dataset"
   ]
  },
  {
   "cell_type": "code",
   "execution_count": 4,
   "metadata": {},
   "outputs": [
    {
     "data": {
      "application/vnd.jupyter.widget-view+json": {
       "model_id": "",
       "version_major": 2,
       "version_minor": 0
      },
      "text/plain": [
       "FloatProgress(value=0.0, bar_style='info', description='Progress:', layout=Layout(height='25px', width='50%'),…"
      ]
     },
     "metadata": {},
     "output_type": "display_data"
    }
   ],
   "source": [
    "df = spark.read.parquet('s3://amazon-reviews-pds/parquet/product_category=Electronics/*.parquet')"
   ]
  },
  {
   "cell_type": "code",
   "execution_count": 5,
   "metadata": {},
   "outputs": [
    {
     "data": {
      "application/vnd.jupyter.widget-view+json": {
       "model_id": "",
       "version_major": 2,
       "version_minor": 0
      },
      "text/plain": [
       "FloatProgress(value=0.0, bar_style='info', description='Progress:', layout=Layout(height='25px', width='50%'),…"
      ]
     },
     "metadata": {},
     "output_type": "display_data"
    },
    {
     "name": "stdout",
     "output_type": "stream",
     "text": [
      "3120938"
     ]
    }
   ],
   "source": [
    "print(df.count())"
   ]
  },
  {
   "cell_type": "markdown",
   "metadata": {},
   "source": [
    "### Data Cleaning"
   ]
  },
  {
   "cell_type": "code",
   "execution_count": 6,
   "metadata": {},
   "outputs": [
    {
     "data": {
      "application/vnd.jupyter.widget-view+json": {
       "model_id": "",
       "version_major": 2,
       "version_minor": 0
      },
      "text/plain": [
       "FloatProgress(value=0.0, bar_style='info', description='Progress:', layout=Layout(height='25px', width='50%'),…"
      ]
     },
     "metadata": {},
     "output_type": "display_data"
    },
    {
     "name": "stdout",
     "output_type": "stream",
     "text": [
      "3120848"
     ]
    }
   ],
   "source": [
    "# Drop NA\n",
    "df = df.na.drop()\n",
    "print(df.count())"
   ]
  },
  {
   "cell_type": "markdown",
   "metadata": {},
   "source": [
    "#### Response variable (Y) "
   ]
  },
  {
   "cell_type": "code",
   "execution_count": 7,
   "metadata": {},
   "outputs": [
    {
     "data": {
      "application/vnd.jupyter.widget-view+json": {
       "model_id": "",
       "version_major": 2,
       "version_minor": 0
      },
      "text/plain": [
       "FloatProgress(value=0.0, bar_style='info', description='Progress:', layout=Layout(height='25px', width='50%'),…"
      ]
     },
     "metadata": {},
     "output_type": "display_data"
    }
   ],
   "source": [
    "df = df.withColumn('vp_dummy', \n",
    "                             (df.verified_purchase == 'Y').cast(\"integer\"))"
   ]
  },
  {
   "cell_type": "code",
   "execution_count": 8,
   "metadata": {},
   "outputs": [
    {
     "data": {
      "application/vnd.jupyter.widget-view+json": {
       "model_id": "",
       "version_major": 2,
       "version_minor": 0
      },
      "text/plain": [
       "FloatProgress(value=0.0, bar_style='info', description='Progress:', layout=Layout(height='25px', width='50%'),…"
      ]
     },
     "metadata": {},
     "output_type": "display_data"
    },
    {
     "name": "stdout",
     "output_type": "stream",
     "text": [
      "+--------+-------+\n",
      "|vp_dummy|  count|\n",
      "+--------+-------+\n",
      "|       1|2622841|\n",
      "|       0| 498007|\n",
      "+--------+-------+"
     ]
    }
   ],
   "source": [
    "df.groupBy('vp_dummy').count().show()"
   ]
  },
  {
   "cell_type": "code",
   "execution_count": 9,
   "metadata": {},
   "outputs": [
    {
     "data": {
      "application/vnd.jupyter.widget-view+json": {
       "model_id": "",
       "version_major": 2,
       "version_minor": 0
      },
      "text/plain": [
       "FloatProgress(value=0.0, bar_style='info', description='Progress:', layout=Layout(height='25px', width='50%'),…"
      ]
     },
     "metadata": {},
     "output_type": "display_data"
    }
   ],
   "source": [
    "vp = df[df.vp_dummy == 1].count()\n",
    "nvp = df[df.vp_dummy == 0].count()"
   ]
  },
  {
   "cell_type": "markdown",
   "metadata": {},
   "source": [
    "### Balance dataset"
   ]
  },
  {
   "cell_type": "code",
   "execution_count": 10,
   "metadata": {},
   "outputs": [
    {
     "data": {
      "application/vnd.jupyter.widget-view+json": {
       "model_id": "",
       "version_major": 2,
       "version_minor": 0
      },
      "text/plain": [
       "FloatProgress(value=0.0, bar_style='info', description='Progress:', layout=Layout(height='25px', width='50%'),…"
      ]
     },
     "metadata": {},
     "output_type": "display_data"
    },
    {
     "name": "stdout",
     "output_type": "stream",
     "text": [
      "+--------+------+\n",
      "|vp_dummy| count|\n",
      "+--------+------+\n",
      "|       0|498007|\n",
      "|       1|497877|\n",
      "+--------+------+"
     ]
    }
   ],
   "source": [
    "from pyspark.sql.functions import col\n",
    "df = df.sampleBy(\"vp_dummy\", fractions={0:1,1:nvp/vp}, seed=0)\n",
    "df.groupBy(\"vp_dummy\").count().orderBy(\"vp_dummy\").show()"
   ]
  },
  {
   "cell_type": "code",
   "execution_count": 10,
   "metadata": {},
   "outputs": [
    {
     "data": {
      "application/vnd.jupyter.widget-view+json": {
       "model_id": "",
       "version_major": 2,
       "version_minor": 0
      },
      "text/plain": [
       "FloatProgress(value=0.0, bar_style='info', description='Progress:', layout=Layout(height='25px', width='50%'),…"
      ]
     },
     "metadata": {},
     "output_type": "display_data"
    },
    {
     "name": "stdout",
     "output_type": "stream",
     "text": [
      "['marketplace', 'customer_id', 'review_id', 'product_id', 'product_parent', 'product_title', 'star_rating', 'helpful_votes', 'total_votes', 'vine', 'verified_purchase', 'review_headline', 'review_body', 'review_date', 'year', 'vp_dummy']"
     ]
    }
   ],
   "source": [
    "df.columns"
   ]
  },
  {
   "cell_type": "markdown",
   "metadata": {},
   "source": [
    "### Feature engineering"
   ]
  },
  {
   "cell_type": "markdown",
   "metadata": {},
   "source": [
    "#### 1. spelling_errors"
   ]
  },
  {
   "cell_type": "code",
   "execution_count": 11,
   "metadata": {},
   "outputs": [
    {
     "data": {
      "application/vnd.jupyter.widget-view+json": {
       "model_id": "",
       "version_major": 2,
       "version_minor": 0
      },
      "text/plain": [
       "FloatProgress(value=0.0, bar_style='info', description='Progress:', layout=Layout(height='25px', width='50%'),…"
      ]
     },
     "metadata": {},
     "output_type": "display_data"
    }
   ],
   "source": [
    "from pyspark.sql.functions import udf\n",
    "from pyspark.sql.types import IntegerType\n",
    "from spellchecker import SpellChecker\n",
    "import string\n",
    "\n",
    "# Assuming you have a DataFrame 'df' with a 'review' column\n",
    "\n",
    "spell = SpellChecker()\n",
    "\n",
    "def spelling_errors(text):\n",
    "    if text is None:\n",
    "        return None\n",
    "    text = text.lower()\n",
    "    text = text.translate(str.maketrans('', '', string.punctuation))\n",
    "    misspelled = spell.unknown(text.split())\n",
    "    return len(misspelled)\n",
    "\n",
    "count_errors_udf = udf(spelling_errors, IntegerType())\n",
    "\n",
    "# Apply the UDF to the 'review' column\n",
    "df = df.withColumn(\"spelling_errors\", count_errors_udf(df['review_body']))\n"
   ]
  },
  {
   "cell_type": "markdown",
   "metadata": {},
   "source": [
    "#### 2. sentiment_score"
   ]
  },
  {
   "cell_type": "code",
   "execution_count": 12,
   "metadata": {},
   "outputs": [
    {
     "data": {
      "application/vnd.jupyter.widget-view+json": {
       "model_id": "",
       "version_major": 2,
       "version_minor": 0
      },
      "text/plain": [
       "FloatProgress(value=0.0, bar_style='info', description='Progress:', layout=Layout(height='25px', width='50%'),…"
      ]
     },
     "metadata": {},
     "output_type": "display_data"
    }
   ],
   "source": [
    "from textblob import TextBlob\n",
    "from pyspark.sql.types import FloatType\n",
    "from pyspark.sql.functions import udf\n",
    "\n",
    "# Define a UDF to calculate sentiment polarity\n",
    "def sentiment_analysis(text):\n",
    "    return TextBlob(text).sentiment.polarity\n",
    "\n",
    "sentiment_analysis_udf = udf(sentiment_analysis, FloatType())\n",
    "\n",
    "# Apply the UDF to the 'review' column\n",
    "df = df.withColumn(\"sentiment_score\", sentiment_analysis_udf(df['review_body']))\n"
   ]
  },
  {
   "cell_type": "markdown",
   "metadata": {},
   "source": [
    "#### 3. helpful_pct"
   ]
  },
  {
   "cell_type": "code",
   "execution_count": 13,
   "metadata": {},
   "outputs": [
    {
     "data": {
      "application/vnd.jupyter.widget-view+json": {
       "model_id": "",
       "version_major": 2,
       "version_minor": 0
      },
      "text/plain": [
       "FloatProgress(value=0.0, bar_style='info', description='Progress:', layout=Layout(height='25px', width='50%'),…"
      ]
     },
     "metadata": {},
     "output_type": "display_data"
    }
   ],
   "source": [
    "# Create helpful_pct\n",
    "df = df.withColumn('helpful_pct', \n",
    "                             (df.helpful_votes / df.total_votes)).fillna(0)\n"
   ]
  },
  {
   "cell_type": "markdown",
   "metadata": {},
   "source": [
    "#### 4. review_length"
   ]
  },
  {
   "cell_type": "code",
   "execution_count": 14,
   "metadata": {},
   "outputs": [
    {
     "data": {
      "application/vnd.jupyter.widget-view+json": {
       "model_id": "",
       "version_major": 2,
       "version_minor": 0
      },
      "text/plain": [
       "FloatProgress(value=0.0, bar_style='info', description='Progress:', layout=Layout(height='25px', width='50%'),…"
      ]
     },
     "metadata": {},
     "output_type": "display_data"
    }
   ],
   "source": [
    "import pyspark.sql.functions as F\n",
    "from pyspark.ml.feature import VectorAssembler\n",
    "from pyspark.sql.window import Window\n",
    "\n",
    "# Length of Review\n",
    "df = df.withColumn('review_length', F.length(\"review_body\"))\n",
    "# 1. categorical vine and verified_purchase\n",
    "df = df.withColumn('v_dummy', \n",
    "                             (df.vine == 'Y').cast(\"integer\"))\n"
   ]
  },
  {
   "cell_type": "markdown",
   "metadata": {},
   "source": [
    "#### 5. marketplace"
   ]
  },
  {
   "cell_type": "code",
   "execution_count": 15,
   "metadata": {},
   "outputs": [
    {
     "data": {
      "application/vnd.jupyter.widget-view+json": {
       "model_id": "",
       "version_major": 2,
       "version_minor": 0
      },
      "text/plain": [
       "FloatProgress(value=0.0, bar_style='info', description='Progress:', layout=Layout(height='25px', width='50%'),…"
      ]
     },
     "metadata": {},
     "output_type": "display_data"
    },
    {
     "name": "stdout",
     "output_type": "stream",
     "text": [
      "+-----------+-----------+--------------+----------+--------------+--------------------+-----------+-------------+-----------+----+-----------------+--------------------+--------------------+-----------+----+--------+---------------+---------------+------------------+-------------+-------+----------------+--------------+\n",
      "|marketplace|customer_id|     review_id|product_id|product_parent|       product_title|star_rating|helpful_votes|total_votes|vine|verified_purchase|     review_headline|         review_body|review_date|year|vp_dummy|spelling_errors|sentiment_score|       helpful_pct|review_length|v_dummy|marketplaceIndex|marketplaceVec|\n",
      "+-----------+-----------+--------------+----------+--------------+--------------------+-----------+-------------+-----------+----+-----------------+--------------------+--------------------+-----------+----+--------+---------------+---------------+------------------+-------------+-------+----------------+--------------+\n",
      "|         US|   51163966|R2RX7KLOQQ5VBG|B00000JBAT|     738692522|Diamond Rio Digit...|          3|            0|          0|   N|                N|Why just 30 minutes?|RIO is really gre...| 1999-06-22|1999|       0|              0|           0.55|               0.0|           92|      0|             0.0| (4,[0],[1.0])|\n",
      "|         US|   52246039|R3PD79H9CTER8U|B00000JBAT|     738692522|Diamond Rio Digit...|          5|            1|          2|   N|                N|The digital audio...|One of several fi...| 1999-06-30|1999|       0|             14|    0.094623186|               0.5|         1057|      0|             0.0| (4,[0],[1.0])|\n",
      "|         US|   53068431|R3SP31LN235GV3|B00000JBSN|     670078724|JVC FS-7000 Execu...|          3|            5|          5|   N|                N|Design flaws ruin...|I returned mine f...| 1999-07-13|1999|       0|              1|      0.2030303|               1.0|          482|      0|             0.0| (4,[0],[1.0])|\n",
      "|         US|   52036200| RDYOBX7A6YZ2X|B00000JHYS|     738692522|Rio PMP 300 Speci...|          4|            0|          0|   N|                N| Might want to wait.|I really like the...| 1999-07-16|1999|       0|              3|    0.093560606|               0.0|          313|      0|             0.0| (4,[0],[1.0])|\n",
      "|         US|   51618361|R31I45LN3W8UUM|B00000J1SI|     505031276|GPX C3860 Portabl...|          5|            8|          9|   N|                N|LOW PRICE GOOD VALUE|Very Good Product...| 1999-07-17|1999|       0|              1|     0.35785714|0.8888888888888888|           54|      0|             0.0| (4,[0],[1.0])|\n",
      "|         US|   12246316|R2RVEE19EN94YK|B00JAYS824|     995064901|ABLEGRID Trademar...|          5|            0|          0|   N|                Y|          Five Stars|thanks to this i ...| 2014-11-17|2014|       1|              0|     0.26666668|               0.0|           65|      0|             0.0| (4,[0],[1.0])|\n",
      "|         US|   52541942|R1FCT9FU5SNC10|B00000JDKE|     126726341|Sony STR-DE525 Su...|          4|           20|         21|   N|                N|STR-DE525 an over...|I've had this rec...| 1999-07-19|1999|       0|              5|     0.20959596|0.9523809523809523|          380|      0|             0.0| (4,[0],[1.0])|\n",
      "|         US|   52793236|R3EOIZ0USWYGGJ|B00000JBSN|     670078724|JVC FS-7000 Execu...|          5|            5|          5|   N|                N|Incredible Sound ...|This is a absolut...| 1999-08-06|1999|       0|              2|     0.44700855|               1.0|          522|      0|             0.0| (4,[0],[1.0])|\n",
      "|         US|   52958139|R3HM8AQLMWU2XZ|B00000JBAT|     738692522|Diamond Rio Digit...|          5|            0|          0|   N|                N|The wave of the f...|Someday everythin...| 1999-08-09|1999|       0|              5|     0.36666667|               0.0|          368|      0|             0.0| (4,[0],[1.0])|\n",
      "|         US|   51155632|R11NUPY1HK6EB5|B00000J4BL|       9075030|Recoton TV3000 Lo...|          1|           13|         14|   N|                N|         Poor choice|This is the sixth...| 1999-08-14|1999|       0|              1|           -0.4|0.9285714285714286|          149|      0|             0.0| (4,[0],[1.0])|\n",
      "|         US|   51367834|R12ASZFB1WDEZP|B00000JBPB|     919073845|GPX C3948BI Ultra...|          5|            4|          6|   N|                N|     BUY THIS!!!!!!!|I just got this n...| 1999-08-16|1999|       0|              2|    0.116098486|0.6666666666666666|          365|      0|             0.0| (4,[0],[1.0])|\n",
      "|         US|   51080041|R3H3O0Y8CQLPQW|B00000JFMU|     760095051|JVC XL-MC222BK 20...|          5|           41|         55|   N|                N|Well built, relia...|The JVC 200 cd ch...| 1999-08-24|1999|       0|              3|     0.20751701|0.7454545454545455|          344|      0|             0.0| (4,[0],[1.0])|\n",
      "|         US|   52911597|R27KD9ANTM57FE|B00000JGLT|     328391966|CD-ROM Storage Sl...|          5|           23|         24|   N|                N|Save 66% of your ...|Prosleeves are a ...| 1999-09-04|1999|       0|              4|     0.15705128|0.9583333333333334|          717|      0|             0.0| (4,[0],[1.0])|\n",
      "|         US|   51198197|R2VNXLHVBE42P3|B00000J3Q0|     895437351|Sharp CMS-1640 Bo...|          5|            0|          7|   N|                N|            speakers|   They are the best| 1999-09-06|1999|       0|              0|            1.0|               0.0|           17|      0|             0.0| (4,[0],[1.0])|\n",
      "|         US|   52248267|R25VFNS8MX7YUN|B00000J1QV|     786266251|Advent AW870 Wire...|          5|            9|         35|   N|                N|The fastest way t...|Whether it's list...| 1999-09-08|1999|       0|              1|           0.25|0.2571428571428571|          146|      0|             0.0| (4,[0],[1.0])|\n",
      "|         US|   52535420|R14KFW1IMJJS4B|B00000K3SI|     943317374|Amazon.com Messen...|          5|            4|          6|   N|                N|Great Bag! Attent...|All my friends co...| 1999-09-18|1999|       0|              3|            0.4|0.6666666666666666|          172|      0|             0.0| (4,[0],[1.0])|\n",
      "|         US|   51000043| R8BTCDXSGQKA6|B00000K3SI|     943317374|Amazon.com Messen...|          5|            1|          1|   N|                N|          Good Value|Just got my messe...| 1999-09-27|1999|       0|              1|     0.25833333|               1.0|          376|      0|             0.0| (4,[0],[1.0])|\n",
      "|         US|   52364459|R2IZC3WH4SXC3J|B00000JBAT|     738692522|Diamond Rio Digit...|          1|            0|          0|   N|                N| Hold off on Rio 500|If you're thinkin...| 1999-09-30|1999|       0|              1|    0.012121212|               0.0|          266|      0|             0.0| (4,[0],[1.0])|\n",
      "|         US|   51866334| RV0KCRMQ423DF|B00000JBPB|     919073845|GPX C3948BI Ultra...|          5|            6|          7|   N|                N|BLUE ICE IS HOTTT!!!|I received my CD ...| 1999-10-07|1999|       0|              3|     0.55142856|0.8571428571428571|          221|      0|             0.0| (4,[0],[1.0])|\n",
      "|         US|   22242733| REA9VOHZ2TYKF|B000W8JFPG|     872872431|Sony RM-EZ4 2-Dev...|          2|            0|          0|   N|                N|Wouldn't work wit...|Buttons are a nic...| 2014-11-17|2014|       0|              1|         0.1375|               0.0|          269|      0|             0.0| (4,[0],[1.0])|\n",
      "+-----------+-----------+--------------+----------+--------------+--------------------+-----------+-------------+-----------+----+-----------------+--------------------+--------------------+-----------+----+--------+---------------+---------------+------------------+-------------+-------+----------------+--------------+\n",
      "only showing top 20 rows"
     ]
    }
   ],
   "source": [
    "### one-hot encoding \"marketplace\" variable\n",
    "from pyspark.ml.feature import StringIndexer, OneHotEncoder\n",
    "from pyspark.ml import Pipeline\n",
    "\n",
    "# First index the string column\n",
    "indexer = StringIndexer(inputCol=\"marketplace\", outputCol=\"marketplaceIndex\")\n",
    "\n",
    "# Then encode the indexed values to dummy variables\n",
    "encoder = OneHotEncoder(inputCol=\"marketplaceIndex\", outputCol=\"marketplaceVec\")\n",
    "\n",
    "# Create a pipeline to apply the transformations\n",
    "pipeline = Pipeline(stages=[indexer, encoder])\n",
    "\n",
    "# Fit and transform the data\n",
    "df= pipeline.fit(df).transform(df)\n",
    "\n",
    "df.show()\n"
   ]
  },
  {
   "cell_type": "code",
   "execution_count": 16,
   "metadata": {},
   "outputs": [
    {
     "data": {
      "application/vnd.jupyter.widget-view+json": {
       "model_id": "",
       "version_major": 2,
       "version_minor": 0
      },
      "text/plain": [
       "FloatProgress(value=0.0, bar_style='info', description='Progress:', layout=Layout(height='25px', width='50%'),…"
      ]
     },
     "metadata": {},
     "output_type": "display_data"
    },
    {
     "name": "stdout",
     "output_type": "stream",
     "text": [
      "['marketplace', 'customer_id', 'review_id', 'product_id', 'product_parent', 'product_title', 'star_rating', 'helpful_votes', 'total_votes', 'vine', 'verified_purchase', 'review_headline', 'review_body', 'review_date', 'year', 'vp_dummy', 'spelling_errors', 'sentiment_score', 'helpful_pct', 'review_length', 'v_dummy', 'marketplaceIndex', 'marketplaceVec']"
     ]
    }
   ],
   "source": [
    "df.columns"
   ]
  },
  {
   "cell_type": "code",
   "execution_count": 17,
   "metadata": {},
   "outputs": [
    {
     "data": {
      "application/vnd.jupyter.widget-view+json": {
       "model_id": "",
       "version_major": 2,
       "version_minor": 0
      },
      "text/plain": [
       "FloatProgress(value=0.0, bar_style='info', description='Progress:', layout=Layout(height='25px', width='50%'),…"
      ]
     },
     "metadata": {},
     "output_type": "display_data"
    }
   ],
   "source": [
    "from pyspark.ml.feature import VectorAssembler\n",
    "from pyspark.ml import Pipeline\n",
    "from pyspark.ml.classification import LinearSVC\n",
    "from pyspark.sql.functions import regexp_replace\n",
    "\n",
    "#selected features \n",
    "vector_assembler = VectorAssembler(inputCols=['marketplaceVec',\n",
    "                                              'review_length',\n",
    "                                              'v_dummy',\n",
    "                                              'star_rating',\n",
    "                                            'sentiment_score',\n",
    "                                              'spelling_errors',\n",
    "                                            'helpful_pct'],\n",
    "                                   outputCol='features')\n"
   ]
  },
  {
   "cell_type": "markdown",
   "metadata": {},
   "source": [
    "## SVC model"
   ]
  },
  {
   "cell_type": "code",
   "execution_count": null,
   "metadata": {},
   "outputs": [],
   "source": [
    "# Create a SVC model\n",
    "lsvc = LinearSVC(featuresCol='features',labelCol='vp_dummy')\n",
    "pipeline = Pipeline(stages=[vector_assembler, lsvc])\n"
   ]
  },
  {
   "cell_type": "code",
   "execution_count": 22,
   "metadata": {},
   "outputs": [
    {
     "data": {
      "application/vnd.jupyter.widget-view+json": {
       "model_id": "",
       "version_major": 2,
       "version_minor": 0
      },
      "text/plain": [
       "FloatProgress(value=0.0, bar_style='info', description='Progress:', layout=Layout(height='25px', width='50%'),…"
      ]
     },
     "metadata": {},
     "output_type": "display_data"
    }
   ],
   "source": [
    "# Reduce and split data\n",
    "sampled_data = df.sample(fraction = 0.001)\n",
    "train, test = sampled_data.randomSplit([0.7, 0.3])\n"
   ]
  },
  {
   "cell_type": "code",
   "execution_count": 16,
   "metadata": {},
   "outputs": [
    {
     "data": {
      "application/vnd.jupyter.widget-view+json": {
       "model_id": "",
       "version_major": 2,
       "version_minor": 0
      },
      "text/plain": [
       "FloatProgress(value=0.0, bar_style='info', description='Progress:', layout=Layout(height='25px', width='50%'),…"
      ]
     },
     "metadata": {},
     "output_type": "display_data"
    }
   ],
   "source": [
    "# Create an evaluator \n",
    "from pyspark.ml.evaluation import BinaryClassificationEvaluator\n",
    "\n",
    "evaluator = BinaryClassificationEvaluator(labelCol='vp_dummy', metricName='areaUnderROC')\n"
   ]
  },
  {
   "cell_type": "code",
   "execution_count": 17,
   "metadata": {},
   "outputs": [
    {
     "data": {
      "application/vnd.jupyter.widget-view+json": {
       "model_id": "",
       "version_major": 2,
       "version_minor": 0
      },
      "text/plain": [
       "FloatProgress(value=0.0, bar_style='info', description='Progress:', layout=Layout(height='25px', width='50%'),…"
      ]
     },
     "metadata": {},
     "output_type": "display_data"
    }
   ],
   "source": [
    "# Create a grid of tuning the parameters \n",
    "from pyspark.ml.tuning import CrossValidator, ParamGridBuilder\n",
    "import numpy as np \n",
    "\n",
    "params = ParamGridBuilder() \\\n",
    "    .addGrid(lsvc.maxIter, [10, 50, 100]) \\\n",
    "    .addGrid(lsvc.regParam, [0.1, 0.01, 0.001]) \\\n",
    "    .build()"
   ]
  },
  {
   "cell_type": "code",
   "execution_count": 18,
   "metadata": {},
   "outputs": [
    {
     "data": {
      "application/vnd.jupyter.widget-view+json": {
       "model_id": "",
       "version_major": 2,
       "version_minor": 0
      },
      "text/plain": [
       "FloatProgress(value=0.0, bar_style='info', description='Progress:', layout=Layout(height='25px', width='50%'),…"
      ]
     },
     "metadata": {},
     "output_type": "display_data"
    }
   ],
   "source": [
    "# Create cross validator\n",
    "cv = CrossValidator(estimator = pipeline,\n",
    "                    estimatorParamMaps = params,\n",
    "                    evaluator = evaluator)\n",
    "\n",
    "# Fit the cross validator\n",
    "model = cv.setNumFolds(5).fit(train)"
   ]
  },
  {
   "cell_type": "code",
   "execution_count": 19,
   "metadata": {},
   "outputs": [
    {
     "data": {
      "application/vnd.jupyter.widget-view+json": {
       "model_id": "",
       "version_major": 2,
       "version_minor": 0
      },
      "text/plain": [
       "FloatProgress(value=0.0, bar_style='info', description='Progress:', layout=Layout(height='25px', width='50%'),…"
      ]
     },
     "metadata": {},
     "output_type": "display_data"
    }
   ],
   "source": [
    "# Get the best model from cross-validation\n",
    "bestModel = model.bestModel"
   ]
  },
  {
   "cell_type": "code",
   "execution_count": 20,
   "metadata": {},
   "outputs": [
    {
     "data": {
      "application/vnd.jupyter.widget-view+json": {
       "model_id": "",
       "version_major": 2,
       "version_minor": 0
      },
      "text/plain": [
       "FloatProgress(value=0.0, bar_style='info', description='Progress:', layout=Layout(height='25px', width='50%'),…"
      ]
     },
     "metadata": {},
     "output_type": "display_data"
    },
    {
     "name": "stdout",
     "output_type": "stream",
     "text": [
      "Best Parameters:\n",
      "aggregationDepth: 2\n",
      "featuresCol: features\n",
      "fitIntercept: True\n",
      "labelCol: vp_dummy\n",
      "maxIter: 50\n",
      "predictionCol: prediction\n",
      "rawPredictionCol: rawPrediction\n",
      "regParam: 0.001\n",
      "standardization: True\n",
      "threshold: 0.0\n",
      "tol: 1e-06"
     ]
    }
   ],
   "source": [
    "# Print the best parameters\n",
    "bestParams = bestModel.stages[-1].extractParamMap()\n",
    "print(\"Best Parameters:\")\n",
    "for param, value in bestParams.items():\n",
    "    print(f\"{param.name}: {value}\")"
   ]
  },
  {
   "cell_type": "markdown",
   "metadata": {},
   "source": [
    "- The best maxIter: 50\n",
    "- The best regParam: 0.001\n"
   ]
  },
  {
   "cell_type": "markdown",
   "metadata": {},
   "source": [
    "### AUC"
   ]
  },
  {
   "cell_type": "code",
   "execution_count": 21,
   "metadata": {},
   "outputs": [
    {
     "data": {
      "application/vnd.jupyter.widget-view+json": {
       "model_id": "",
       "version_major": 2,
       "version_minor": 0
      },
      "text/plain": [
       "FloatProgress(value=0.0, bar_style='info', description='Progress:', layout=Layout(height='25px', width='50%'),…"
      ]
     },
     "metadata": {},
     "output_type": "display_data"
    }
   ],
   "source": [
    "# Evaluate the model on the test data\n",
    "predictions = bestModel.transform(test)\n",
    "binaryAUC = evaluator.evaluate(predictions)\n"
   ]
  },
  {
   "cell_type": "code",
   "execution_count": 57,
   "metadata": {},
   "outputs": [
    {
     "data": {
      "application/vnd.jupyter.widget-view+json": {
       "model_id": "",
       "version_major": 2,
       "version_minor": 0
      },
      "text/plain": [
       "FloatProgress(value=0.0, bar_style='info', description='Progress:', layout=Layout(height='25px', width='50%'),…"
      ]
     },
     "metadata": {},
     "output_type": "display_data"
    },
    {
     "name": "stdout",
     "output_type": "stream",
     "text": [
      "+-----------+-----------+--------------+----------+--------------+--------------------+-----------+-------------+-----------+----+-----------------+--------------------+--------------------+-----------+----+--------+---------------+---------------+------------------+-------------+-------+----------------+--------------+--------------------+--------------------+----------+\n",
      "|marketplace|customer_id|     review_id|product_id|product_parent|       product_title|star_rating|helpful_votes|total_votes|vine|verified_purchase|     review_headline|         review_body|review_date|year|vp_dummy|spelling_errors|sentiment_score|       helpful_pct|review_length|v_dummy|marketplaceIndex|marketplaceVec|            features|       rawPrediction|prediction|\n",
      "+-----------+-----------+--------------+----------+--------------+--------------------+-----------+-------------+-----------+----+-----------------+--------------------+--------------------+-----------+----+--------+---------------+---------------+------------------+-------------+-------+----------------+--------------+--------------------+--------------------+----------+\n",
      "|         US|   11398940|R1KCWRRRM6Y0EW|B009BV4V4K|     163247706|ITIS Replacement ...|          5|            0|          0|   N|                Y|          No brainer|Wow, did I let my...| 2015-05-09|2015|       1|              2|     0.28727272|               0.0|          183|      0|             0.0| (4,[0],[1.0])|(10,[0,4,6,7,8],[...|[-0.8479059197599...|       1.0|\n",
      "|         US|   12785473|R1DNHRAN8OBYQC|B000THMR0K|     897694969|Magellan Crossove...|          2|            1|          1|   N|                N|Website/Customer ...|I bought this pro...| 2008-01-22|2008|       0|              1|    0.044444446|               1.0|          793|      0|             0.0| (4,[0],[1.0])|[1.0,0.0,0.0,0.0,...|[0.50970570129111...|       0.0|\n",
      "|         US|   13606293|R1HA5HJ3I9HG2R|B005INJ4ZG|     799920178|My Zone Wireless ...|          5|            0|          0|   N|                N|          Great buy!|Terrific!  Shippe...| 2014-10-27|2014|       0|              0|          0.025|               0.0|           77|      0|             0.0| (4,[0],[1.0])|(10,[0,4,6,7],[1....|[-1.0407147247393...|       1.0|\n",
      "|         US|   14222520| RH6HIAERXTZR1|B0013OWPV4|     182825750|JVC HARX700 Preci...|          5|            5|          6|   N|                N|Superb Headphones...|The headphones fi...| 2009-07-26|2009|       0|              0|     0.20576923|0.8333333333333334|          387|      0|             0.0| (4,[0],[1.0])|(10,[0,4,6,7,9],[...|[-0.0338959692987...|       1.0|\n",
      "|         US|   15574099|R15CIKMVC34NIG|B0065DMVUI|     405108745|Neewer Portable U...|          4|            1|          1|   N|                N|  Did What I Needed!|I want to give th...| 2012-12-18|2012|       0|              0|     0.12541667|               1.0|          598|      0|             0.0| (4,[0],[1.0])|(10,[0,4,6,7,9],[...|[0.27554780820842...|       0.0|\n",
      "|         US|   15950711|R2IVP8KLFAH06P|B0006LSIIE|     751328438|Cables Unlimited ...|          4|            0|          0|   N|                N|         Pretty Good|I bought this cor...| 2008-08-11|2008|       0|              1|   -0.044444446|               0.0|          186|      0|             0.0| (4,[0],[1.0])|(10,[0,4,6,7,8],[...|[-0.8783529863245...|       1.0|\n",
      "|         US|   16142906|R2OBQUDNGPNLO2|B001VYQG16|     940050295|TERK Omni-Directi...|          4|            0|          0|   N|                Y|Good Indoor Anten...|The reception is ...| 2013-03-31|2013|       1|              2|           0.22|               0.0|          163|      0|             0.0| (4,[0],[1.0])|(10,[0,4,6,7,8],[...|[-0.8260386573973...|       1.0|\n",
      "|         US|   16203728|R3NB9MT7M0J59X|B0001JXFSE|     641086541|Teac GF-680 Conso...|          5|            7|          7|   N|                N|Looks good and so...|Looks good and so...| 2007-01-15|2007|       0|              3|           0.54|               1.0|          225|      0|             0.0| (4,[0],[1.0])|[1.0,0.0,0.0,0.0,...|[0.27120087640938...|       0.0|\n",
      "|         US|   17112539|R1O937J2IZJZZQ|B00C30HUQ2|     648061218|Symphonized Nrg P...|          5|            0|          0|   N|                Y|I got these for m...|I got these for m...| 2015-04-20|2015|       1|              1|            0.4|               0.0|          112|      0|             0.0| (4,[0],[1.0])|(10,[0,4,6,7,8],[...|[-0.9649117182504...|       1.0|\n",
      "|         US|   17466963|R3KIF2CHA6AE4J|B0090Z3SPU|     617888253|Bose SoundLink Bl...|          5|            0|          0|   N|                N|Excellent Sound, ...|Its Bose! What el...| 2013-02-08|2013|       0|              3|     0.28300437|               0.0|          773|      0|             0.0| (4,[0],[1.0])|(10,[0,4,6,7,8],[...|[-0.4785658481680...|       1.0|\n",
      "|         US|   19967303|  R1K6Q4812SXB|B000000X4N|     520092262|Discwasher Rd1006...|          3|            6|         10|   N|                N| An average product.|This product is a...| 2008-02-02|2008|       0|              5|        0.08125|               0.6|          467|      0|             0.0| (4,[0],[1.0])|[1.0,0.0,0.0,0.0,...|[0.20954804693366...|       0.0|\n",
      "|         US|   20889828| R2Q0V8K1S82EV|B00383PB0U|     252814641|Sony CFDS05 CD Ra...|          2|            3|          4|   N|                N|The sound quality...|Bought it 'cause ...| 2011-01-09|2011|       0|              7|     0.09107143|              0.75|          452|      0|             0.0| (4,[0],[1.0])|[1.0,0.0,0.0,0.0,...|[0.53806701327975...|       0.0|\n",
      "|         US|    2104860| R8HGTGTZM6CHN|B00M5A7L14|     452920319|Bose SoundTrue In...|          1|            0|          3|   N|                N|Neither you can f...|This is just the ...| 2015-04-07|2015|       0|             15|     0.16785714|               0.0|          983|      0|             0.0| (4,[0],[1.0])|(10,[0,4,6,7,8],[...|[0.66201135654874...|       0.0|\n",
      "|         US|   21598258|R1U5VAWLEL4E5R|B002MAPT7U|     808084969|Clip Plus 4 GB MP...|          4|            0|          0|   N|                Y|          Sansa Clip|I love listening ...| 2013-06-22|2013|       1|              0|     0.18571429|               0.0|          326|      0|             0.0| (4,[0],[1.0])|(10,[0,4,6,7],[1....|[-0.8962815224592...|       1.0|\n",
      "|         US|   23449475| R4BY4WAX30AKO|B0001XGR1C|     352193919|Belkin PureAV Sub...|          5|            0|          0|   N|                N|          Five Stars|great well made c...| 2014-11-09|2014|       0|              0|            0.8|               0.0|           21|      0|             0.0| (4,[0],[1.0])|(10,[0,4,6,7],[1....|[-1.1055886085937...|       1.0|\n",
      "|         US|   28549864|R1OX8CZCIQTC9Z|B00XMC9XAQ|     666713531|Foot Forward Runn...|          4|            0|          0|   N|                N|          Four Stars|Good running belt...| 2015-06-25|2015|       0|              0|       0.303125|               0.0|           88|      0|             0.0| (4,[0],[1.0])|(10,[0,4,6,7],[1....|[-1.0199942068909...|       1.0|\n",
      "|         US|   28639049|R3JAJRCCO4PURO|B00N32ICIO|     915537237|Bose SoundLink Co...|          5|            0|          1|   N|                Y|Small package, gr...|I bought this for...| 2014-11-30|2014|       1|              1|     0.44675925|               0.0|          405|      0|             0.0| (4,[0],[1.0])|(10,[0,4,6,7,8],[...|[-0.8217646133609...|       1.0|\n",
      "|         US|   28816767|R1D0USEIKX5SPA|B000068EAM|     518566202|Sony ICF-CD853V A...|          4|            2|          2|   N|                N|          I love it!|I am very happy w...| 2003-07-22|2003|       0|              4|     0.33157894|               1.0|          970|      0|             0.0| (4,[0],[1.0])|[1.0,0.0,0.0,0.0,...|[0.75579238508439...|       0.0|\n",
      "|         US|   31658185| RT269M21MZ2S0|B000069E1T|     719929055|Bose UFS-20 Unive...|          5|            0|          0|   N|                Y|   BOSE UFS 20 STAND|Easy to assemble ...| 2012-07-23|2012|       1|              1|     0.43333334|               0.0|          107|      0|             0.0| (4,[0],[1.0])|(10,[0,4,6,7,8],[...|[-0.9689878278100...|       1.0|\n",
      "|         US|   34858616|R1JGNK1JM1YVU4|B004RKQMCY|     362994243|Sony MDRZX300 Out...|          5|            0|          1|   N|                Y|These are great h...|I bought these he...| 2014-04-04|2014|       1|              1|          0.575|               0.0|          269|      0|             0.0| (4,[0],[1.0])|(10,[0,4,6,7,8],[...|[-0.8953838105030...|       1.0|\n",
      "+-----------+-----------+--------------+----------+--------------+--------------------+-----------+-------------+-----------+----+-----------------+--------------------+--------------------+-----------+----+--------+---------------+---------------+------------------+-------------+-------+----------------+--------------+--------------------+--------------------+----------+\n",
      "only showing top 20 rows"
     ]
    }
   ],
   "source": [
    "predictions.show()"
   ]
  },
  {
   "cell_type": "code",
   "execution_count": 33,
   "metadata": {},
   "outputs": [
    {
     "data": {
      "application/vnd.jupyter.widget-view+json": {
       "model_id": "",
       "version_major": 2,
       "version_minor": 0
      },
      "text/plain": [
       "FloatProgress(value=0.0, bar_style='info', description='Progress:', layout=Layout(height='25px', width='50%'),…"
      ]
     },
     "metadata": {},
     "output_type": "display_data"
    },
    {
     "name": "stdout",
     "output_type": "stream",
     "text": [
      "Test AUC: 0.6982"
     ]
    }
   ],
   "source": [
    "# Print the Area Under ROC Curve (AUC) value\n",
    "print(\"Test AUC: {:.4f}\".format(binaryAUC))"
   ]
  },
  {
   "cell_type": "code",
   "execution_count": 35,
   "metadata": {},
   "outputs": [
    {
     "data": {
      "application/vnd.jupyter.widget-view+json": {
       "model_id": "",
       "version_major": 2,
       "version_minor": 0
      },
      "text/plain": [
       "FloatProgress(value=0.0, bar_style='info', description='Progress:', layout=Layout(height='25px', width='50%'),…"
      ]
     },
     "metadata": {},
     "output_type": "display_data"
    },
    {
     "name": "stdout",
     "output_type": "stream",
     "text": [
      "Train AUC: 0.6662"
     ]
    }
   ],
   "source": [
    "# Train AUC\n",
    "train_predictions = bestModel.transform(train)\n",
    "train_binaryAUC = evaluator.evaluate(train_predictions)\n",
    "print(\"Train AUC: {:.4f}\".format(train_binaryAUC))"
   ]
  },
  {
   "cell_type": "markdown",
   "metadata": {},
   "source": [
    "### Accuracy score"
   ]
  },
  {
   "cell_type": "code",
   "execution_count": 37,
   "metadata": {},
   "outputs": [
    {
     "data": {
      "application/vnd.jupyter.widget-view+json": {
       "model_id": "",
       "version_major": 2,
       "version_minor": 0
      },
      "text/plain": [
       "FloatProgress(value=0.0, bar_style='info', description='Progress:', layout=Layout(height='25px', width='50%'),…"
      ]
     },
     "metadata": {},
     "output_type": "display_data"
    },
    {
     "name": "stdout",
     "output_type": "stream",
     "text": [
      "Test accuracy: 0.6460"
     ]
    }
   ],
   "source": [
    "from pyspark.ml.evaluation import MulticlassClassificationEvaluator\n",
    "\n",
    "# Evaluate the model using the evaluator (test accuracy)\n",
    "acc_evaluator = MulticlassClassificationEvaluator(labelCol='vp_dummy', metricName='accuracy')\n",
    "test_accuracy = acc_evaluator.evaluate(predictions)\n",
    "print(\"Test accuracy: {:.4f}\".format(test_accuracy))\n"
   ]
  },
  {
   "cell_type": "code",
   "execution_count": 32,
   "metadata": {},
   "outputs": [
    {
     "data": {
      "application/vnd.jupyter.widget-view+json": {
       "model_id": "",
       "version_major": 2,
       "version_minor": 0
      },
      "text/plain": [
       "FloatProgress(value=0.0, bar_style='info', description='Progress:', layout=Layout(height='25px', width='50%'),…"
      ]
     },
     "metadata": {},
     "output_type": "display_data"
    },
    {
     "name": "stdout",
     "output_type": "stream",
     "text": [
      "Train accuracy: 0.6662"
     ]
    }
   ],
   "source": [
    "# Evaluate the model using the evaluator (train accuracy)\n",
    "acc_evaluator = MulticlassClassificationEvaluator(labelCol='vp_dummy', metricName='accuracy')\n",
    "train_accuracy = acc_evaluator.evaluate(train_predictions)\n",
    "\n",
    "print(\"Train accuracy: {:.4f}\".format(train_accuracy))\n"
   ]
  },
  {
   "cell_type": "markdown",
   "metadata": {},
   "source": [
    "### F1 score"
   ]
  },
  {
   "cell_type": "code",
   "execution_count": 31,
   "metadata": {},
   "outputs": [
    {
     "data": {
      "application/vnd.jupyter.widget-view+json": {
       "model_id": "",
       "version_major": 2,
       "version_minor": 0
      },
      "text/plain": [
       "FloatProgress(value=0.0, bar_style='info', description='Progress:', layout=Layout(height='25px', width='50%'),…"
      ]
     },
     "metadata": {},
     "output_type": "display_data"
    }
   ],
   "source": [
    "# Evaluate the model using the evaluator (f1)\n",
    "f1_evaluator = MulticlassClassificationEvaluator(labelCol='vp_dummy', metricName='f1')\n",
    "f1 = f1_evaluator.evaluate(predictions)\n"
   ]
  },
  {
   "cell_type": "code",
   "execution_count": 38,
   "metadata": {},
   "outputs": [
    {
     "data": {
      "application/vnd.jupyter.widget-view+json": {
       "model_id": "",
       "version_major": 2,
       "version_minor": 0
      },
      "text/plain": [
       "FloatProgress(value=0.0, bar_style='info', description='Progress:', layout=Layout(height='25px', width='50%'),…"
      ]
     },
     "metadata": {},
     "output_type": "display_data"
    },
    {
     "name": "stdout",
     "output_type": "stream",
     "text": [
      "Test F1: 0.6383"
     ]
    }
   ],
   "source": [
    "print(\"Test F1: {:.4f}\".format(f1))"
   ]
  },
  {
   "cell_type": "code",
   "execution_count": 39,
   "metadata": {},
   "outputs": [
    {
     "data": {
      "application/vnd.jupyter.widget-view+json": {
       "model_id": "",
       "version_major": 2,
       "version_minor": 0
      },
      "text/plain": [
       "FloatProgress(value=0.0, bar_style='info', description='Progress:', layout=Layout(height='25px', width='50%'),…"
      ]
     },
     "metadata": {},
     "output_type": "display_data"
    },
    {
     "name": "stdout",
     "output_type": "stream",
     "text": [
      "Train F1: 0.6083"
     ]
    }
   ],
   "source": [
    "train_f1 = f1_evaluator.evaluate(train_predictions)\n",
    "print(\"Train F1: {:.4f}\".format(train_f1))"
   ]
  },
  {
   "cell_type": "markdown",
   "metadata": {},
   "source": [
    "### Plot ROC curve"
   ]
  },
  {
   "cell_type": "code",
   "execution_count": 41,
   "metadata": {},
   "outputs": [
    {
     "data": {
      "application/vnd.jupyter.widget-view+json": {
       "model_id": "",
       "version_major": 2,
       "version_minor": 0
      },
      "text/plain": [
       "FloatProgress(value=0.0, bar_style='info', description='Progress:', layout=Layout(height='25px', width='50%'),…"
      ]
     },
     "metadata": {},
     "output_type": "display_data"
    }
   ],
   "source": [
    "raw_predictions = predictions.select('vp_dummy', 'rawPrediction')\n",
    "\n",
    "# Convert the raw prediction values to (probability, label) tuples:\n",
    "convert_predictions = raw_predictions.rdd.map(lambda row: (float(row['rawPrediction'][1]), float(row['vp_dummy'])))\n",
    "\n",
    "# Sort the predictions by probability in descending order\n",
    "sorted_predictions = convert_predictions.sortBy(lambda x: x[0], ascending=False)\n",
    "\n",
    "# Count the positive and negative instances in the test data\n",
    "total_positive = sorted_predictions.filter(lambda x: x[1] == 1.0).count()\n",
    "total_negative = sorted_predictions.filter(lambda x: x[1] == 0.0).count()\n",
    "\n",
    "\n",
    "# Initialize variables to store the true positive rate (TPR) and false positive rate (FPR)\n",
    "tpr_values = []\n",
    "fpr_values = []\n",
    "tp = 0\n",
    "fp = 0\n",
    "\n",
    "# Compute TPR and FPR at different probability thresholds\n",
    "for prob, label in sorted_predictions.collect():\n",
    "    if label == 1.0:\n",
    "        tp += 1\n",
    "    else:\n",
    "        fp += 1\n",
    "    tpr = tp / total_positive\n",
    "    fpr = fp / total_negative\n",
    "    tpr_values.append(tpr)\n",
    "    fpr_values.append(fpr)\n"
   ]
  },
  {
   "cell_type": "code",
   "execution_count": 40,
   "metadata": {},
   "outputs": [
    {
     "data": {
      "application/vnd.jupyter.widget-view+json": {
       "model_id": "",
       "version_major": 2,
       "version_minor": 0
      },
      "text/plain": [
       "FloatProgress(value=0.0, bar_style='info', description='Progress:', layout=Layout(height='25px', width='50%'),…"
      ]
     },
     "metadata": {},
     "output_type": "display_data"
    },
    {
     "data": {
      "image/png": "[encoded data removed]",
      "text/plain": [
       "<IPython.core.display.Image object>"
      ]
     },
     "metadata": {},
     "output_type": "display_data"
    }
   ],
   "source": [
    "import matplotlib.pyplot as plt\n",
    "\n",
    "# Plot the ROC curve\n",
    "plt.plot(fpr_values, tpr_values, 'b', label = 'AUC = 0.6982')\n",
    "plt.plot([0, 1], [0, 1],'r--')\n",
    "plt.xlim([0, 1])\n",
    "plt.ylim([0, 1])\n",
    "plt.legend(loc = 'lower right')\n",
    "plt.xlabel('False Positive Rate')\n",
    "plt.ylabel('True Positive Rate')\n",
    "plt.title('ROC Curve')\n",
    "plt.show()\n",
    "\n",
    "%matplot plt"
   ]
  },
  {
   "cell_type": "markdown",
   "metadata": {},
   "source": [
    "### Confusion matrix"
   ]
  },
  {
   "cell_type": "code",
   "execution_count": 59,
   "metadata": {},
   "outputs": [
    {
     "data": {
      "application/vnd.jupyter.widget-view+json": {
       "model_id": "",
       "version_major": 2,
       "version_minor": 0
      },
      "text/plain": [
       "FloatProgress(value=0.0, bar_style='info', description='Progress:', layout=Layout(height='25px', width='50%'),…"
      ]
     },
     "metadata": {},
     "output_type": "display_data"
    },
    {
     "name": "stdout",
     "output_type": "stream",
     "text": [
      "+--------+----------+-----+\n",
      "|vp_dummy|prediction|count|\n",
      "+--------+----------+-----+\n",
      "|       0|       0.0|   80|\n",
      "|       0|       1.0|   80|\n",
      "|       1|       0.0|   34|\n",
      "|       1|       1.0|  128|\n",
      "+--------+----------+-----+"
     ]
    }
   ],
   "source": [
    "confusion_matrix = predictions.groupBy('vp_dummy', 'prediction').count().orderBy('vp_dummy', 'prediction')\n",
    "confusion_matrix.show()\n"
   ]
  },
  {
   "cell_type": "code",
   "execution_count": null,
   "metadata": {},
   "outputs": [],
   "source": []
  },
  {
   "cell_type": "markdown",
   "metadata": {},
   "source": [
    "## DecisionTreeClassifier "
   ]
  },
  {
   "cell_type": "code",
   "execution_count": 23,
   "metadata": {},
   "outputs": [
    {
     "data": {
      "application/vnd.jupyter.widget-view+json": {
       "model_id": "",
       "version_major": 2,
       "version_minor": 0
      },
      "text/plain": [
       "FloatProgress(value=0.0, bar_style='info', description='Progress:', layout=Layout(height='25px', width='50%'),…"
      ]
     },
     "metadata": {},
     "output_type": "display_data"
    }
   ],
   "source": [
    "from pyspark.ml.classification import DecisionTreeClassifier\n",
    "from pyspark.ml.evaluation import BinaryClassificationEvaluator\n",
    "from pyspark.ml.tuning import CrossValidator, ParamGridBuilder\n",
    "import numpy as np \n",
    "from pyspark.ml.evaluation import MulticlassClassificationEvaluator\n",
    "evaluator = BinaryClassificationEvaluator(labelCol='vp_dummy', metricName='areaUnderROC')\n",
    "\n",
    "decision_tree = DecisionTreeClassifier(labelCol='vp_dummy',\n",
    "                                       featuresCol='features')\n",
    "pipeline_dt = Pipeline(stages=[vector_assembler, decision_tree])\n",
    "\n",
    "param_grid = ParamGridBuilder() \\\n",
    "    .addGrid(decision_tree.maxDepth, [2, 5, 10]) \\\n",
    "    .addGrid(decision_tree.impurity, [\"gini\", \"entropy\"]) \\\n",
    "    .addGrid(decision_tree.minInstancesPerNode, [1, 10, 100]) \\\n",
    "    .build()\n",
    "\n",
    "# evaluator \n",
    "evaluator = BinaryClassificationEvaluator(labelCol='vp_dummy', metricName='areaUnderROC')\n",
    "\n",
    "cross_validator = CrossValidator(estimator=pipeline_dt,\n",
    "                                estimatorParamMaps=param_grid,\n",
    "                                evaluator=evaluator,\n",
    "                                numFolds=5)\n",
    "cv_model = cross_validator.fit(train)\n"
   ]
  },
  {
   "cell_type": "code",
   "execution_count": 24,
   "metadata": {},
   "outputs": [
    {
     "data": {
      "application/vnd.jupyter.widget-view+json": {
       "model_id": "",
       "version_major": 2,
       "version_minor": 0
      },
      "text/plain": [
       "FloatProgress(value=0.0, bar_style='info', description='Progress:', layout=Layout(height='25px', width='50%'),…"
      ]
     },
     "metadata": {},
     "output_type": "display_data"
    },
    {
     "name": "stdout",
     "output_type": "stream",
     "text": [
      "Best Parameters:\n",
      "cacheNodeIds: False\n",
      "checkpointInterval: 10\n",
      "featuresCol: features\n",
      "impurity: entropy\n",
      "labelCol: vp_dummy\n",
      "leafCol: \n",
      "maxBins: 32\n",
      "maxDepth: 5\n",
      "maxMemoryInMB: 256\n",
      "minInfoGain: 0.0\n",
      "minInstancesPerNode: 1\n",
      "minWeightFractionPerNode: 0.0\n",
      "predictionCol: prediction\n",
      "probabilityCol: probability\n",
      "rawPredictionCol: rawPrediction\n",
      "seed: 956191873026065186"
     ]
    }
   ],
   "source": [
    "# Get the best model from cross-validation\n",
    "dt_bestModel = cv_model.bestModel\n",
    "\n",
    "# Print the best parameters\n",
    "dt_bestParams = dt_bestModel.stages[-1].extractParamMap()\n",
    "print(\"Best Parameters:\")\n",
    "for dt_param, dt_value in dt_bestParams.items():\n",
    "    print(f\"{dt_param.name}: {dt_value}\")"
   ]
  },
  {
   "cell_type": "code",
   "execution_count": 26,
   "metadata": {},
   "outputs": [
    {
     "data": {
      "application/vnd.jupyter.widget-view+json": {
       "model_id": "",
       "version_major": 2,
       "version_minor": 0
      },
      "text/plain": [
       "FloatProgress(value=0.0, bar_style='info', description='Progress:', layout=Layout(height='25px', width='50%'),…"
      ]
     },
     "metadata": {},
     "output_type": "display_data"
    }
   ],
   "source": [
    "# Evaluate the model on the test data\n",
    "dt_predictions = dt_bestModel.transform(test)\n",
    "dt_binaryAUC = evaluator.evaluate(dt_predictions)"
   ]
  },
  {
   "cell_type": "markdown",
   "metadata": {},
   "source": [
    "### AUC Score"
   ]
  },
  {
   "cell_type": "code",
   "execution_count": 27,
   "metadata": {},
   "outputs": [
    {
     "data": {
      "application/vnd.jupyter.widget-view+json": {
       "model_id": "",
       "version_major": 2,
       "version_minor": 0
      },
      "text/plain": [
       "FloatProgress(value=0.0, bar_style='info', description='Progress:', layout=Layout(height='25px', width='50%'),…"
      ]
     },
     "metadata": {},
     "output_type": "display_data"
    },
    {
     "name": "stdout",
     "output_type": "stream",
     "text": [
      "Test AUC: 0.7348"
     ]
    }
   ],
   "source": [
    "# Print the Area Under ROC Curve (AUC) value\n",
    "print(\"Test AUC: {:.4f}\".format(dt_binaryAUC))"
   ]
  },
  {
   "cell_type": "code",
   "execution_count": 29,
   "metadata": {},
   "outputs": [
    {
     "data": {
      "application/vnd.jupyter.widget-view+json": {
       "model_id": "",
       "version_major": 2,
       "version_minor": 0
      },
      "text/plain": [
       "FloatProgress(value=0.0, bar_style='info', description='Progress:', layout=Layout(height='25px', width='50%'),…"
      ]
     },
     "metadata": {},
     "output_type": "display_data"
    },
    {
     "name": "stdout",
     "output_type": "stream",
     "text": [
      "Train AUC: 0.7176"
     ]
    }
   ],
   "source": [
    "# Train AUC\n",
    "dt_train_predictions = dt_bestModel.transform(train)\n",
    "dt_train_binaryAUC = evaluator.evaluate(dt_train_predictions)\n",
    "print(\"Train AUC: {:.4f}\".format(dt_train_binaryAUC))"
   ]
  },
  {
   "cell_type": "markdown",
   "metadata": {},
   "source": [
    "### Accuracy Score"
   ]
  },
  {
   "cell_type": "code",
   "execution_count": 30,
   "metadata": {},
   "outputs": [
    {
     "data": {
      "application/vnd.jupyter.widget-view+json": {
       "model_id": "",
       "version_major": 2,
       "version_minor": 0
      },
      "text/plain": [
       "FloatProgress(value=0.0, bar_style='info', description='Progress:', layout=Layout(height='25px', width='50%'),…"
      ]
     },
     "metadata": {},
     "output_type": "display_data"
    },
    {
     "name": "stdout",
     "output_type": "stream",
     "text": [
      "Test accuracy: 0.6465"
     ]
    }
   ],
   "source": [
    "# Evaluate the model using the evaluator (test accuracy)\n",
    "from pyspark.ml.evaluation import MulticlassClassificationEvaluator\n",
    "dt_acc_evaluator = MulticlassClassificationEvaluator(labelCol='vp_dummy', metricName='accuracy')\n",
    "dt_test_accuracy = dt_acc_evaluator.evaluate(dt_predictions)\n",
    "print(\"Test accuracy: {:.4f}\".format(dt_test_accuracy))\n",
    "\n"
   ]
  },
  {
   "cell_type": "code",
   "execution_count": 59,
   "metadata": {},
   "outputs": [
    {
     "data": {
      "application/vnd.jupyter.widget-view+json": {
       "model_id": "",
       "version_major": 2,
       "version_minor": 0
      },
      "text/plain": [
       "FloatProgress(value=0.0, bar_style='info', description='Progress:', layout=Layout(height='25px', width='50%'),…"
      ]
     },
     "metadata": {},
     "output_type": "display_data"
    },
    {
     "name": "stdout",
     "output_type": "stream",
     "text": [
      "Train accuracy: 0.6776"
     ]
    }
   ],
   "source": [
    "# Evaluate the model using the evaluator (train accuracy)\n",
    "dt_acc_evaluator = MulticlassClassificationEvaluator(labelCol='vp_dummy', metricName='accuracy')\n",
    "dt_train_accuracy = dt_acc_evaluator.evaluate(dt_train_predictions)\n",
    "\n",
    "print(\"Train accuracy: {:.4f}\".format(dt_train_accuracy))\n"
   ]
  },
  {
   "cell_type": "markdown",
   "metadata": {},
   "source": [
    "### Plot ROC curve"
   ]
  },
  {
   "cell_type": "code",
   "execution_count": 31,
   "metadata": {},
   "outputs": [
    {
     "data": {
      "application/vnd.jupyter.widget-view+json": {
       "model_id": "",
       "version_major": 2,
       "version_minor": 0
      },
      "text/plain": [
       "FloatProgress(value=0.0, bar_style='info', description='Progress:', layout=Layout(height='25px', width='50%'),…"
      ]
     },
     "metadata": {},
     "output_type": "display_data"
    }
   ],
   "source": [
    "dt_raw_predictions = dt_predictions.select('vp_dummy', 'rawPrediction')\n",
    "\n",
    "# Convert the raw prediction values to (probability, label) tuples:\n",
    "dt_convert_predictions = dt_raw_predictions.rdd.map(lambda row: (float(row['rawPrediction'][1]), float(row['vp_dummy'])))\n",
    "\n",
    "# Sort the predictions by probability in descending order\n",
    "dt_sorted_predictions = dt_convert_predictions.sortBy(lambda x: x[0], ascending=False)\n",
    "\n",
    "# Count the positive and negative instances in the test data\n",
    "dt_total_positive = dt_sorted_predictions.filter(lambda x: x[1] == 1.0).count()\n",
    "dt_total_negative = dt_sorted_predictions.filter(lambda x: x[1] == 0.0).count()\n",
    "\n",
    "\n",
    "# Initialize variables to store the true positive rate (TPR) and false positive rate (FPR)\n",
    "dt_tpr_values = []\n",
    "dt_fpr_values = []\n",
    "dt_tp = 0\n",
    "dt_fp = 0\n",
    "\n",
    "# Compute TPR and FPR at different probability thresholds\n",
    "for dt_prob, dt_label in dt_sorted_predictions.collect():\n",
    "    if dt_label == 1.0:\n",
    "        dt_tp += 1\n",
    "    else:\n",
    "        dt_fp += 1\n",
    "    dt_tpr = dt_tp / dt_total_positive\n",
    "    dt_fpr = dt_fp / dt_total_negative\n",
    "    dt_tpr_values.append(dt_tpr)\n",
    "    dt_fpr_values.append(dt_fpr)\n"
   ]
  },
  {
   "cell_type": "code",
   "execution_count": 34,
   "metadata": {},
   "outputs": [
    {
     "data": {
      "application/vnd.jupyter.widget-view+json": {
       "model_id": "",
       "version_major": 2,
       "version_minor": 0
      },
      "text/plain": [
       "FloatProgress(value=0.0, bar_style='info', description='Progress:', layout=Layout(height='25px', width='50%'),…"
      ]
     },
     "metadata": {},
     "output_type": "display_data"
    },
    {
     "data": {
      "image/png": "[encoded data removed]",
      "text/plain": [
       "<IPython.core.display.Image object>"
      ]
     },
     "metadata": {},
     "output_type": "display_data"
    }
   ],
   "source": [
    "import matplotlib.pyplot as plt\n",
    "\n",
    "# Plot the ROC curve\n",
    "plt.plot(dt_fpr_values, dt_tpr_values, 'b', label = 'AUC = 0.7348')\n",
    "plt.plot([0, 1], [0, 1],'r--')\n",
    "plt.xlim([0, 1])\n",
    "plt.ylim([0, 1])\n",
    "plt.legend(loc = 'lower right')\n",
    "plt.xlabel('False Positive Rate')\n",
    "plt.ylabel('True Positive Rate')\n",
    "plt.title('ROC Curve')\n",
    "plt.show()\n",
    "\n",
    "%matplot plt"
   ]
  },
  {
   "cell_type": "code",
   "execution_count": null,
   "metadata": {},
   "outputs": [],
   "source": []
  }
 ],
 "metadata": {
  "kernelspec": {
   "display_name": "PySpark",
   "language": "",
   "name": "pysparkkernel"
  },
  "language_info": {
   "codemirror_mode": {
    "name": "python",
    "version": 3
   },
   "mimetype": "text/x-python",
   "name": "pyspark",
   "pygments_lexer": "python3"
  }
 },
 "nbformat": 4,
 "nbformat_minor": 4
}
